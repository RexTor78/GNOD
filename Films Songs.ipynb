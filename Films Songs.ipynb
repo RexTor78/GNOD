{
 "cells": [
  {
   "cell_type": "markdown",
   "metadata": {},
   "source": [
    "## Films Songs\n"
   ]
  },
  {
   "cell_type": "code",
   "execution_count": 1,
   "metadata": {},
   "outputs": [],
   "source": [
    "import spotipy \n",
    "from spotipy.oauth2 import SpotifyClientCredentials"
   ]
  },
  {
   "cell_type": "code",
   "execution_count": 2,
   "metadata": {},
   "outputs": [
    {
     "name": "stdout",
     "output_type": "stream",
     "text": [
      "client_id?········\n",
      "client_secret?········\n"
     ]
    }
   ],
   "source": [
    "import getpass\n",
    "client_id=str(getpass.getpass('client_id?'))\n",
    "client_secret=str(getpass.getpass('client_secret?'))"
   ]
  },
  {
   "cell_type": "code",
   "execution_count": 3,
   "metadata": {},
   "outputs": [],
   "source": [
    "sp = spotipy.Spotify(auth_manager=SpotifyClientCredentials(client_id=client_id, client_secret=client_secret))\n",
    "filmlist = sp.user_playlist_tracks(\"rex\", \"2zJFGfsW1VXi1TBT9h9QNN\")"
   ]
  },
  {
   "cell_type": "code",
   "execution_count": null,
   "metadata": {},
   "outputs": [],
   "source": [
    "filmlist"
   ]
  },
  {
   "cell_type": "code",
   "execution_count": null,
   "metadata": {},
   "outputs": [],
   "source": [
    "filmlist['items'][0]['track']['album'].keys()"
   ]
  },
  {
   "cell_type": "code",
   "execution_count": null,
   "metadata": {},
   "outputs": [],
   "source": [
    "filmlist['items'][50]['track']['album']['name']"
   ]
  },
  {
   "cell_type": "code",
   "execution_count": null,
   "metadata": {},
   "outputs": [],
   "source": [
    "filmlist['items'][50]['track']['name']\n"
   ]
  },
  {
   "cell_type": "code",
   "execution_count": null,
   "metadata": {},
   "outputs": [],
   "source": [
    "filmlist['items'][0]['track']['id']"
   ]
  },
  {
   "cell_type": "code",
   "execution_count": 4,
   "metadata": {},
   "outputs": [],
   "source": [
    "filmlist_id=[]\n",
    "for item in filmlist['items']:\n",
    "    filmlist_id.append(item['track']['id'])"
   ]
  },
  {
   "cell_type": "code",
   "execution_count": null,
   "metadata": {
    "scrolled": true
   },
   "outputs": [],
   "source": [
    "filmlist_id"
   ]
  },
  {
   "cell_type": "code",
   "execution_count": null,
   "metadata": {},
   "outputs": [],
   "source": [
    "sp.audio_features('1ENnpCRfGWQLVGL9pEyVao')"
   ]
  },
  {
   "cell_type": "code",
   "execution_count": 5,
   "metadata": {
    "scrolled": true
   },
   "outputs": [],
   "source": [
    "def get_playlist_tracks(user_id,playlist_id):\n",
    "    results = sp.user_playlist_tracks(user_id, playlist_id)\n",
    "    tracks = results['items']\n",
    "    while results['next']:\n",
    "        results = sp.next(results)\n",
    "        tracks.extend(results['items'])\n",
    "    return tracks\n",
    "\n",
    "full_filmlist= get_playlist_tracks('rex', \"2zJFGfsW1VXi1TBT9h9QNN\")"
   ]
  },
  {
   "cell_type": "code",
   "execution_count": null,
   "metadata": {},
   "outputs": [],
   "source": [
    "len(full_filmlist)"
   ]
  },
  {
   "cell_type": "code",
   "execution_count": null,
   "metadata": {
    "scrolled": true
   },
   "outputs": [],
   "source": [
    "full_filmlist"
   ]
  },
  {
   "cell_type": "code",
   "execution_count": null,
   "metadata": {
    "scrolled": true
   },
   "outputs": [],
   "source": [
    "full_filmlist[0]['track'].keys()"
   ]
  },
  {
   "cell_type": "code",
   "execution_count": null,
   "metadata": {},
   "outputs": [],
   "source": [
    "full_filmlist[300]['track']['name']"
   ]
  },
  {
   "cell_type": "code",
   "execution_count": 6,
   "metadata": {},
   "outputs": [],
   "source": [
    "song=[]\n",
    "for x in full_filmlist:\n",
    "    song.append(x['track']['name'])"
   ]
  },
  {
   "cell_type": "code",
   "execution_count": null,
   "metadata": {},
   "outputs": [],
   "source": [
    "len(song)"
   ]
  },
  {
   "cell_type": "code",
   "execution_count": null,
   "metadata": {},
   "outputs": [],
   "source": [
    "full_filmlist[300]['track']['id']"
   ]
  },
  {
   "cell_type": "code",
   "execution_count": 7,
   "metadata": {},
   "outputs": [],
   "source": [
    "ids=[]\n",
    "for x in full_filmlist:\n",
    "    ids.append(x['track']['id'])"
   ]
  },
  {
   "cell_type": "code",
   "execution_count": null,
   "metadata": {},
   "outputs": [],
   "source": [
    "len(ids)"
   ]
  },
  {
   "cell_type": "code",
   "execution_count": null,
   "metadata": {},
   "outputs": [],
   "source": [
    "ids"
   ]
  },
  {
   "cell_type": "code",
   "execution_count": null,
   "metadata": {},
   "outputs": [],
   "source": [
    "full_filmlist[300]['track']['album']['name']"
   ]
  },
  {
   "cell_type": "code",
   "execution_count": 8,
   "metadata": {},
   "outputs": [],
   "source": [
    "film=[]\n",
    "for x in full_filmlist:\n",
    "    film.append(x['track']['album']['name'])"
   ]
  },
  {
   "cell_type": "code",
   "execution_count": null,
   "metadata": {},
   "outputs": [],
   "source": [
    "len(film)"
   ]
  },
  {
   "cell_type": "code",
   "execution_count": null,
   "metadata": {},
   "outputs": [],
   "source": [
    "full_filmlist[2500]['track']['href']"
   ]
  },
  {
   "cell_type": "code",
   "execution_count": 9,
   "metadata": {},
   "outputs": [],
   "source": [
    "link=[]\n",
    "for x in full_filmlist:\n",
    "    link.append(x['track']['href'])"
   ]
  },
  {
   "cell_type": "code",
   "execution_count": null,
   "metadata": {},
   "outputs": [],
   "source": [
    "len(link)"
   ]
  },
  {
   "cell_type": "code",
   "execution_count": 10,
   "metadata": {},
   "outputs": [],
   "source": [
    "features = []\n",
    "for id in ids:\n",
    "    #sleep(0.25)\n",
    "    audio = sp.audio_features(tracks=id)\n",
    "    features.append(audio[0])"
   ]
  },
  {
   "cell_type": "code",
   "execution_count": null,
   "metadata": {},
   "outputs": [],
   "source": [
    "len(features)\n"
   ]
  },
  {
   "cell_type": "code",
   "execution_count": null,
   "metadata": {},
   "outputs": [],
   "source": [
    "features"
   ]
  },
  {
   "cell_type": "code",
   "execution_count": 11,
   "metadata": {},
   "outputs": [],
   "source": [
    "import pandas as pd\n",
    "dfea=pd.DataFrame(features)"
   ]
  },
  {
   "cell_type": "code",
   "execution_count": 12,
   "metadata": {},
   "outputs": [
    {
     "data": {
      "text/html": [
       "<div>\n",
       "<style scoped>\n",
       "    .dataframe tbody tr th:only-of-type {\n",
       "        vertical-align: middle;\n",
       "    }\n",
       "\n",
       "    .dataframe tbody tr th {\n",
       "        vertical-align: top;\n",
       "    }\n",
       "\n",
       "    .dataframe thead th {\n",
       "        text-align: right;\n",
       "    }\n",
       "</style>\n",
       "<table border=\"1\" class=\"dataframe\">\n",
       "  <thead>\n",
       "    <tr style=\"text-align: right;\">\n",
       "      <th></th>\n",
       "      <th>danceability</th>\n",
       "      <th>energy</th>\n",
       "      <th>key</th>\n",
       "      <th>loudness</th>\n",
       "      <th>mode</th>\n",
       "      <th>speechiness</th>\n",
       "      <th>acousticness</th>\n",
       "      <th>instrumentalness</th>\n",
       "      <th>liveness</th>\n",
       "      <th>valence</th>\n",
       "      <th>tempo</th>\n",
       "      <th>type</th>\n",
       "      <th>id</th>\n",
       "      <th>uri</th>\n",
       "      <th>track_href</th>\n",
       "      <th>analysis_url</th>\n",
       "      <th>duration_ms</th>\n",
       "      <th>time_signature</th>\n",
       "    </tr>\n",
       "  </thead>\n",
       "  <tbody>\n",
       "    <tr>\n",
       "      <th>0</th>\n",
       "      <td>0.491</td>\n",
       "      <td>0.2720</td>\n",
       "      <td>2</td>\n",
       "      <td>-11.627</td>\n",
       "      <td>1</td>\n",
       "      <td>0.0283</td>\n",
       "      <td>0.874</td>\n",
       "      <td>0.000563</td>\n",
       "      <td>0.1270</td>\n",
       "      <td>0.1010</td>\n",
       "      <td>111.642</td>\n",
       "      <td>audio_features</td>\n",
       "      <td>1ENnpCRfGWQLVGL9pEyVao</td>\n",
       "      <td>spotify:track:1ENnpCRfGWQLVGL9pEyVao</td>\n",
       "      <td>https://api.spotify.com/v1/tracks/1ENnpCRfGWQL...</td>\n",
       "      <td>https://api.spotify.com/v1/audio-analysis/1ENn...</td>\n",
       "      <td>247385</td>\n",
       "      <td>4</td>\n",
       "    </tr>\n",
       "    <tr>\n",
       "      <th>1</th>\n",
       "      <td>0.278</td>\n",
       "      <td>0.0675</td>\n",
       "      <td>0</td>\n",
       "      <td>-20.946</td>\n",
       "      <td>1</td>\n",
       "      <td>0.0400</td>\n",
       "      <td>0.970</td>\n",
       "      <td>0.732000</td>\n",
       "      <td>0.0812</td>\n",
       "      <td>0.1120</td>\n",
       "      <td>82.626</td>\n",
       "      <td>audio_features</td>\n",
       "      <td>7iocNjLrxPHLl8njgRlv5U</td>\n",
       "      <td>spotify:track:7iocNjLrxPHLl8njgRlv5U</td>\n",
       "      <td>https://api.spotify.com/v1/tracks/7iocNjLrxPHL...</td>\n",
       "      <td>https://api.spotify.com/v1/audio-analysis/7ioc...</td>\n",
       "      <td>250573</td>\n",
       "      <td>3</td>\n",
       "    </tr>\n",
       "    <tr>\n",
       "      <th>2</th>\n",
       "      <td>0.255</td>\n",
       "      <td>0.1740</td>\n",
       "      <td>9</td>\n",
       "      <td>-19.217</td>\n",
       "      <td>1</td>\n",
       "      <td>0.0379</td>\n",
       "      <td>0.805</td>\n",
       "      <td>0.009110</td>\n",
       "      <td>0.3350</td>\n",
       "      <td>0.0829</td>\n",
       "      <td>80.707</td>\n",
       "      <td>audio_features</td>\n",
       "      <td>2AILbz83cBnrAMAG06rZts</td>\n",
       "      <td>spotify:track:2AILbz83cBnrAMAG06rZts</td>\n",
       "      <td>https://api.spotify.com/v1/tracks/2AILbz83cBnr...</td>\n",
       "      <td>https://api.spotify.com/v1/audio-analysis/2AIL...</td>\n",
       "      <td>146760</td>\n",
       "      <td>4</td>\n",
       "    </tr>\n",
       "    <tr>\n",
       "      <th>3</th>\n",
       "      <td>0.272</td>\n",
       "      <td>0.1640</td>\n",
       "      <td>1</td>\n",
       "      <td>-17.040</td>\n",
       "      <td>1</td>\n",
       "      <td>0.0460</td>\n",
       "      <td>0.929</td>\n",
       "      <td>0.001100</td>\n",
       "      <td>0.1090</td>\n",
       "      <td>0.2280</td>\n",
       "      <td>81.551</td>\n",
       "      <td>audio_features</td>\n",
       "      <td>1OYOLWqKmhkFIx2KC9ek1a</td>\n",
       "      <td>spotify:track:1OYOLWqKmhkFIx2KC9ek1a</td>\n",
       "      <td>https://api.spotify.com/v1/tracks/1OYOLWqKmhkF...</td>\n",
       "      <td>https://api.spotify.com/v1/audio-analysis/1OYO...</td>\n",
       "      <td>214400</td>\n",
       "      <td>3</td>\n",
       "    </tr>\n",
       "    <tr>\n",
       "      <th>4</th>\n",
       "      <td>0.378</td>\n",
       "      <td>0.3520</td>\n",
       "      <td>3</td>\n",
       "      <td>-8.745</td>\n",
       "      <td>1</td>\n",
       "      <td>0.0354</td>\n",
       "      <td>0.812</td>\n",
       "      <td>0.000005</td>\n",
       "      <td>0.1060</td>\n",
       "      <td>0.3060</td>\n",
       "      <td>139.491</td>\n",
       "      <td>audio_features</td>\n",
       "      <td>2P8QqrZ42YNP8Ao5uRMLO0</td>\n",
       "      <td>spotify:track:2P8QqrZ42YNP8Ao5uRMLO0</td>\n",
       "      <td>https://api.spotify.com/v1/tracks/2P8QqrZ42YNP...</td>\n",
       "      <td>https://api.spotify.com/v1/audio-analysis/2P8Q...</td>\n",
       "      <td>115693</td>\n",
       "      <td>5</td>\n",
       "    </tr>\n",
       "  </tbody>\n",
       "</table>\n",
       "</div>"
      ],
      "text/plain": [
       "   danceability  energy  key  loudness  mode  speechiness  acousticness  \\\n",
       "0         0.491  0.2720    2   -11.627     1       0.0283         0.874   \n",
       "1         0.278  0.0675    0   -20.946     1       0.0400         0.970   \n",
       "2         0.255  0.1740    9   -19.217     1       0.0379         0.805   \n",
       "3         0.272  0.1640    1   -17.040     1       0.0460         0.929   \n",
       "4         0.378  0.3520    3    -8.745     1       0.0354         0.812   \n",
       "\n",
       "   instrumentalness  liveness  valence    tempo            type  \\\n",
       "0          0.000563    0.1270   0.1010  111.642  audio_features   \n",
       "1          0.732000    0.0812   0.1120   82.626  audio_features   \n",
       "2          0.009110    0.3350   0.0829   80.707  audio_features   \n",
       "3          0.001100    0.1090   0.2280   81.551  audio_features   \n",
       "4          0.000005    0.1060   0.3060  139.491  audio_features   \n",
       "\n",
       "                       id                                   uri  \\\n",
       "0  1ENnpCRfGWQLVGL9pEyVao  spotify:track:1ENnpCRfGWQLVGL9pEyVao   \n",
       "1  7iocNjLrxPHLl8njgRlv5U  spotify:track:7iocNjLrxPHLl8njgRlv5U   \n",
       "2  2AILbz83cBnrAMAG06rZts  spotify:track:2AILbz83cBnrAMAG06rZts   \n",
       "3  1OYOLWqKmhkFIx2KC9ek1a  spotify:track:1OYOLWqKmhkFIx2KC9ek1a   \n",
       "4  2P8QqrZ42YNP8Ao5uRMLO0  spotify:track:2P8QqrZ42YNP8Ao5uRMLO0   \n",
       "\n",
       "                                          track_href  \\\n",
       "0  https://api.spotify.com/v1/tracks/1ENnpCRfGWQL...   \n",
       "1  https://api.spotify.com/v1/tracks/7iocNjLrxPHL...   \n",
       "2  https://api.spotify.com/v1/tracks/2AILbz83cBnr...   \n",
       "3  https://api.spotify.com/v1/tracks/1OYOLWqKmhkF...   \n",
       "4  https://api.spotify.com/v1/tracks/2P8QqrZ42YNP...   \n",
       "\n",
       "                                        analysis_url  duration_ms  \\\n",
       "0  https://api.spotify.com/v1/audio-analysis/1ENn...       247385   \n",
       "1  https://api.spotify.com/v1/audio-analysis/7ioc...       250573   \n",
       "2  https://api.spotify.com/v1/audio-analysis/2AIL...       146760   \n",
       "3  https://api.spotify.com/v1/audio-analysis/1OYO...       214400   \n",
       "4  https://api.spotify.com/v1/audio-analysis/2P8Q...       115693   \n",
       "\n",
       "   time_signature  \n",
       "0               4  \n",
       "1               3  \n",
       "2               4  \n",
       "3               3  \n",
       "4               5  "
      ]
     },
     "execution_count": 12,
     "metadata": {},
     "output_type": "execute_result"
    }
   ],
   "source": [
    "dfea.head()"
   ]
  },
  {
   "cell_type": "code",
   "execution_count": null,
   "metadata": {},
   "outputs": [],
   "source": [
    "dfea.drop(['type'],axis=1,inplace=True)"
   ]
  },
  {
   "cell_type": "code",
   "execution_count": null,
   "metadata": {},
   "outputs": [],
   "source": [
    "dfea.head()"
   ]
  },
  {
   "cell_type": "code",
   "execution_count": null,
   "metadata": {},
   "outputs": [],
   "source": []
  },
  {
   "cell_type": "code",
   "execution_count": null,
   "metadata": {},
   "outputs": [],
   "source": [
    "dfea.to_csv('features.csv',index=False)"
   ]
  },
  {
   "cell_type": "code",
   "execution_count": 13,
   "metadata": {},
   "outputs": [],
   "source": [
    "dfeaclean=dfea.drop(['type','uri','track_href','analysis_url','id'],axis=1,inplace=True)"
   ]
  },
  {
   "cell_type": "code",
   "execution_count": 15,
   "metadata": {},
   "outputs": [
    {
     "data": {
      "text/html": [
       "<div>\n",
       "<style scoped>\n",
       "    .dataframe tbody tr th:only-of-type {\n",
       "        vertical-align: middle;\n",
       "    }\n",
       "\n",
       "    .dataframe tbody tr th {\n",
       "        vertical-align: top;\n",
       "    }\n",
       "\n",
       "    .dataframe thead th {\n",
       "        text-align: right;\n",
       "    }\n",
       "</style>\n",
       "<table border=\"1\" class=\"dataframe\">\n",
       "  <thead>\n",
       "    <tr style=\"text-align: right;\">\n",
       "      <th></th>\n",
       "      <th>danceability</th>\n",
       "      <th>energy</th>\n",
       "      <th>key</th>\n",
       "      <th>loudness</th>\n",
       "      <th>mode</th>\n",
       "      <th>speechiness</th>\n",
       "      <th>acousticness</th>\n",
       "      <th>instrumentalness</th>\n",
       "      <th>liveness</th>\n",
       "      <th>valence</th>\n",
       "      <th>tempo</th>\n",
       "      <th>duration_ms</th>\n",
       "      <th>time_signature</th>\n",
       "    </tr>\n",
       "  </thead>\n",
       "  <tbody>\n",
       "    <tr>\n",
       "      <th>0</th>\n",
       "      <td>0.491</td>\n",
       "      <td>0.2720</td>\n",
       "      <td>2</td>\n",
       "      <td>-11.627</td>\n",
       "      <td>1</td>\n",
       "      <td>0.0283</td>\n",
       "      <td>0.874</td>\n",
       "      <td>0.000563</td>\n",
       "      <td>0.1270</td>\n",
       "      <td>0.1010</td>\n",
       "      <td>111.642</td>\n",
       "      <td>247385</td>\n",
       "      <td>4</td>\n",
       "    </tr>\n",
       "    <tr>\n",
       "      <th>1</th>\n",
       "      <td>0.278</td>\n",
       "      <td>0.0675</td>\n",
       "      <td>0</td>\n",
       "      <td>-20.946</td>\n",
       "      <td>1</td>\n",
       "      <td>0.0400</td>\n",
       "      <td>0.970</td>\n",
       "      <td>0.732000</td>\n",
       "      <td>0.0812</td>\n",
       "      <td>0.1120</td>\n",
       "      <td>82.626</td>\n",
       "      <td>250573</td>\n",
       "      <td>3</td>\n",
       "    </tr>\n",
       "    <tr>\n",
       "      <th>2</th>\n",
       "      <td>0.255</td>\n",
       "      <td>0.1740</td>\n",
       "      <td>9</td>\n",
       "      <td>-19.217</td>\n",
       "      <td>1</td>\n",
       "      <td>0.0379</td>\n",
       "      <td>0.805</td>\n",
       "      <td>0.009110</td>\n",
       "      <td>0.3350</td>\n",
       "      <td>0.0829</td>\n",
       "      <td>80.707</td>\n",
       "      <td>146760</td>\n",
       "      <td>4</td>\n",
       "    </tr>\n",
       "    <tr>\n",
       "      <th>3</th>\n",
       "      <td>0.272</td>\n",
       "      <td>0.1640</td>\n",
       "      <td>1</td>\n",
       "      <td>-17.040</td>\n",
       "      <td>1</td>\n",
       "      <td>0.0460</td>\n",
       "      <td>0.929</td>\n",
       "      <td>0.001100</td>\n",
       "      <td>0.1090</td>\n",
       "      <td>0.2280</td>\n",
       "      <td>81.551</td>\n",
       "      <td>214400</td>\n",
       "      <td>3</td>\n",
       "    </tr>\n",
       "    <tr>\n",
       "      <th>4</th>\n",
       "      <td>0.378</td>\n",
       "      <td>0.3520</td>\n",
       "      <td>3</td>\n",
       "      <td>-8.745</td>\n",
       "      <td>1</td>\n",
       "      <td>0.0354</td>\n",
       "      <td>0.812</td>\n",
       "      <td>0.000005</td>\n",
       "      <td>0.1060</td>\n",
       "      <td>0.3060</td>\n",
       "      <td>139.491</td>\n",
       "      <td>115693</td>\n",
       "      <td>5</td>\n",
       "    </tr>\n",
       "  </tbody>\n",
       "</table>\n",
       "</div>"
      ],
      "text/plain": [
       "   danceability  energy  key  loudness  mode  speechiness  acousticness  \\\n",
       "0         0.491  0.2720    2   -11.627     1       0.0283         0.874   \n",
       "1         0.278  0.0675    0   -20.946     1       0.0400         0.970   \n",
       "2         0.255  0.1740    9   -19.217     1       0.0379         0.805   \n",
       "3         0.272  0.1640    1   -17.040     1       0.0460         0.929   \n",
       "4         0.378  0.3520    3    -8.745     1       0.0354         0.812   \n",
       "\n",
       "   instrumentalness  liveness  valence    tempo  duration_ms  time_signature  \n",
       "0          0.000563    0.1270   0.1010  111.642       247385               4  \n",
       "1          0.732000    0.0812   0.1120   82.626       250573               3  \n",
       "2          0.009110    0.3350   0.0829   80.707       146760               4  \n",
       "3          0.001100    0.1090   0.2280   81.551       214400               3  \n",
       "4          0.000005    0.1060   0.3060  139.491       115693               5  "
      ]
     },
     "execution_count": 15,
     "metadata": {},
     "output_type": "execute_result"
    }
   ],
   "source": [
    "dfea.head()"
   ]
  },
  {
   "cell_type": "code",
   "execution_count": 16,
   "metadata": {},
   "outputs": [],
   "source": [
    "dfea.to_csv('feat_clean.csv',index=False)"
   ]
  },
  {
   "cell_type": "code",
   "execution_count": null,
   "metadata": {},
   "outputs": [],
   "source": [
    "fs={'Song':song, 'Movie':film,'Link':link, 'id':ids}"
   ]
  },
  {
   "cell_type": "code",
   "execution_count": null,
   "metadata": {},
   "outputs": [],
   "source": [
    "fs"
   ]
  },
  {
   "cell_type": "code",
   "execution_count": null,
   "metadata": {},
   "outputs": [],
   "source": [
    "film_series=pd.DataFrame(fs)"
   ]
  },
  {
   "cell_type": "code",
   "execution_count": null,
   "metadata": {},
   "outputs": [],
   "source": [
    "film_series.head()"
   ]
  },
  {
   "cell_type": "code",
   "execution_count": null,
   "metadata": {},
   "outputs": [],
   "source": [
    "film_series.to_csv('film_series_only.csv',index=False)"
   ]
  },
  {
   "cell_type": "code",
   "execution_count": null,
   "metadata": {},
   "outputs": [],
   "source": [
    "film_series.shape"
   ]
  },
  {
   "cell_type": "code",
   "execution_count": null,
   "metadata": {},
   "outputs": [],
   "source": [
    "dfea.shape"
   ]
  },
  {
   "cell_type": "code",
   "execution_count": null,
   "metadata": {},
   "outputs": [],
   "source": [
    "dfea.dtypes"
   ]
  },
  {
   "cell_type": "code",
   "execution_count": null,
   "metadata": {},
   "outputs": [],
   "source": [
    "film_series.dtypes"
   ]
  },
  {
   "cell_type": "code",
   "execution_count": null,
   "metadata": {},
   "outputs": [],
   "source": [
    "film_series=pd.merge(film_series,dfea, on='id', how='outer')"
   ]
  },
  {
   "cell_type": "code",
   "execution_count": null,
   "metadata": {},
   "outputs": [],
   "source": [
    "film_series.head()"
   ]
  },
  {
   "cell_type": "code",
   "execution_count": null,
   "metadata": {},
   "outputs": [],
   "source": [
    "film_series.drop(['type'],axis=1,inplace=True)"
   ]
  },
  {
   "cell_type": "code",
   "execution_count": null,
   "metadata": {},
   "outputs": [],
   "source": [
    "film_series.head()"
   ]
  },
  {
   "cell_type": "code",
   "execution_count": null,
   "metadata": {},
   "outputs": [],
   "source": []
  },
  {
   "cell_type": "code",
   "execution_count": null,
   "metadata": {},
   "outputs": [],
   "source": [
    "film_series.head()"
   ]
  },
  {
   "cell_type": "code",
   "execution_count": null,
   "metadata": {},
   "outputs": [],
   "source": [
    "film_series.to_csv('film_series_fea.csv',index=False)"
   ]
  },
  {
   "cell_type": "code",
   "execution_count": null,
   "metadata": {},
   "outputs": [],
   "source": []
  },
  {
   "cell_type": "code",
   "execution_count": null,
   "metadata": {},
   "outputs": [],
   "source": []
  },
  {
   "cell_type": "code",
   "execution_count": null,
   "metadata": {},
   "outputs": [],
   "source": []
  },
  {
   "cell_type": "code",
   "execution_count": null,
   "metadata": {},
   "outputs": [],
   "source": []
  },
  {
   "cell_type": "code",
   "execution_count": null,
   "metadata": {},
   "outputs": [],
   "source": []
  }
 ],
 "metadata": {
  "kernelspec": {
   "display_name": "Python 3",
   "language": "python",
   "name": "python3"
  },
  "language_info": {
   "codemirror_mode": {
    "name": "ipython",
    "version": 3
   },
   "file_extension": ".py",
   "mimetype": "text/x-python",
   "name": "python",
   "nbconvert_exporter": "python",
   "pygments_lexer": "ipython3",
   "version": "3.9.5"
  },
  "latex_envs": {
   "LaTeX_envs_menu_present": true,
   "autoclose": true,
   "autocomplete": true,
   "bibliofile": "biblio.bib",
   "cite_by": "apalike",
   "current_citInitial": 1,
   "eqLabelWithNumbers": true,
   "eqNumInitial": 1,
   "hotkeys": {
    "equation": "Ctrl-E",
    "itemize": "Ctrl-I"
   },
   "labels_anchors": false,
   "latex_user_defs": false,
   "report_style_numbering": false,
   "user_envs_cfg": true
  },
  "toc": {
   "base_numbering": 1,
   "nav_menu": {},
   "number_sections": true,
   "sideBar": true,
   "skip_h1_title": false,
   "title_cell": "Table of Contents",
   "title_sidebar": "Contents",
   "toc_cell": false,
   "toc_position": {},
   "toc_section_display": true,
   "toc_window_display": false
  },
  "varInspector": {
   "cols": {
    "lenName": 16,
    "lenType": 16,
    "lenVar": 40
   },
   "kernels_config": {
    "python": {
     "delete_cmd_postfix": "",
     "delete_cmd_prefix": "del ",
     "library": "var_list.py",
     "varRefreshCmd": "print(var_dic_list())"
    },
    "r": {
     "delete_cmd_postfix": ") ",
     "delete_cmd_prefix": "rm(",
     "library": "var_list.r",
     "varRefreshCmd": "cat(var_dic_list()) "
    }
   },
   "types_to_exclude": [
    "module",
    "function",
    "builtin_function_or_method",
    "instance",
    "_Feature"
   ],
   "window_display": false
  }
 },
 "nbformat": 4,
 "nbformat_minor": 4
}
