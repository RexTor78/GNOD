{
 "cells": [
  {
   "cell_type": "markdown",
   "id": "59ac7c5d",
   "metadata": {},
   "source": [
    "## Clustering Data"
   ]
  },
  {
   "cell_type": "code",
   "execution_count": 1,
   "id": "797db334",
   "metadata": {},
   "outputs": [],
   "source": [
    "import warnings\n",
    "warnings.filterwarnings(\"ignore\")\n",
    "import pandas as pd\n",
    "from sklearn import datasets\n",
    "import numpy as np \n",
    "import matplotlib.pyplot as plt\n",
    "from sklearn.cluster import KMeans, DBSCAN\n",
    "from sklearn.decomposition import PCA\n",
    "from sklearn.preprocessing import StandardScaler\n",
    "from sklearn.metrics import silhouette_score\n",
    "from sklearn.neighbors import NearestNeighbors"
   ]
  },
  {
   "cell_type": "code",
   "execution_count": 2,
   "id": "6ffc94a1",
   "metadata": {},
   "outputs": [],
   "source": [
    "df=pd.read_csv('film_series.csv')"
   ]
  },
  {
   "cell_type": "code",
   "execution_count": 3,
   "id": "29607d4c",
   "metadata": {},
   "outputs": [
    {
     "data": {
      "text/plain": [
       "Index(['Song', 'Movie', 'Link', 'id', 'danceability', 'energy', 'key',\n",
       "       'loudness', 'mode', 'speechiness', 'acousticness', 'instrumentalness',\n",
       "       'liveness', 'valence', 'tempo', 'uri', 'track_href', 'analysis_url',\n",
       "       'duration_ms', 'time_signature'],\n",
       "      dtype='object')"
      ]
     },
     "execution_count": 3,
     "metadata": {},
     "output_type": "execute_result"
    }
   ],
   "source": [
    "df.keys()"
   ]
  },
  {
   "cell_type": "code",
   "execution_count": 4,
   "id": "30d04b79",
   "metadata": {},
   "outputs": [
    {
     "data": {
      "text/html": [
       "<div>\n",
       "<style scoped>\n",
       "    .dataframe tbody tr th:only-of-type {\n",
       "        vertical-align: middle;\n",
       "    }\n",
       "\n",
       "    .dataframe tbody tr th {\n",
       "        vertical-align: top;\n",
       "    }\n",
       "\n",
       "    .dataframe thead th {\n",
       "        text-align: right;\n",
       "    }\n",
       "</style>\n",
       "<table border=\"1\" class=\"dataframe\">\n",
       "  <thead>\n",
       "    <tr style=\"text-align: right;\">\n",
       "      <th></th>\n",
       "      <th>Song</th>\n",
       "      <th>Movie</th>\n",
       "      <th>Link</th>\n",
       "      <th>id</th>\n",
       "      <th>danceability</th>\n",
       "      <th>energy</th>\n",
       "      <th>key</th>\n",
       "      <th>loudness</th>\n",
       "      <th>mode</th>\n",
       "      <th>speechiness</th>\n",
       "      <th>acousticness</th>\n",
       "      <th>instrumentalness</th>\n",
       "      <th>liveness</th>\n",
       "      <th>valence</th>\n",
       "      <th>tempo</th>\n",
       "      <th>uri</th>\n",
       "      <th>track_href</th>\n",
       "      <th>analysis_url</th>\n",
       "      <th>duration_ms</th>\n",
       "      <th>time_signature</th>\n",
       "    </tr>\n",
       "  </thead>\n",
       "  <tbody>\n",
       "    <tr>\n",
       "      <th>0</th>\n",
       "      <td>Our Town</td>\n",
       "      <td>Cars Original Soundtrack (English Version)</td>\n",
       "      <td>https://api.spotify.com/v1/tracks/1ENnpCRfGWQL...</td>\n",
       "      <td>1ENnpCRfGWQLVGL9pEyVao</td>\n",
       "      <td>0.491</td>\n",
       "      <td>0.2720</td>\n",
       "      <td>2</td>\n",
       "      <td>-11.627</td>\n",
       "      <td>1</td>\n",
       "      <td>0.0283</td>\n",
       "      <td>0.874</td>\n",
       "      <td>0.000563</td>\n",
       "      <td>0.1270</td>\n",
       "      <td>0.1010</td>\n",
       "      <td>111.642</td>\n",
       "      <td>spotify:track:1ENnpCRfGWQLVGL9pEyVao</td>\n",
       "      <td>https://api.spotify.com/v1/tracks/1ENnpCRfGWQL...</td>\n",
       "      <td>https://api.spotify.com/v1/audio-analysis/1ENn...</td>\n",
       "      <td>247385</td>\n",
       "      <td>4</td>\n",
       "    </tr>\n",
       "    <tr>\n",
       "      <th>1</th>\n",
       "      <td>Married Life</td>\n",
       "      <td>Up (Original Motion Picture Soundtrack)</td>\n",
       "      <td>https://api.spotify.com/v1/tracks/7iocNjLrxPHL...</td>\n",
       "      <td>7iocNjLrxPHLl8njgRlv5U</td>\n",
       "      <td>0.278</td>\n",
       "      <td>0.0675</td>\n",
       "      <td>0</td>\n",
       "      <td>-20.946</td>\n",
       "      <td>1</td>\n",
       "      <td>0.0400</td>\n",
       "      <td>0.970</td>\n",
       "      <td>0.732000</td>\n",
       "      <td>0.0812</td>\n",
       "      <td>0.1120</td>\n",
       "      <td>82.626</td>\n",
       "      <td>spotify:track:7iocNjLrxPHLl8njgRlv5U</td>\n",
       "      <td>https://api.spotify.com/v1/tracks/7iocNjLrxPHL...</td>\n",
       "      <td>https://api.spotify.com/v1/audio-analysis/7ioc...</td>\n",
       "      <td>250573</td>\n",
       "      <td>3</td>\n",
       "    </tr>\n",
       "    <tr>\n",
       "      <th>2</th>\n",
       "      <td>Reflection - From \"Mulan\" / Soundtrack Version</td>\n",
       "      <td>Mulan</td>\n",
       "      <td>https://api.spotify.com/v1/tracks/2AILbz83cBnr...</td>\n",
       "      <td>2AILbz83cBnrAMAG06rZts</td>\n",
       "      <td>0.255</td>\n",
       "      <td>0.1740</td>\n",
       "      <td>9</td>\n",
       "      <td>-19.217</td>\n",
       "      <td>1</td>\n",
       "      <td>0.0379</td>\n",
       "      <td>0.805</td>\n",
       "      <td>0.009110</td>\n",
       "      <td>0.3350</td>\n",
       "      <td>0.0829</td>\n",
       "      <td>80.707</td>\n",
       "      <td>spotify:track:2AILbz83cBnrAMAG06rZts</td>\n",
       "      <td>https://api.spotify.com/v1/tracks/2AILbz83cBnr...</td>\n",
       "      <td>https://api.spotify.com/v1/audio-analysis/2AIL...</td>\n",
       "      <td>146760</td>\n",
       "      <td>4</td>\n",
       "    </tr>\n",
       "    <tr>\n",
       "      <th>3</th>\n",
       "      <td>Colors of the Wind - From \"Pocahontas\" / Sound...</td>\n",
       "      <td>Pocahontas</td>\n",
       "      <td>https://api.spotify.com/v1/tracks/1OYOLWqKmhkF...</td>\n",
       "      <td>1OYOLWqKmhkFIx2KC9ek1a</td>\n",
       "      <td>0.272</td>\n",
       "      <td>0.1640</td>\n",
       "      <td>1</td>\n",
       "      <td>-17.040</td>\n",
       "      <td>1</td>\n",
       "      <td>0.0460</td>\n",
       "      <td>0.929</td>\n",
       "      <td>0.001100</td>\n",
       "      <td>0.1090</td>\n",
       "      <td>0.2280</td>\n",
       "      <td>81.551</td>\n",
       "      <td>spotify:track:1OYOLWqKmhkFIx2KC9ek1a</td>\n",
       "      <td>https://api.spotify.com/v1/tracks/1OYOLWqKmhkF...</td>\n",
       "      <td>https://api.spotify.com/v1/audio-analysis/1OYO...</td>\n",
       "      <td>214400</td>\n",
       "      <td>3</td>\n",
       "    </tr>\n",
       "    <tr>\n",
       "      <th>4</th>\n",
       "      <td>Ma Belle Evangeline - From \"The Princess and t...</td>\n",
       "      <td>The Princess and the Frog</td>\n",
       "      <td>https://api.spotify.com/v1/tracks/2P8QqrZ42YNP...</td>\n",
       "      <td>2P8QqrZ42YNP8Ao5uRMLO0</td>\n",
       "      <td>0.378</td>\n",
       "      <td>0.3520</td>\n",
       "      <td>3</td>\n",
       "      <td>-8.745</td>\n",
       "      <td>1</td>\n",
       "      <td>0.0354</td>\n",
       "      <td>0.812</td>\n",
       "      <td>0.000005</td>\n",
       "      <td>0.1060</td>\n",
       "      <td>0.3060</td>\n",
       "      <td>139.491</td>\n",
       "      <td>spotify:track:2P8QqrZ42YNP8Ao5uRMLO0</td>\n",
       "      <td>https://api.spotify.com/v1/tracks/2P8QqrZ42YNP...</td>\n",
       "      <td>https://api.spotify.com/v1/audio-analysis/2P8Q...</td>\n",
       "      <td>115693</td>\n",
       "      <td>5</td>\n",
       "    </tr>\n",
       "  </tbody>\n",
       "</table>\n",
       "</div>"
      ],
      "text/plain": [
       "                                                Song  \\\n",
       "0                                           Our Town   \n",
       "1                                       Married Life   \n",
       "2     Reflection - From \"Mulan\" / Soundtrack Version   \n",
       "3  Colors of the Wind - From \"Pocahontas\" / Sound...   \n",
       "4  Ma Belle Evangeline - From \"The Princess and t...   \n",
       "\n",
       "                                        Movie  \\\n",
       "0  Cars Original Soundtrack (English Version)   \n",
       "1     Up (Original Motion Picture Soundtrack)   \n",
       "2                                       Mulan   \n",
       "3                                  Pocahontas   \n",
       "4                   The Princess and the Frog   \n",
       "\n",
       "                                                Link                      id  \\\n",
       "0  https://api.spotify.com/v1/tracks/1ENnpCRfGWQL...  1ENnpCRfGWQLVGL9pEyVao   \n",
       "1  https://api.spotify.com/v1/tracks/7iocNjLrxPHL...  7iocNjLrxPHLl8njgRlv5U   \n",
       "2  https://api.spotify.com/v1/tracks/2AILbz83cBnr...  2AILbz83cBnrAMAG06rZts   \n",
       "3  https://api.spotify.com/v1/tracks/1OYOLWqKmhkF...  1OYOLWqKmhkFIx2KC9ek1a   \n",
       "4  https://api.spotify.com/v1/tracks/2P8QqrZ42YNP...  2P8QqrZ42YNP8Ao5uRMLO0   \n",
       "\n",
       "   danceability  energy  key  loudness  mode  speechiness  acousticness  \\\n",
       "0         0.491  0.2720    2   -11.627     1       0.0283         0.874   \n",
       "1         0.278  0.0675    0   -20.946     1       0.0400         0.970   \n",
       "2         0.255  0.1740    9   -19.217     1       0.0379         0.805   \n",
       "3         0.272  0.1640    1   -17.040     1       0.0460         0.929   \n",
       "4         0.378  0.3520    3    -8.745     1       0.0354         0.812   \n",
       "\n",
       "   instrumentalness  liveness  valence    tempo  \\\n",
       "0          0.000563    0.1270   0.1010  111.642   \n",
       "1          0.732000    0.0812   0.1120   82.626   \n",
       "2          0.009110    0.3350   0.0829   80.707   \n",
       "3          0.001100    0.1090   0.2280   81.551   \n",
       "4          0.000005    0.1060   0.3060  139.491   \n",
       "\n",
       "                                    uri  \\\n",
       "0  spotify:track:1ENnpCRfGWQLVGL9pEyVao   \n",
       "1  spotify:track:7iocNjLrxPHLl8njgRlv5U   \n",
       "2  spotify:track:2AILbz83cBnrAMAG06rZts   \n",
       "3  spotify:track:1OYOLWqKmhkFIx2KC9ek1a   \n",
       "4  spotify:track:2P8QqrZ42YNP8Ao5uRMLO0   \n",
       "\n",
       "                                          track_href  \\\n",
       "0  https://api.spotify.com/v1/tracks/1ENnpCRfGWQL...   \n",
       "1  https://api.spotify.com/v1/tracks/7iocNjLrxPHL...   \n",
       "2  https://api.spotify.com/v1/tracks/2AILbz83cBnr...   \n",
       "3  https://api.spotify.com/v1/tracks/1OYOLWqKmhkF...   \n",
       "4  https://api.spotify.com/v1/tracks/2P8QqrZ42YNP...   \n",
       "\n",
       "                                        analysis_url  duration_ms  \\\n",
       "0  https://api.spotify.com/v1/audio-analysis/1ENn...       247385   \n",
       "1  https://api.spotify.com/v1/audio-analysis/7ioc...       250573   \n",
       "2  https://api.spotify.com/v1/audio-analysis/2AIL...       146760   \n",
       "3  https://api.spotify.com/v1/audio-analysis/1OYO...       214400   \n",
       "4  https://api.spotify.com/v1/audio-analysis/2P8Q...       115693   \n",
       "\n",
       "   time_signature  \n",
       "0               4  \n",
       "1               3  \n",
       "2               4  \n",
       "3               3  \n",
       "4               5  "
      ]
     },
     "execution_count": 4,
     "metadata": {},
     "output_type": "execute_result"
    }
   ],
   "source": [
    "df.head()"
   ]
  },
  {
   "cell_type": "code",
   "execution_count": 5,
   "id": "90f3c93e",
   "metadata": {},
   "outputs": [],
   "source": [
    "feat_clean=pd.read_csv('feat_clean.csv')"
   ]
  },
  {
   "cell_type": "code",
   "execution_count": 6,
   "id": "a644b49b",
   "metadata": {},
   "outputs": [
    {
     "data": {
      "text/html": [
       "<div>\n",
       "<style scoped>\n",
       "    .dataframe tbody tr th:only-of-type {\n",
       "        vertical-align: middle;\n",
       "    }\n",
       "\n",
       "    .dataframe tbody tr th {\n",
       "        vertical-align: top;\n",
       "    }\n",
       "\n",
       "    .dataframe thead th {\n",
       "        text-align: right;\n",
       "    }\n",
       "</style>\n",
       "<table border=\"1\" class=\"dataframe\">\n",
       "  <thead>\n",
       "    <tr style=\"text-align: right;\">\n",
       "      <th></th>\n",
       "      <th>danceability</th>\n",
       "      <th>energy</th>\n",
       "      <th>key</th>\n",
       "      <th>loudness</th>\n",
       "      <th>mode</th>\n",
       "      <th>speechiness</th>\n",
       "      <th>acousticness</th>\n",
       "      <th>instrumentalness</th>\n",
       "      <th>liveness</th>\n",
       "      <th>valence</th>\n",
       "      <th>tempo</th>\n",
       "      <th>duration_ms</th>\n",
       "      <th>time_signature</th>\n",
       "    </tr>\n",
       "  </thead>\n",
       "  <tbody>\n",
       "    <tr>\n",
       "      <th>0</th>\n",
       "      <td>0.491</td>\n",
       "      <td>0.2720</td>\n",
       "      <td>2</td>\n",
       "      <td>-11.627</td>\n",
       "      <td>1</td>\n",
       "      <td>0.0283</td>\n",
       "      <td>0.874</td>\n",
       "      <td>0.000563</td>\n",
       "      <td>0.1270</td>\n",
       "      <td>0.1010</td>\n",
       "      <td>111.642</td>\n",
       "      <td>247385</td>\n",
       "      <td>4</td>\n",
       "    </tr>\n",
       "    <tr>\n",
       "      <th>1</th>\n",
       "      <td>0.278</td>\n",
       "      <td>0.0675</td>\n",
       "      <td>0</td>\n",
       "      <td>-20.946</td>\n",
       "      <td>1</td>\n",
       "      <td>0.0400</td>\n",
       "      <td>0.970</td>\n",
       "      <td>0.732000</td>\n",
       "      <td>0.0812</td>\n",
       "      <td>0.1120</td>\n",
       "      <td>82.626</td>\n",
       "      <td>250573</td>\n",
       "      <td>3</td>\n",
       "    </tr>\n",
       "    <tr>\n",
       "      <th>2</th>\n",
       "      <td>0.255</td>\n",
       "      <td>0.1740</td>\n",
       "      <td>9</td>\n",
       "      <td>-19.217</td>\n",
       "      <td>1</td>\n",
       "      <td>0.0379</td>\n",
       "      <td>0.805</td>\n",
       "      <td>0.009110</td>\n",
       "      <td>0.3350</td>\n",
       "      <td>0.0829</td>\n",
       "      <td>80.707</td>\n",
       "      <td>146760</td>\n",
       "      <td>4</td>\n",
       "    </tr>\n",
       "    <tr>\n",
       "      <th>3</th>\n",
       "      <td>0.272</td>\n",
       "      <td>0.1640</td>\n",
       "      <td>1</td>\n",
       "      <td>-17.040</td>\n",
       "      <td>1</td>\n",
       "      <td>0.0460</td>\n",
       "      <td>0.929</td>\n",
       "      <td>0.001100</td>\n",
       "      <td>0.1090</td>\n",
       "      <td>0.2280</td>\n",
       "      <td>81.551</td>\n",
       "      <td>214400</td>\n",
       "      <td>3</td>\n",
       "    </tr>\n",
       "    <tr>\n",
       "      <th>4</th>\n",
       "      <td>0.378</td>\n",
       "      <td>0.3520</td>\n",
       "      <td>3</td>\n",
       "      <td>-8.745</td>\n",
       "      <td>1</td>\n",
       "      <td>0.0354</td>\n",
       "      <td>0.812</td>\n",
       "      <td>0.000005</td>\n",
       "      <td>0.1060</td>\n",
       "      <td>0.3060</td>\n",
       "      <td>139.491</td>\n",
       "      <td>115693</td>\n",
       "      <td>5</td>\n",
       "    </tr>\n",
       "  </tbody>\n",
       "</table>\n",
       "</div>"
      ],
      "text/plain": [
       "   danceability  energy  key  loudness  mode  speechiness  acousticness  \\\n",
       "0         0.491  0.2720    2   -11.627     1       0.0283         0.874   \n",
       "1         0.278  0.0675    0   -20.946     1       0.0400         0.970   \n",
       "2         0.255  0.1740    9   -19.217     1       0.0379         0.805   \n",
       "3         0.272  0.1640    1   -17.040     1       0.0460         0.929   \n",
       "4         0.378  0.3520    3    -8.745     1       0.0354         0.812   \n",
       "\n",
       "   instrumentalness  liveness  valence    tempo  duration_ms  time_signature  \n",
       "0          0.000563    0.1270   0.1010  111.642       247385               4  \n",
       "1          0.732000    0.0812   0.1120   82.626       250573               3  \n",
       "2          0.009110    0.3350   0.0829   80.707       146760               4  \n",
       "3          0.001100    0.1090   0.2280   81.551       214400               3  \n",
       "4          0.000005    0.1060   0.3060  139.491       115693               5  "
      ]
     },
     "execution_count": 6,
     "metadata": {},
     "output_type": "execute_result"
    }
   ],
   "source": [
    "feat_clean.head()"
   ]
  },
  {
   "cell_type": "code",
   "execution_count": 8,
   "id": "3be0e189",
   "metadata": {},
   "outputs": [],
   "source": [
    "song_std = StandardScaler().fit_transform(feat_clean)\n",
    "pca = PCA(n_components=13)\n",
    "principalComponents = pca.fit_transform(song_std)\n",
    "pca_df = pd.DataFrame(principalComponents)"
   ]
  },
  {
   "cell_type": "code",
   "execution_count": 14,
   "id": "97d1de50",
   "metadata": {},
   "outputs": [],
   "source": [
    "distortions = []\n",
    "K = range(2,200)\n",
    "for k in K:\n",
    "    kmeanModel = KMeans(n_clusters=k, random_state=1000)\n",
    "    kmeanModel.fit(pca_df)\n",
    "    distortions.append(kmeanModel.inertia_)"
   ]
  },
  {
   "cell_type": "code",
   "execution_count": 15,
   "id": "664285ce",
   "metadata": {},
   "outputs": [
    {
     "data": {
      "image/png": "[encoded data removed]",
      "text/plain": [
       "<Figure size 1152x576 with 1 Axes>"
      ]
     },
     "metadata": {
      "needs_background": "light"
     },
     "output_type": "display_data"
    }
   ],
   "source": [
    "plt.figure(figsize=(16,8))\n",
    "plt.plot(K, distortions, 'bx-')\n",
    "plt.xlabel('k')\n",
    "plt.ylabel('Distortion')\n",
    "plt.title('The Elbow Method showing the optimal k')\n",
    "plt.show()"
   ]
  },
  {
   "cell_type": "code",
   "execution_count": 16,
   "id": "efd43e3c",
   "metadata": {},
   "outputs": [],
   "source": [
    "sil = []\n",
    "for k in K:\n",
    "    kmeanModel = KMeans(n_clusters=k, random_state=1000)\n",
    "    kmeanModel.fit(pca_df)\n",
    "    labels = kmeanModel.labels_\n",
    "    sil.append(silhouette_score(feat_clean, labels, metric = 'euclidean'))"
   ]
  },
  {
   "cell_type": "code",
   "execution_count": 17,
   "id": "46fb8f46",
   "metadata": {},
   "outputs": [
    {
     "data": {
      "image/png": "[encoded data removed]",
      "text/plain": [
       "<Figure size 1152x576 with 1 Axes>"
      ]
     },
     "metadata": {
      "needs_background": "light"
     },
     "output_type": "display_data"
    }
   ],
   "source": [
    "plt.figure(figsize=(16,8))\n",
    "plt.plot(K, sil, 'bx-')\n",
    "plt.xlabel('k')\n",
    "plt.ylabel('Silhouette Score')\n",
    "plt.title('The Silhouette Method showing the optimal k')\n",
    "plt.show()"
   ]
  },
  {
   "cell_type": "code",
   "execution_count": null,
   "id": "a670b6fc",
   "metadata": {},
   "outputs": [],
   "source": []
  },
  {
   "cell_type": "code",
   "execution_count": null,
   "id": "25be755a",
   "metadata": {},
   "outputs": [],
   "source": []
  },
  {
   "cell_type": "code",
   "execution_count": null,
   "id": "ca8396f7",
   "metadata": {},
   "outputs": [],
   "source": []
  },
  {
   "cell_type": "code",
   "execution_count": null,
   "id": "3dd6d9d6",
   "metadata": {},
   "outputs": [],
   "source": []
  },
  {
   "cell_type": "code",
   "execution_count": null,
   "id": "317d36bc",
   "metadata": {},
   "outputs": [],
   "source": []
  },
  {
   "cell_type": "code",
   "execution_count": null,
   "id": "4f967d83",
   "metadata": {},
   "outputs": [],
   "source": []
  },
  {
   "cell_type": "code",
   "execution_count": null,
   "id": "c54ae67e",
   "metadata": {},
   "outputs": [],
   "source": []
  },
  {
   "cell_type": "code",
   "execution_count": null,
   "id": "c47ce514",
   "metadata": {},
   "outputs": [],
   "source": []
  },
  {
   "cell_type": "code",
   "execution_count": null,
   "id": "7c41d48a",
   "metadata": {},
   "outputs": [],
   "source": []
  }
 ],
 "metadata": {
  "kernelspec": {
   "display_name": "Python 3",
   "language": "python",
   "name": "python3"
  },
  "language_info": {
   "codemirror_mode": {
    "name": "ipython",
    "version": 3
   },
   "file_extension": ".py",
   "mimetype": "text/x-python",
   "name": "python",
   "nbconvert_exporter": "python",
   "pygments_lexer": "ipython3",
   "version": "3.9.5"
  },
  "latex_envs": {
   "LaTeX_envs_menu_present": true,
   "autoclose": true,
   "autocomplete": true,
   "bibliofile": "biblio.bib",
   "cite_by": "apalike",
   "current_citInitial": 1,
   "eqLabelWithNumbers": true,
   "eqNumInitial": 1,
   "hotkeys": {
    "equation": "Ctrl-E",
    "itemize": "Ctrl-I"
   },
   "labels_anchors": false,
   "latex_user_defs": false,
   "report_style_numbering": false,
   "user_envs_cfg": true
  },
  "toc": {
   "base_numbering": 1,
   "nav_menu": {},
   "number_sections": true,
   "sideBar": true,
   "skip_h1_title": false,
   "title_cell": "Table of Contents",
   "title_sidebar": "Contents",
   "toc_cell": false,
   "toc_position": {},
   "toc_section_display": true,
   "toc_window_display": false
  },
  "varInspector": {
   "cols": {
    "lenName": 16,
    "lenType": 16,
    "lenVar": 40
   },
   "kernels_config": {
    "python": {
     "delete_cmd_postfix": "",
     "delete_cmd_prefix": "del ",
     "library": "var_list.py",
     "varRefreshCmd": "print(var_dic_list())"
    },
    "r": {
     "delete_cmd_postfix": ") ",
     "delete_cmd_prefix": "rm(",
     "library": "var_list.r",
     "varRefreshCmd": "cat(var_dic_list()) "
    }
   },
   "types_to_exclude": [
    "module",
    "function",
    "builtin_function_or_method",
    "instance",
    "_Feature"
   ],
   "window_display": false
  }
 },
 "nbformat": 4,
 "nbformat_minor": 5
}
