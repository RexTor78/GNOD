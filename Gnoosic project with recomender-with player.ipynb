{
 "cells": [
  {
   "cell_type": "code",
   "execution_count": 1,
   "id": "f7b2a1cd",
   "metadata": {},
   "outputs": [
    {
     "name": "stdout",
     "output_type": "stream",
     "text": [
      "client_id?········\n",
      "client_secret?········\n"
     ]
    }
   ],
   "source": [
    "import spotipy # install if needed\n",
    "from spotipy.oauth2 import SpotifyClientCredentials\n",
    "from spotipy.oauth2 import SpotifyOAuth\n",
    "import pandas as pd\n",
    "import sys\n",
    "import os\n",
    "os.environ[\"OMP_NUM_THREADS\"] = \"1\"\n",
    "import numpy as np\n",
    "from sklearn.preprocessing import StandardScaler\n",
    "from sklearn.cluster import KMeans\n",
    "from bs4 import BeautifulSoup\n",
    "import requests \n",
    "from random import randint\n",
    "import getpass\n",
    "import webbrowser as web\n",
    "import pyautogui\n",
    "from time import sleep\n",
    "from IPython.display import IFrame\n",
    "client_id=str(getpass.getpass('client_id?'))\n",
    "client_secret=str(getpass.getpass('client_secret?'))\n",
    "sp = spotipy.Spotify(auth_manager=SpotifyClientCredentials(client_id=client_id, client_secret=client_secret))\n",
    "billtops=pd.read_csv('List_songs_artist.csv')"
   ]
  },
  {
   "cell_type": "markdown",
   "id": "6a5cf708",
   "metadata": {},
   "source": [
    "## Without Function"
   ]
  },
  {
   "cell_type": "code",
   "execution_count": null,
   "id": "1b20c19d",
   "metadata": {
    "code_folding": []
   },
   "outputs": [],
   "source": [
    "\n",
    "song=input('Enter a song do you like?').title()\n",
    "if song in billtops.Titles.values:\n",
    "        other= randint(0,(len(billtops)))\n",
    "        print('Sure you like this:' + '' '' +billtops['Titles'][other] + ' by '+billtops['Artists'][other])\n",
    "else:\n",
    "    results = sp.search(q=song, limit=1)\n",
    "    id=results[\"tracks\"]['items'][0]['id']\n",
    "    songf=sp.audio_features(id)\n",
    "    songf=pd.DataFrame(songf)\n",
    "    sf_cl=songf.drop(['type','uri','track_href','analysis_url','id'],axis=1)\n",
    "    scaler= StandardScaler()\n",
    "    scaler.fit(sf_cl)\n",
    "    sf_cl_sc=scaler.transform(sf_cl)\n",
    "    kmeans = KMeans(n_clusters=1, random_state=40)\n",
    "    kmeans.fit(sf_cl_sc)\n",
    "    kmeans.cluster_centers_\n",
    "    cluster=kmeans.predict(sf_cl_sc)\n",
    "    cluster=cluster[0]\n",
    "    fs=pd.read_csv('film_series.csv')\n",
    "    fscl=fs.drop(['Song','Movie','Link','uri','track_href','analysis_url','id'],axis=1)\n",
    "    scaler.fit(fscl)\n",
    "    fscl_scl=scaler.transform(fscl)\n",
    "    kmeans = KMeans(n_clusters=20, random_state=40)\n",
    "    kmeans.fit(fscl_scl)\n",
    "    kmeans.cluster_centers_\n",
    "    clusters=kmeans.predict(fscl_scl)\n",
    "    fs['Clusters']=clusters\n",
    "    Fs_clu=fs[fs['Clusters']==cluster]\n",
    "    song_rec=Fs_clu[['Song','Movie','Link']].sample().values[0]\n",
    "    print(\"This song aren not in the top100, but sure you like this movie song:\" + \"\"\"\n",
    "     \"\"\" + song_rec[()])"
   ]
  },
  {
   "cell_type": "markdown",
   "id": "c161b9f6",
   "metadata": {},
   "source": [
    "## With function"
   ]
  },
  {
   "cell_type": "code",
   "execution_count": 79,
   "id": "c47ce514",
   "metadata": {},
   "outputs": [],
   "source": [
    "\n",
    "def recomender():\n",
    "    song =input('Enter a song do you like?').title()\n",
    "    if song in billtops.Titles.values:\n",
    "        other= randint(0,(len(billtops)))\n",
    "        #resultsb = \n",
    "        web.open(sp.search(q=billtops['Titles'][other], limit=1)[\"tracks\"]['items'][0]['uri'])\n",
    "        sleep(2)\n",
    "        pyautogui.press('enter')\n",
    "        print('Sure you like this:' + '' '' +billtops['Titles'][other] + ' by '+billtops['Artists'][other])\n",
    "    else:\n",
    "        results = sp.search(q=song, limit=1)\n",
    "        id=results[\"tracks\"]['items'][0]['id']\n",
    "        songf=sp.audio_features(id)\n",
    "        songf=pd.DataFrame(songf)\n",
    "        sf_cl=songf.drop(['type','uri','track_href','analysis_url','id'],axis=1)\n",
    "        scaler= StandardScaler()\n",
    "        scaler.fit(sf_cl)\n",
    "        sf_cl_sc=scaler.transform(sf_cl)\n",
    "        kmeans = KMeans(n_clusters=1, random_state=40)\n",
    "        kmeans.fit(sf_cl_sc)\n",
    "        kmeans.cluster_centers_\n",
    "        cluster=kmeans.predict(sf_cl_sc)\n",
    "        cluster=cluster[0]\n",
    "        fs=pd.read_csv('film_series.csv')\n",
    "        fscl=fs.drop(['Song','Movie','Link','uri','track_href','analysis_url','id'],axis=1)\n",
    "        scaler.fit(fscl)\n",
    "        fscl_scl=scaler.transform(fscl)\n",
    "        kmeans = KMeans(n_clusters=20, random_state=40)\n",
    "        kmeans.fit(fscl_scl)\n",
    "        kmeans.cluster_centers_\n",
    "        clusters=kmeans.predict(fscl_scl)\n",
    "        fs['Clusters']=clusters\n",
    "        Fs_clu=fs[fs['Clusters']==cluster]\n",
    "        song_rec=Fs_clu['Song'].sample().values[0]\n",
    "        m_rec=Fs_clu[Fs_clu['Song']==song_rec]['Movie'].values[0]\n",
    "        link=Fs_clu[Fs_clu['Song']==song_rec]['uri'].values[0]\n",
    "        web.open(Fs_clu[Fs_clu['Song']==song_rec]['uri'].values[0])\n",
    "        sleep(2)\n",
    "        pyautogui.press('enter')\n",
    "        print(\"This song aren not in the top100, but sure you like this movie song:\" + \"\"\"\n",
    "        \"\"\" + 'Song: ',str(song_rec), \"\"\"\n",
    "        \"\"\"+ 'Movie: ' ,str(m_rec),\"\"\" \n",
    "        \"\"\"+ 'Link: ' , str(link))\n",
    "            "
   ]
  },
  {
   "cell_type": "code",
   "execution_count": null,
   "id": "9f279a51",
   "metadata": {},
   "outputs": [],
   "source": [
    "recomender()"
   ]
  },
  {
   "cell_type": "code",
   "execution_count": null,
   "id": "0187a625",
   "metadata": {},
   "outputs": [],
   "source": []
  },
  {
   "cell_type": "code",
   "execution_count": null,
   "id": "74b83dc7",
   "metadata": {},
   "outputs": [],
   "source": []
  },
  {
   "cell_type": "code",
   "execution_count": null,
   "id": "c15756a4",
   "metadata": {},
   "outputs": [],
   "source": []
  }
 ],
 "metadata": {
  "kernelspec": {
   "display_name": "Python 3",
   "language": "python",
   "name": "python3"
  },
  "language_info": {
   "codemirror_mode": {
    "name": "ipython",
    "version": 3
   },
   "file_extension": ".py",
   "mimetype": "text/x-python",
   "name": "python",
   "nbconvert_exporter": "python",
   "pygments_lexer": "ipython3",
   "version": "3.9.5"
  },
  "latex_envs": {
   "LaTeX_envs_menu_present": true,
   "autoclose": true,
   "autocomplete": true,
   "bibliofile": "biblio.bib",
   "cite_by": "apalike",
   "current_citInitial": 1,
   "eqLabelWithNumbers": true,
   "eqNumInitial": 1,
   "hotkeys": {
    "equation": "Ctrl-E",
    "itemize": "Ctrl-I"
   },
   "labels_anchors": false,
   "latex_user_defs": false,
   "report_style_numbering": false,
   "user_envs_cfg": true
  },
  "toc": {
   "base_numbering": 1,
   "nav_menu": {},
   "number_sections": true,
   "sideBar": true,
   "skip_h1_title": false,
   "title_cell": "Table of Contents",
   "title_sidebar": "Contents",
   "toc_cell": false,
   "toc_position": {},
   "toc_section_display": true,
   "toc_window_display": false
  },
  "varInspector": {
   "cols": {
    "lenName": 16,
    "lenType": 16,
    "lenVar": 40
   },
   "kernels_config": {
    "python": {
     "delete_cmd_postfix": "",
     "delete_cmd_prefix": "del ",
     "library": "var_list.py",
     "varRefreshCmd": "print(var_dic_list())"
    },
    "r": {
     "delete_cmd_postfix": ") ",
     "delete_cmd_prefix": "rm(",
     "library": "var_list.r",
     "varRefreshCmd": "cat(var_dic_list()) "
    }
   },
   "types_to_exclude": [
    "module",
    "function",
    "builtin_function_or_method",
    "instance",
    "_Feature"
   ],
   "window_display": false
  }
 },
 "nbformat": 4,
 "nbformat_minor": 5
}
