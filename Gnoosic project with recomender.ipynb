{
 "cells": [
  {
   "cell_type": "markdown",
   "id": "68eef5c2",
   "metadata": {},
   "source": [
    "## Search song in Spotify and id"
   ]
  },
  {
   "cell_type": "code",
   "execution_count": 1,
   "id": "f7b2a1cd",
   "metadata": {},
   "outputs": [],
   "source": [
    "import spotipy # install if needed\n",
    "from spotipy.oauth2 import SpotifyClientCredentials\n",
    "import pandas as pd\n",
    "import numpy as np\n",
    "from sklearn.preprocessing import StandardScaler\n",
    "from sklearn.cluster import KMeans\n",
    "from bs4 import BeautifulSoup\n",
    "import requests \n",
    "from random import randint\n"
   ]
  },
  {
   "cell_type": "code",
   "execution_count": 2,
   "id": "f9ad98fb",
   "metadata": {},
   "outputs": [
    {
     "name": "stdout",
     "output_type": "stream",
     "text": [
      "client_id?········\n",
      "client_secret?········\n"
     ]
    }
   ],
   "source": [
    "import getpass\n",
    "client_id=str(getpass.getpass('client_id?'))\n",
    "client_secret=str(getpass.getpass('client_secret?'))"
   ]
  },
  {
   "cell_type": "code",
   "execution_count": 3,
   "id": "fcdf874d",
   "metadata": {},
   "outputs": [],
   "source": [
    "sp = spotipy.Spotify(auth_manager=SpotifyClientCredentials(client_id=client_id, client_secret=client_secret))"
   ]
  },
  {
   "cell_type": "code",
   "execution_count": null,
   "id": "ffd4daf1",
   "metadata": {},
   "outputs": [],
   "source": []
  },
  {
   "cell_type": "code",
   "execution_count": null,
   "id": "790d77a8",
   "metadata": {},
   "outputs": [],
   "source": [
    "song=input('Enter a song do you like?').lower()\n"
   ]
  },
  {
   "cell_type": "code",
   "execution_count": null,
   "id": "460170d1",
   "metadata": {},
   "outputs": [],
   "source": [
    "results = sp.search(q=song, limit=1)"
   ]
  },
  {
   "cell_type": "code",
   "execution_count": null,
   "id": "64182448",
   "metadata": {},
   "outputs": [],
   "source": [
    "id=results[\"tracks\"]['items'][0]['id']\n",
    "id"
   ]
  },
  {
   "cell_type": "code",
   "execution_count": null,
   "id": "f7973038",
   "metadata": {},
   "outputs": [],
   "source": [
    "songf=sp.audio_features(id)\n",
    "songf"
   ]
  },
  {
   "cell_type": "code",
   "execution_count": null,
   "id": "e4c34796",
   "metadata": {},
   "outputs": [],
   "source": [
    "results[\"tracks\"]"
   ]
  },
  {
   "cell_type": "code",
   "execution_count": null,
   "id": "77b20f6a",
   "metadata": {},
   "outputs": [],
   "source": [
    "songf=pd.DataFrame(songf)"
   ]
  },
  {
   "cell_type": "code",
   "execution_count": null,
   "id": "ad8f9d67",
   "metadata": {},
   "outputs": [],
   "source": [
    "songf.head()"
   ]
  },
  {
   "cell_type": "code",
   "execution_count": null,
   "id": "770a85b6",
   "metadata": {},
   "outputs": [],
   "source": [
    "sf_cl=songf.drop(['type','uri','track_href','analysis_url','id'],axis=1)"
   ]
  },
  {
   "cell_type": "code",
   "execution_count": null,
   "id": "2bd7cf96",
   "metadata": {},
   "outputs": [],
   "source": [
    "sf_cl.head()"
   ]
  },
  {
   "cell_type": "code",
   "execution_count": null,
   "id": "8dbd45ee",
   "metadata": {},
   "outputs": [],
   "source": [
    "from sklearn.preprocessing import StandardScaler"
   ]
  },
  {
   "cell_type": "code",
   "execution_count": null,
   "id": "9ac511de",
   "metadata": {},
   "outputs": [],
   "source": [
    "scaler= StandardScaler()"
   ]
  },
  {
   "cell_type": "code",
   "execution_count": null,
   "id": "8c6b87cf",
   "metadata": {},
   "outputs": [],
   "source": [
    "scaler.fit(sf_cl)"
   ]
  },
  {
   "cell_type": "code",
   "execution_count": null,
   "id": "f129d23b",
   "metadata": {},
   "outputs": [],
   "source": [
    "sf_cl_sc=scaler.transform(sf_cl)"
   ]
  },
  {
   "cell_type": "code",
   "execution_count": null,
   "id": "d303828a",
   "metadata": {},
   "outputs": [],
   "source": [
    "sf_cl_sc"
   ]
  },
  {
   "cell_type": "code",
   "execution_count": null,
   "id": "1e66ba83",
   "metadata": {},
   "outputs": [],
   "source": [
    "from sklearn.cluster import KMeans\n",
    "\n",
    "#define the model, fit the model to your data \n",
    "\n",
    "kmeans = KMeans(n_clusters=1, random_state=40)\n",
    "kmeans.fit(sf_cl_sc)"
   ]
  },
  {
   "cell_type": "code",
   "execution_count": null,
   "id": "6a97b49a",
   "metadata": {},
   "outputs": [],
   "source": [
    "kmeans.cluster_centers_"
   ]
  },
  {
   "cell_type": "code",
   "execution_count": null,
   "id": "d132e07b",
   "metadata": {},
   "outputs": [],
   "source": [
    "cluster=kmeans.predict(sf_cl_sc)"
   ]
  },
  {
   "cell_type": "code",
   "execution_count": null,
   "id": "89e8b877",
   "metadata": {},
   "outputs": [],
   "source": [
    "cluster"
   ]
  },
  {
   "cell_type": "code",
   "execution_count": null,
   "id": "36d7aae9",
   "metadata": {},
   "outputs": [],
   "source": [
    "cluster=cluster[0]"
   ]
  },
  {
   "cell_type": "code",
   "execution_count": null,
   "id": "f799aad7",
   "metadata": {},
   "outputs": [],
   "source": [
    "cluster"
   ]
  },
  {
   "cell_type": "code",
   "execution_count": null,
   "id": "a6de6807",
   "metadata": {},
   "outputs": [],
   "source": []
  },
  {
   "cell_type": "markdown",
   "id": "59ac7c5d",
   "metadata": {},
   "source": [
    "## Clustering Data"
   ]
  },
  {
   "cell_type": "code",
   "execution_count": null,
   "id": "d1f55142",
   "metadata": {},
   "outputs": [],
   "source": [
    "fs=pd.read_csv('film_series.csv')"
   ]
  },
  {
   "cell_type": "code",
   "execution_count": null,
   "id": "e5911caa",
   "metadata": {},
   "outputs": [],
   "source": [
    "fs.head()"
   ]
  },
  {
   "cell_type": "code",
   "execution_count": null,
   "id": "255cd8b0",
   "metadata": {},
   "outputs": [],
   "source": [
    "fscl=fs.drop(['Song','Movie','Link','uri','track_href','analysis_url','id'],axis=1)"
   ]
  },
  {
   "cell_type": "code",
   "execution_count": null,
   "id": "7c870e27",
   "metadata": {},
   "outputs": [],
   "source": [
    "scaler.fit(fscl)"
   ]
  },
  {
   "cell_type": "code",
   "execution_count": null,
   "id": "d0bd2623",
   "metadata": {},
   "outputs": [],
   "source": [
    "fscl_scl=scaler.transform(fscl)"
   ]
  },
  {
   "cell_type": "code",
   "execution_count": null,
   "id": "2c453231",
   "metadata": {},
   "outputs": [],
   "source": [
    "from sklearn.cluster import KMeans\n",
    "\n",
    "#define the model, fit the model to your data \n",
    "\n",
    "kmeans = KMeans(n_clusters=50, random_state=40)\n",
    "kmeans.fit(fscl_scl)"
   ]
  },
  {
   "cell_type": "code",
   "execution_count": null,
   "id": "fba5e8a7",
   "metadata": {},
   "outputs": [],
   "source": [
    "kmeans.cluster_centers_"
   ]
  },
  {
   "cell_type": "code",
   "execution_count": null,
   "id": "cf94ab26",
   "metadata": {},
   "outputs": [],
   "source": [
    "clusters=kmeans.predict(fscl_scl)"
   ]
  },
  {
   "cell_type": "code",
   "execution_count": null,
   "id": "f6d41ab8",
   "metadata": {},
   "outputs": [],
   "source": [
    "pd.Series(clusters).value_counts().sort_index()"
   ]
  },
  {
   "cell_type": "code",
   "execution_count": null,
   "id": "24de550a",
   "metadata": {
    "scrolled": true
   },
   "outputs": [],
   "source": [
    "fs['Clusters']=clusters\n",
    "fs.head()"
   ]
  },
  {
   "cell_type": "code",
   "execution_count": null,
   "id": "16172ad1",
   "metadata": {},
   "outputs": [],
   "source": []
  },
  {
   "cell_type": "code",
   "execution_count": null,
   "id": "5545f3d7",
   "metadata": {},
   "outputs": [],
   "source": [
    "Fs_clu=fs[fs['Clusters']==cluster]"
   ]
  },
  {
   "cell_type": "code",
   "execution_count": null,
   "id": "74123c06",
   "metadata": {},
   "outputs": [],
   "source": [
    "Fs_clu"
   ]
  },
  {
   "cell_type": "code",
   "execution_count": null,
   "id": "868faf91",
   "metadata": {},
   "outputs": [],
   "source": [
    "import numpy as np\n",
    "song_rec=Fs_clu[['Song','Movie','Link']].sample().values[0]\n",
    "print(song_rec)"
   ]
  },
  {
   "cell_type": "code",
   "execution_count": null,
   "id": "35809b48",
   "metadata": {},
   "outputs": [],
   "source": []
  },
  {
   "cell_type": "code",
   "execution_count": null,
   "id": "89819102",
   "metadata": {},
   "outputs": [],
   "source": [
    "billtops=pd.read_csv('List_songs_artist.csv')"
   ]
  },
  {
   "cell_type": "code",
   "execution_count": null,
   "id": "cc38030b",
   "metadata": {},
   "outputs": [],
   "source": [
    "song=input('Enter a song do you like?').title()"
   ]
  },
  {
   "cell_type": "code",
   "execution_count": 15,
   "id": "97bb1e85",
   "metadata": {},
   "outputs": [
    {
     "name": "stdout",
     "output_type": "stream",
     "text": [
      "Enter a song do you like?la bamba\n"
     ]
    }
   ],
   "source": [
    "def song(song=input('Enter a song do you like?').title()):\n",
    "    \n",
    "    if song in billtops.Titles.values:\n",
    "        other= randint(0,(len(billtops)))\n",
    "        print('Sure you like this:' + '' '' +billtops['Titles'][other] + ' by '+billtops['Artists'][other])\n",
    "    else:\n",
    "        results = sp.search(q=song, limit=1)\n",
    "        id=results[\"tracks\"]['items'][0]['id']\n",
    "        songf=sp.audio_features(id)\n",
    "        songf=pd.DataFrame(songf)\n",
    "        sf_cl=songf.drop(['type','uri','track_href','analysis_url','id'],axis=1)\n",
    "        scaler= StandardScaler()\n",
    "        scaler.fit(sf_cl)\n",
    "        sf_cl_sc=scaler.transform(sf_cl)\n",
    "        kmeans = KMeans(n_clusters=1, random_state=40)\n",
    "        kmeans.fit(sf_cl_sc)\n",
    "        kmeans.cluster_centers_\n",
    "        cluster=kmeans.predict(sf_cl_sc)\n",
    "        cluster=cluster[0]\n",
    "        fs=pd.read_csv('film_series.csv')\n",
    "        fscl=fs.drop(['Song','Movie','Link','uri','track_href','analysis_url','id'],axis=1)\n",
    "        scaler.fit(fscl)\n",
    "        fscl_scl=scaler.transform(fscl)\n",
    "        kmeans = KMeans(n_clusters=50, random_state=40)\n",
    "        kmeans.fit(fscl_scl)\n",
    "        kmeans.cluster_centers_\n",
    "        clusters=kmeans.predict(fscl_scl)\n",
    "        fs['Clusters']=clusters\n",
    "        Fs_clu=fs[fs['Clusters']==cluster]\n",
    "        song_rec=Fs_clu[['Song','Movie','Link']].sample().values[0]\n",
    "        song_rec\n",
    "        return print(song)\n",
    "    \n",
    "    "
   ]
  },
  {
   "cell_type": "code",
   "execution_count": 12,
   "id": "286caae2",
   "metadata": {},
   "outputs": [
    {
     "data": {
      "text/plain": [
       "<function __main__.song()>"
      ]
     },
     "execution_count": 12,
     "metadata": {},
     "output_type": "execute_result"
    }
   ],
   "source": [
    "song"
   ]
  },
  {
   "cell_type": "code",
   "execution_count": null,
   "id": "1b20c19d",
   "metadata": {},
   "outputs": [],
   "source": []
  },
  {
   "cell_type": "code",
   "execution_count": null,
   "id": "c54ae67e",
   "metadata": {},
   "outputs": [],
   "source": []
  },
  {
   "cell_type": "code",
   "execution_count": null,
   "id": "c47ce514",
   "metadata": {},
   "outputs": [],
   "source": []
  },
  {
   "cell_type": "code",
   "execution_count": null,
   "id": "7c41d48a",
   "metadata": {},
   "outputs": [],
   "source": []
  }
 ],
 "metadata": {
  "kernelspec": {
   "display_name": "Python 3",
   "language": "python",
   "name": "python3"
  },
  "language_info": {
   "codemirror_mode": {
    "name": "ipython",
    "version": 3
   },
   "file_extension": ".py",
   "mimetype": "text/x-python",
   "name": "python",
   "nbconvert_exporter": "python",
   "pygments_lexer": "ipython3",
   "version": "3.9.5"
  },
  "latex_envs": {
   "LaTeX_envs_menu_present": true,
   "autoclose": true,
   "autocomplete": true,
   "bibliofile": "biblio.bib",
   "cite_by": "apalike",
   "current_citInitial": 1,
   "eqLabelWithNumbers": true,
   "eqNumInitial": 1,
   "hotkeys": {
    "equation": "Ctrl-E",
    "itemize": "Ctrl-I"
   },
   "labels_anchors": false,
   "latex_user_defs": false,
   "report_style_numbering": false,
   "user_envs_cfg": true
  },
  "toc": {
   "base_numbering": 1,
   "nav_menu": {},
   "number_sections": true,
   "sideBar": true,
   "skip_h1_title": false,
   "title_cell": "Table of Contents",
   "title_sidebar": "Contents",
   "toc_cell": false,
   "toc_position": {},
   "toc_section_display": true,
   "toc_window_display": false
  },
  "varInspector": {
   "cols": {
    "lenName": 16,
    "lenType": 16,
    "lenVar": 40
   },
   "kernels_config": {
    "python": {
     "delete_cmd_postfix": "",
     "delete_cmd_prefix": "del ",
     "library": "var_list.py",
     "varRefreshCmd": "print(var_dic_list())"
    },
    "r": {
     "delete_cmd_postfix": ") ",
     "delete_cmd_prefix": "rm(",
     "library": "var_list.r",
     "varRefreshCmd": "cat(var_dic_list()) "
    }
   },
   "types_to_exclude": [
    "module",
    "function",
    "builtin_function_or_method",
    "instance",
    "_Feature"
   ],
   "window_display": false
  }
 },
 "nbformat": 4,
 "nbformat_minor": 5
}
