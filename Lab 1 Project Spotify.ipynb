{
 "cells": [
  {
   "cell_type": "markdown",
   "metadata": {},
   "source": [
    "## Web Scraping Lab 1:\n",
    "\n",
    "\n",
    "### Prepare your project:\n",
    "\n",
    "#### Business goal:\n",
    "\n",
    "Make sure you've understood the big picture of your project: the goal of the company (Gnod), their current product (Gnoosic), their strategy, and how your project fits into this context. Re-read the business case and the e-mail from the CTO, take a look at the flowchart and create an initial Trello board with the tasks you think you'll have to acomplish.\n",
    "\n",
    "#### Scraping popular songs:\n",
    "\n",
    "Your product will take a song as an input from the user and will output another song (the recommendation). In most cases, the recommended song will have to be similar to the inputed song, but the CTO thinks that if the song is on the top charts at the moment, the user will enjoy more a recommendation of a song that's also popular at the moment.\n",
    "\n",
    "You have find data on the internet about currently popular songs. Billboard mantains a weekly Top 100 of \"hot\" songs here: https://www.billboard.com/charts/hot-100. \n",
    "\n",
    "It's a good place to start! Scrape the current top 100 songs and their respective artists, and put the information into a pandas dataframe."
   ]
  },
  {
   "cell_type": "code",
   "execution_count": 1,
   "metadata": {},
   "outputs": [],
   "source": [
    "\n",
    "from bs4 import BeautifulSoup\n",
    "import requests \n",
    "import pandas as pd "
   ]
  },
  {
   "cell_type": "code",
   "execution_count": 2,
   "metadata": {},
   "outputs": [],
   "source": [
    "url ='https://www.billboard.com/charts/hot-100'"
   ]
  },
  {
   "cell_type": "code",
   "execution_count": 3,
   "metadata": {},
   "outputs": [],
   "source": [
    "response = requests.get(url)"
   ]
  },
  {
   "cell_type": "code",
   "execution_count": 4,
   "metadata": {},
   "outputs": [
    {
     "data": {
      "text/plain": [
       "200"
      ]
     },
     "execution_count": 4,
     "metadata": {},
     "output_type": "execute_result"
    }
   ],
   "source": [
    "response.status_code"
   ]
  },
  {
   "cell_type": "code",
   "execution_count": 5,
   "metadata": {},
   "outputs": [],
   "source": [
    "soup=BeautifulSoup(response.content, 'html.parser')"
   ]
  },
  {
   "cell_type": "code",
   "execution_count": 6,
   "metadata": {
    "run_control": {
     "marked": true
    }
   },
   "outputs": [
    {
     "name": "stderr",
     "output_type": "stream",
     "text": [
      "IOPub data rate exceeded.\n",
      "The notebook server will temporarily stop sending output\n",
      "to the client in order to avoid crashing it.\n",
      "To change this limit, set the config variable\n",
      "`--NotebookApp.iopub_data_rate_limit`.\n",
      "\n",
      "Current values:\n",
      "NotebookApp.iopub_data_rate_limit=1000000.0 (bytes/sec)\n",
      "NotebookApp.rate_limit_window=3.0 (secs)\n",
      "\n"
     ]
    }
   ],
   "source": [
    "print(soup.prettify())"
   ]
  },
  {
   "cell_type": "code",
   "execution_count": 7,
   "metadata": {
    "scrolled": true
   },
   "outputs": [
    {
     "data": {
      "text/plain": [
       "[<span class=\"chart-element__information__song text--truncate color--primary\">Butter</span>,\n",
       " <span class=\"chart-element__information__song text--truncate color--primary\">Good 4 U</span>,\n",
       " <span class=\"chart-element__information__song text--truncate color--primary\">Levitating</span>,\n",
       " <span class=\"chart-element__information__song text--truncate color--primary\">Kiss Me More</span>,\n",
       " <span class=\"chart-element__information__song text--truncate color--primary\">Montero (Call Me By Your Name)</span>,\n",
       " <span class=\"chart-element__information__song text--truncate color--primary\">Bad Habits</span>,\n",
       " <span class=\"chart-element__information__song text--truncate color--primary\">Leave The Door Open</span>,\n",
       " <span class=\"chart-element__information__song text--truncate color--primary\">Peaches</span>,\n",
       " <span class=\"chart-element__information__song text--truncate color--primary\">Save Your Tears</span>,\n",
       " <span class=\"chart-element__information__song text--truncate color--primary\">Deja Vu</span>,\n",
       " <span class=\"chart-element__information__song text--truncate color--primary\">Astronaut In The Ocean</span>,\n",
       " <span class=\"chart-element__information__song text--truncate color--primary\">Rapstar</span>,\n",
       " <span class=\"chart-element__information__song text--truncate color--primary\">You Right</span>,\n",
       " <span class=\"chart-element__information__song text--truncate color--primary\">Am I The Only One</span>,\n",
       " <span class=\"chart-element__information__song text--truncate color--primary\">Blinding Lights</span>,\n",
       " <span class=\"chart-element__information__song text--truncate color--primary\">Without You</span>,\n",
       " <span class=\"chart-element__information__song text--truncate color--primary\">Thot Shit</span>,\n",
       " <span class=\"chart-element__information__song text--truncate color--primary\">Forever After All</span>,\n",
       " <span class=\"chart-element__information__song text--truncate color--primary\">Heartbreak Anniversary</span>,\n",
       " <span class=\"chart-element__information__song text--truncate color--primary\">Fancy Like</span>,\n",
       " <span class=\"chart-element__information__song text--truncate color--primary\">Every Chance I Get</span>,\n",
       " <span class=\"chart-element__information__song text--truncate color--primary\">Famous Friends</span>,\n",
       " <span class=\"chart-element__information__song text--truncate color--primary\">Beautiful Mistakes</span>,\n",
       " <span class=\"chart-element__information__song text--truncate color--primary\">Best Friend</span>,\n",
       " <span class=\"chart-element__information__song text--truncate color--primary\">Lil Bit</span>,\n",
       " <span class=\"chart-element__information__song text--truncate color--primary\">Single Saturday Night</span>,\n",
       " <span class=\"chart-element__information__song text--truncate color--primary\">Heat Waves</span>,\n",
       " <span class=\"chart-element__information__song text--truncate color--primary\">Leave Before You Love Me</span>,\n",
       " <span class=\"chart-element__information__song text--truncate color--primary\">Wants And Needs</span>,\n",
       " <span class=\"chart-element__information__song text--truncate color--primary\">Yonaguni</span>,\n",
       " <span class=\"chart-element__information__song text--truncate color--primary\">Blame It On You</span>,\n",
       " <span class=\"chart-element__information__song text--truncate color--primary\">Late At Night</span>,\n",
       " <span class=\"chart-element__information__song text--truncate color--primary\">Drivers License</span>,\n",
       " <span class=\"chart-element__information__song text--truncate color--primary\">Telepatia</span>,\n",
       " <span class=\"chart-element__information__song text--truncate color--primary\">Glad You Exist</span>,\n",
       " <span class=\"chart-element__information__song text--truncate color--primary\">Mood</span>,\n",
       " <span class=\"chart-element__information__song text--truncate color--primary\">Wockesha</span>,\n",
       " <span class=\"chart-element__information__song text--truncate color--primary\">Traitor</span>,\n",
       " <span class=\"chart-element__information__song text--truncate color--primary\">Todo de Ti</span>,\n",
       " <span class=\"chart-element__information__song text--truncate color--primary\">Drinkin' Beer. Talkin' God. Amen.</span>,\n",
       " <span class=\"chart-element__information__song text--truncate color--primary\">Ain't Shit</span>,\n",
       " <span class=\"chart-element__information__song text--truncate color--primary\">pov</span>,\n",
       " <span class=\"chart-element__information__song text--truncate color--primary\">My Ex's Best Friend</span>,\n",
       " <span class=\"chart-element__information__song text--truncate color--primary\">WUSYANAME</span>,\n",
       " <span class=\"chart-element__information__song text--truncate color--primary\">Calling My Phone</span>,\n",
       " <span class=\"chart-element__information__song text--truncate color--primary\">Beggin'</span>,\n",
       " <span class=\"chart-element__information__song text--truncate color--primary\">Ball If I Want To</span>,\n",
       " <span class=\"chart-element__information__song text--truncate color--primary\">Gone</span>,\n",
       " <span class=\"chart-element__information__song text--truncate color--primary\">Wasting Time</span>,\n",
       " <span class=\"chart-element__information__song text--truncate color--primary\">Red Light Green Light</span>,\n",
       " <span class=\"chart-element__information__song text--truncate color--primary\">Things A Man Oughta Know</span>,\n",
       " <span class=\"chart-element__information__song text--truncate color--primary\">Favorite Crime</span>,\n",
       " <span class=\"chart-element__information__song text--truncate color--primary\">Settling Down</span>,\n",
       " <span class=\"chart-element__information__song text--truncate color--primary\">Way Less Sad</span>,\n",
       " <span class=\"chart-element__information__song text--truncate color--primary\">Straightenin</span>,\n",
       " <span class=\"chart-element__information__song text--truncate color--primary\">Ski</span>,\n",
       " <span class=\"chart-element__information__song text--truncate color--primary\">AM</span>,\n",
       " <span class=\"chart-element__information__song text--truncate color--primary\">Arcade</span>,\n",
       " <span class=\"chart-element__information__song text--truncate color--primary\">Happier</span>,\n",
       " <span class=\"chart-element__information__song text--truncate color--primary\">You</span>,\n",
       " <span class=\"chart-element__information__song text--truncate color--primary\">my.life</span>,\n",
       " <span class=\"chart-element__information__song text--truncate color--primary\">Chasing After You</span>,\n",
       " <span class=\"chart-element__information__song text--truncate color--primary\">Drunk (And I Don't Wanna Go Home)</span>,\n",
       " <span class=\"chart-element__information__song text--truncate color--primary\">Need To Know</span>,\n",
       " <span class=\"chart-element__information__song text--truncate color--primary\">Track Star</span>,\n",
       " <span class=\"chart-element__information__song text--truncate color--primary\">One Too Many</span>,\n",
       " <span class=\"chart-element__information__song text--truncate color--primary\">Hats Off</span>,\n",
       " <span class=\"chart-element__information__song text--truncate color--primary\">Brutal</span>,\n",
       " <span class=\"chart-element__information__song text--truncate color--primary\">Build A Bitch</span>,\n",
       " <span class=\"chart-element__information__song text--truncate color--primary\">Breaking Up Was Easy In The 90's</span>,\n",
       " <span class=\"chart-element__information__song text--truncate color--primary\">Country Again</span>,\n",
       " <span class=\"chart-element__information__song text--truncate color--primary\">Fiel</span>,\n",
       " <span class=\"chart-element__information__song text--truncate color--primary\">Renegade</span>,\n",
       " <span class=\"chart-element__information__song text--truncate color--primary\">Waves</span>,\n",
       " <span class=\"chart-element__information__song text--truncate color--primary\">We Didn't Have Much</span>,\n",
       " <span class=\"chart-element__information__song text--truncate color--primary\">Minimum Wage</span>,\n",
       " <span class=\"chart-element__information__song text--truncate color--primary\">Follow You</span>,\n",
       " <span class=\"chart-element__information__song text--truncate color--primary\">Jealousy, Jealousy</span>,\n",
       " <span class=\"chart-element__information__song text--truncate color--primary\">Come Through</span>,\n",
       " <span class=\"chart-element__information__song text--truncate color--primary\">Twerkulator</span>,\n",
       " <span class=\"chart-element__information__song text--truncate color--primary\">Cry No More</span>,\n",
       " <span class=\"chart-element__information__song text--truncate color--primary\">Essence</span>,\n",
       " <span class=\"chart-element__information__song text--truncate color--primary\">A-O-K</span>,\n",
       " <span class=\"chart-element__information__song text--truncate color--primary\">4 Da Gang</span>,\n",
       " <span class=\"chart-element__information__song text--truncate color--primary\">Tombstone</span>,\n",
       " <span class=\"chart-element__information__song text--truncate color--primary\">Made For You</span>,\n",
       " <span class=\"chart-element__information__song text--truncate color--primary\">Having Our Way</span>,\n",
       " <span class=\"chart-element__information__song text--truncate color--primary\">My Boy</span>,\n",
       " <span class=\"chart-element__information__song text--truncate color--primary\">transparentsoul</span>,\n",
       " <span class=\"chart-element__information__song text--truncate color--primary\">You Should Probably Leave</span>,\n",
       " <span class=\"chart-element__information__song text--truncate color--primary\">I Was On A Boat That Day</span>,\n",
       " <span class=\"chart-element__information__song text--truncate color--primary\">Outside</span>,\n",
       " <span class=\"chart-element__information__song text--truncate color--primary\">Working</span>,\n",
       " <span class=\"chart-element__information__song text--truncate color--primary\">Miss The Rage</span>,\n",
       " <span class=\"chart-element__information__song text--truncate color--primary\">Cold Beer Calling My Name</span>,\n",
       " <span class=\"chart-element__information__song text--truncate color--primary\">All I Know So Far</span>,\n",
       " <span class=\"chart-element__information__song text--truncate color--primary\">What's Next</span>,\n",
       " <span class=\"chart-element__information__song text--truncate color--primary\">Enough For You</span>,\n",
       " <span class=\"chart-element__information__song text--truncate color--primary\">Juggernaut</span>,\n",
       " <span class=\"chart-element__information__song text--truncate color--primary\">Tell Em</span>]"
      ]
     },
     "execution_count": 7,
     "metadata": {},
     "output_type": "execute_result"
    }
   ],
   "source": [
    "title=soup.select('span.chart-element__information > span.chart-element__information__song.text--truncate.color--primary')\n",
    "title"
   ]
  },
  {
   "cell_type": "code",
   "execution_count": 8,
   "metadata": {
    "scrolled": true
   },
   "outputs": [
    {
     "name": "stdout",
     "output_type": "stream",
     "text": [
      "Butter\n",
      "Good 4 U\n",
      "Levitating\n",
      "Kiss Me More\n",
      "Montero (Call Me By Your Name)\n",
      "Bad Habits\n",
      "Leave The Door Open\n",
      "Peaches\n",
      "Save Your Tears\n",
      "Deja Vu\n",
      "Astronaut In The Ocean\n",
      "Rapstar\n",
      "You Right\n",
      "Am I The Only One\n",
      "Blinding Lights\n",
      "Without You\n",
      "Thot Shit\n",
      "Forever After All\n",
      "Heartbreak Anniversary\n",
      "Fancy Like\n",
      "Every Chance I Get\n",
      "Famous Friends\n",
      "Beautiful Mistakes\n",
      "Best Friend\n",
      "Lil Bit\n",
      "Single Saturday Night\n",
      "Heat Waves\n",
      "Leave Before You Love Me\n",
      "Wants And Needs\n",
      "Yonaguni\n",
      "Blame It On You\n",
      "Late At Night\n",
      "Drivers License\n",
      "Telepatia\n",
      "Glad You Exist\n",
      "Mood\n",
      "Wockesha\n",
      "Traitor\n",
      "Todo de Ti\n",
      "Drinkin' Beer. Talkin' God. Amen.\n",
      "Ain't Shit\n",
      "pov\n",
      "My Ex's Best Friend\n",
      "WUSYANAME\n",
      "Calling My Phone\n",
      "Beggin'\n",
      "Ball If I Want To\n",
      "Gone\n",
      "Wasting Time\n",
      "Red Light Green Light\n",
      "Things A Man Oughta Know\n",
      "Favorite Crime\n",
      "Settling Down\n",
      "Way Less Sad\n",
      "Straightenin\n",
      "Ski\n",
      "AM\n",
      "Arcade\n",
      "Happier\n",
      "You\n",
      "my.life\n",
      "Chasing After You\n",
      "Drunk (And I Don't Wanna Go Home)\n",
      "Need To Know\n",
      "Track Star\n",
      "One Too Many\n",
      "Hats Off\n",
      "Brutal\n",
      "Build A Bitch\n",
      "Breaking Up Was Easy In The 90's\n",
      "Country Again\n",
      "Fiel\n",
      "Renegade\n",
      "Waves\n",
      "We Didn't Have Much\n",
      "Minimum Wage\n",
      "Follow You\n",
      "Jealousy, Jealousy\n",
      "Come Through\n",
      "Twerkulator\n",
      "Cry No More\n",
      "Essence\n",
      "A-O-K\n",
      "4 Da Gang\n",
      "Tombstone\n",
      "Made For You\n",
      "Having Our Way\n",
      "My Boy\n",
      "transparentsoul\n",
      "You Should Probably Leave\n",
      "I Was On A Boat That Day\n",
      "Outside\n",
      "Working\n",
      "Miss The Rage\n",
      "Cold Beer Calling My Name\n",
      "All I Know So Far\n",
      "What's Next\n",
      "Enough For You\n",
      "Juggernaut\n",
      "Tell Em\n"
     ]
    }
   ],
   "source": [
    "for t in title:\n",
    "    print(t.text)"
   ]
  },
  {
   "cell_type": "code",
   "execution_count": 9,
   "metadata": {
    "scrolled": true
   },
   "outputs": [
    {
     "data": {
      "text/plain": [
       "[<span class=\"chart-element__information__artist text--truncate color--secondary\">BTS</span>,\n",
       " <span class=\"chart-element__information__artist text--truncate color--secondary\">Olivia Rodrigo</span>,\n",
       " <span class=\"chart-element__information__artist text--truncate color--secondary\">Dua Lipa Featuring DaBaby</span>,\n",
       " <span class=\"chart-element__information__artist text--truncate color--secondary\">Doja Cat Featuring SZA</span>,\n",
       " <span class=\"chart-element__information__artist text--truncate color--secondary\">Lil Nas X</span>,\n",
       " <span class=\"chart-element__information__artist text--truncate color--secondary\">Ed Sheeran</span>,\n",
       " <span class=\"chart-element__information__artist text--truncate color--secondary\">Silk Sonic (Bruno Mars &amp; Anderson .Paak)</span>,\n",
       " <span class=\"chart-element__information__artist text--truncate color--secondary\">Justin Bieber Featuring Daniel Caesar &amp; Giveon</span>,\n",
       " <span class=\"chart-element__information__artist text--truncate color--secondary\">The Weeknd &amp; Ariana Grande</span>,\n",
       " <span class=\"chart-element__information__artist text--truncate color--secondary\">Olivia Rodrigo</span>,\n",
       " <span class=\"chart-element__information__artist text--truncate color--secondary\">Masked Wolf</span>,\n",
       " <span class=\"chart-element__information__artist text--truncate color--secondary\">Polo G</span>,\n",
       " <span class=\"chart-element__information__artist text--truncate color--secondary\">Doja Cat &amp; The Weeknd</span>,\n",
       " <span class=\"chart-element__information__artist text--truncate color--secondary\">Aaron Lewis</span>,\n",
       " <span class=\"chart-element__information__artist text--truncate color--secondary\">The Weeknd</span>,\n",
       " <span class=\"chart-element__information__artist text--truncate color--secondary\">The Kid LAROI</span>,\n",
       " <span class=\"chart-element__information__artist text--truncate color--secondary\">Megan Thee Stallion</span>,\n",
       " <span class=\"chart-element__information__artist text--truncate color--secondary\">Luke Combs</span>,\n",
       " <span class=\"chart-element__information__artist text--truncate color--secondary\">Giveon</span>,\n",
       " <span class=\"chart-element__information__artist text--truncate color--secondary\">Walker Hayes</span>,\n",
       " <span class=\"chart-element__information__artist text--truncate color--secondary\">DJ Khaled Featuring Lil Baby &amp; Lil Durk</span>,\n",
       " <span class=\"chart-element__information__artist text--truncate color--secondary\">Chris Young + Kane Brown</span>,\n",
       " <span class=\"chart-element__information__artist text--truncate color--secondary\">Maroon 5 Featuring Megan Thee Stallion</span>,\n",
       " <span class=\"chart-element__information__artist text--truncate color--secondary\">Saweetie Featuring Doja Cat</span>,\n",
       " <span class=\"chart-element__information__artist text--truncate color--secondary\">Nelly &amp; Florida Georgia Line</span>,\n",
       " <span class=\"chart-element__information__artist text--truncate color--secondary\">Cole Swindell</span>,\n",
       " <span class=\"chart-element__information__artist text--truncate color--secondary\">Glass Animals</span>,\n",
       " <span class=\"chart-element__information__artist text--truncate color--secondary\">Marshmello X Jonas Brothers</span>,\n",
       " <span class=\"chart-element__information__artist text--truncate color--secondary\">Drake Featuring Lil Baby</span>,\n",
       " <span class=\"chart-element__information__artist text--truncate color--secondary\">Bad Bunny</span>,\n",
       " <span class=\"chart-element__information__artist text--truncate color--secondary\">Jason Aldean</span>,\n",
       " <span class=\"chart-element__information__artist text--truncate color--secondary\">Roddy Ricch</span>,\n",
       " <span class=\"chart-element__information__artist text--truncate color--secondary\">Olivia Rodrigo</span>,\n",
       " <span class=\"chart-element__information__artist text--truncate color--secondary\">Kali Uchis</span>,\n",
       " <span class=\"chart-element__information__artist text--truncate color--secondary\">Dan + Shay</span>,\n",
       " <span class=\"chart-element__information__artist text--truncate color--secondary\">24kGoldn Featuring iann dior</span>,\n",
       " <span class=\"chart-element__information__artist text--truncate color--secondary\">Moneybagg Yo</span>,\n",
       " <span class=\"chart-element__information__artist text--truncate color--secondary\">Olivia Rodrigo</span>,\n",
       " <span class=\"chart-element__information__artist text--truncate color--secondary\">Rauw Alejandro</span>,\n",
       " <span class=\"chart-element__information__artist text--truncate color--secondary\">Chase Rice Featuring Florida Georgia Line</span>,\n",
       " <span class=\"chart-element__information__artist text--truncate color--secondary\">Doja Cat</span>,\n",
       " <span class=\"chart-element__information__artist text--truncate color--secondary\">Ariana Grande</span>,\n",
       " <span class=\"chart-element__information__artist text--truncate color--secondary\">Machine Gun Kelly X blackbear</span>,\n",
       " <span class=\"chart-element__information__artist text--truncate color--secondary\">Tyler, The Creator Featuring YoungBoy Never Broke Again &amp; Ty Dolla $ign</span>,\n",
       " <span class=\"chart-element__information__artist text--truncate color--secondary\">Lil Tjay Featuring 6LACK</span>,\n",
       " <span class=\"chart-element__information__artist text--truncate color--secondary\">Maneskin</span>,\n",
       " <span class=\"chart-element__information__artist text--truncate color--secondary\">DaBaby</span>,\n",
       " <span class=\"chart-element__information__artist text--truncate color--secondary\">Dierks Bentley</span>,\n",
       " <span class=\"chart-element__information__artist text--truncate color--secondary\">Brent Faiyaz Featuring Drake</span>,\n",
       " <span class=\"chart-element__information__artist text--truncate color--secondary\">DaBaby</span>,\n",
       " <span class=\"chart-element__information__artist text--truncate color--secondary\">Lainey Wilson</span>,\n",
       " <span class=\"chart-element__information__artist text--truncate color--secondary\">Olivia Rodrigo</span>,\n",
       " <span class=\"chart-element__information__artist text--truncate color--secondary\">Miranda Lambert</span>,\n",
       " <span class=\"chart-element__information__artist text--truncate color--secondary\">AJR</span>,\n",
       " <span class=\"chart-element__information__artist text--truncate color--secondary\">Migos</span>,\n",
       " <span class=\"chart-element__information__artist text--truncate color--secondary\">Young Thug &amp; Gunna</span>,\n",
       " <span class=\"chart-element__information__artist text--truncate color--secondary\">Nio Garcia X J Balvin X Bad Bunny</span>,\n",
       " <span class=\"chart-element__information__artist text--truncate color--secondary\">Duncan Laurence</span>,\n",
       " <span class=\"chart-element__information__artist text--truncate color--secondary\">Olivia Rodrigo</span>,\n",
       " <span class=\"chart-element__information__artist text--truncate color--secondary\">Regard x Troye Sivan x Tate McRae</span>,\n",
       " <span class=\"chart-element__information__artist text--truncate color--secondary\">J. Cole, 21 Savage &amp; Morray</span>,\n",
       " <span class=\"chart-element__information__artist text--truncate color--secondary\">Ryan Hurd With Maren Morris</span>,\n",
       " <span class=\"chart-element__information__artist text--truncate color--secondary\">Elle King &amp; Miranda Lambert</span>,\n",
       " <span class=\"chart-element__information__artist text--truncate color--secondary\">Doja Cat</span>,\n",
       " <span class=\"chart-element__information__artist text--truncate color--secondary\">Mooski</span>,\n",
       " <span class=\"chart-element__information__artist text--truncate color--secondary\">Keith Urban Duet With P!nk</span>,\n",
       " <span class=\"chart-element__information__artist text--truncate color--secondary\">Lil Baby, Lil Durk &amp; Travis Scott</span>,\n",
       " <span class=\"chart-element__information__artist text--truncate color--secondary\">Olivia Rodrigo</span>,\n",
       " <span class=\"chart-element__information__artist text--truncate color--secondary\">Bella Poarch</span>,\n",
       " <span class=\"chart-element__information__artist text--truncate color--secondary\">Sam Hunt</span>,\n",
       " <span class=\"chart-element__information__artist text--truncate color--secondary\">Thomas Rhett</span>,\n",
       " <span class=\"chart-element__information__artist text--truncate color--secondary\">Los Legendarios, Wisin &amp; Jhay Cortez</span>,\n",
       " <span class=\"chart-element__information__artist text--truncate color--secondary\">Big Red Machine Featuring Taylor Swift</span>,\n",
       " <span class=\"chart-element__information__artist text--truncate color--secondary\">Luke Bryan</span>,\n",
       " <span class=\"chart-element__information__artist text--truncate color--secondary\">Justin Moore</span>,\n",
       " <span class=\"chart-element__information__artist text--truncate color--secondary\">Blake Shelton</span>,\n",
       " <span class=\"chart-element__information__artist text--truncate color--secondary\">Imagine Dragons</span>,\n",
       " <span class=\"chart-element__information__artist text--truncate color--secondary\">Olivia Rodrigo</span>,\n",
       " <span class=\"chart-element__information__artist text--truncate color--secondary\">H.E.R. Featuring Chris Brown</span>,\n",
       " <span class=\"chart-element__information__artist text--truncate color--secondary\">City Girls</span>,\n",
       " <span class=\"chart-element__information__artist text--truncate color--secondary\">G Herbo Featuring Polo G &amp; Lil Tjay</span>,\n",
       " <span class=\"chart-element__information__artist text--truncate color--secondary\">Wizkid Featuring Tems</span>,\n",
       " <span class=\"chart-element__information__artist text--truncate color--secondary\">Tai Verdes</span>,\n",
       " <span class=\"chart-element__information__artist text--truncate color--secondary\">42 Dugg &amp; Roddy Ricch</span>,\n",
       " <span class=\"chart-element__information__artist text--truncate color--secondary\">Rod Wave</span>,\n",
       " <span class=\"chart-element__information__artist text--truncate color--secondary\">Jake Owen</span>,\n",
       " <span class=\"chart-element__information__artist text--truncate color--secondary\">Migos Featuring Drake</span>,\n",
       " <span class=\"chart-element__information__artist text--truncate color--secondary\">Elvie Shane</span>,\n",
       " <span class=\"chart-element__information__artist text--truncate color--secondary\">Willow Featuring Travis Barker</span>,\n",
       " <span class=\"chart-element__information__artist text--truncate color--secondary\">Chris Stapleton</span>,\n",
       " <span class=\"chart-element__information__artist text--truncate color--secondary\">Old Dominion</span>,\n",
       " <span class=\"chart-element__information__artist text--truncate color--secondary\">MO3 X OG Bobby Billions</span>,\n",
       " <span class=\"chart-element__information__artist text--truncate color--secondary\">Tate McRae X Khalid</span>,\n",
       " <span class=\"chart-element__information__artist text--truncate color--secondary\">Trippie Redd &amp; Playboi Carti</span>,\n",
       " <span class=\"chart-element__information__artist text--truncate color--secondary\">Jameson Rodgers Featuring Luke Combs</span>,\n",
       " <span class=\"chart-element__information__artist text--truncate color--secondary\">P!nk</span>,\n",
       " <span class=\"chart-element__information__artist text--truncate color--secondary\">Drake</span>,\n",
       " <span class=\"chart-element__information__artist text--truncate color--secondary\">Olivia Rodrigo</span>,\n",
       " <span class=\"chart-element__information__artist text--truncate color--secondary\">Tyler, The Creator Featuring Lil Uzi Vert &amp; Pharrell Williams</span>,\n",
       " <span class=\"chart-element__information__artist text--truncate color--secondary\">Cochise &amp; $NOT</span>]"
      ]
     },
     "execution_count": 9,
     "metadata": {},
     "output_type": "execute_result"
    }
   ],
   "source": [
    "artist=soup.select('span.chart-element__information__artist.text--truncate.color--secondary')\n",
    "artist"
   ]
  },
  {
   "cell_type": "code",
   "execution_count": 10,
   "metadata": {
    "scrolled": true
   },
   "outputs": [
    {
     "name": "stdout",
     "output_type": "stream",
     "text": [
      "BTS\n",
      "Olivia Rodrigo\n",
      "Dua Lipa Featuring DaBaby\n",
      "Doja Cat Featuring SZA\n",
      "Lil Nas X\n",
      "Ed Sheeran\n",
      "Silk Sonic (Bruno Mars & Anderson .Paak)\n",
      "Justin Bieber Featuring Daniel Caesar & Giveon\n",
      "The Weeknd & Ariana Grande\n",
      "Olivia Rodrigo\n",
      "Masked Wolf\n",
      "Polo G\n",
      "Doja Cat & The Weeknd\n",
      "Aaron Lewis\n",
      "The Weeknd\n",
      "The Kid LAROI\n",
      "Megan Thee Stallion\n",
      "Luke Combs\n",
      "Giveon\n",
      "Walker Hayes\n",
      "DJ Khaled Featuring Lil Baby & Lil Durk\n",
      "Chris Young + Kane Brown\n",
      "Maroon 5 Featuring Megan Thee Stallion\n",
      "Saweetie Featuring Doja Cat\n",
      "Nelly & Florida Georgia Line\n",
      "Cole Swindell\n",
      "Glass Animals\n",
      "Marshmello X Jonas Brothers\n",
      "Drake Featuring Lil Baby\n",
      "Bad Bunny\n",
      "Jason Aldean\n",
      "Roddy Ricch\n",
      "Olivia Rodrigo\n",
      "Kali Uchis\n",
      "Dan + Shay\n",
      "24kGoldn Featuring iann dior\n",
      "Moneybagg Yo\n",
      "Olivia Rodrigo\n",
      "Rauw Alejandro\n",
      "Chase Rice Featuring Florida Georgia Line\n",
      "Doja Cat\n",
      "Ariana Grande\n",
      "Machine Gun Kelly X blackbear\n",
      "Tyler, The Creator Featuring YoungBoy Never Broke Again & Ty Dolla $ign\n",
      "Lil Tjay Featuring 6LACK\n",
      "Maneskin\n",
      "DaBaby\n",
      "Dierks Bentley\n",
      "Brent Faiyaz Featuring Drake\n",
      "DaBaby\n",
      "Lainey Wilson\n",
      "Olivia Rodrigo\n",
      "Miranda Lambert\n",
      "AJR\n",
      "Migos\n",
      "Young Thug & Gunna\n",
      "Nio Garcia X J Balvin X Bad Bunny\n",
      "Duncan Laurence\n",
      "Olivia Rodrigo\n",
      "Regard x Troye Sivan x Tate McRae\n",
      "J. Cole, 21 Savage & Morray\n",
      "Ryan Hurd With Maren Morris\n",
      "Elle King & Miranda Lambert\n",
      "Doja Cat\n",
      "Mooski\n",
      "Keith Urban Duet With P!nk\n",
      "Lil Baby, Lil Durk & Travis Scott\n",
      "Olivia Rodrigo\n",
      "Bella Poarch\n",
      "Sam Hunt\n",
      "Thomas Rhett\n",
      "Los Legendarios, Wisin & Jhay Cortez\n",
      "Big Red Machine Featuring Taylor Swift\n",
      "Luke Bryan\n",
      "Justin Moore\n",
      "Blake Shelton\n",
      "Imagine Dragons\n",
      "Olivia Rodrigo\n",
      "H.E.R. Featuring Chris Brown\n",
      "City Girls\n",
      "G Herbo Featuring Polo G & Lil Tjay\n",
      "Wizkid Featuring Tems\n",
      "Tai Verdes\n",
      "42 Dugg & Roddy Ricch\n",
      "Rod Wave\n",
      "Jake Owen\n",
      "Migos Featuring Drake\n",
      "Elvie Shane\n",
      "Willow Featuring Travis Barker\n",
      "Chris Stapleton\n",
      "Old Dominion\n",
      "MO3 X OG Bobby Billions\n",
      "Tate McRae X Khalid\n",
      "Trippie Redd & Playboi Carti\n",
      "Jameson Rodgers Featuring Luke Combs\n",
      "P!nk\n",
      "Drake\n",
      "Olivia Rodrigo\n",
      "Tyler, The Creator Featuring Lil Uzi Vert & Pharrell Williams\n",
      "Cochise & $NOT\n"
     ]
    }
   ],
   "source": [
    "for a in artist:\n",
    "    print(a.text)"
   ]
  },
  {
   "cell_type": "code",
   "execution_count": 11,
   "metadata": {},
   "outputs": [],
   "source": [
    "from tqdm.notebook import tqdm "
   ]
  },
  {
   "cell_type": "code",
   "execution_count": 12,
   "metadata": {
    "scrolled": true
   },
   "outputs": [
    {
     "name": "stdout",
     "output_type": "stream",
     "text": [
      "['BTS']\n",
      "['BTS', 'Olivia Rodrigo']\n",
      "['BTS', 'Olivia Rodrigo', 'Dua Lipa Featuring DaBaby']\n",
      "['BTS', 'Olivia Rodrigo', 'Dua Lipa Featuring DaBaby', 'Doja Cat Featuring SZA']\n",
      "['BTS', 'Olivia Rodrigo', 'Dua Lipa Featuring DaBaby', 'Doja Cat Featuring SZA', 'Lil Nas X']\n",
      "['BTS', 'Olivia Rodrigo', 'Dua Lipa Featuring DaBaby', 'Doja Cat Featuring SZA', 'Lil Nas X', 'Ed Sheeran']\n",
      "['BTS', 'Olivia Rodrigo', 'Dua Lipa Featuring DaBaby', 'Doja Cat Featuring SZA', 'Lil Nas X', 'Ed Sheeran', 'Silk Sonic (Bruno Mars & Anderson .Paak)']\n",
      "['BTS', 'Olivia Rodrigo', 'Dua Lipa Featuring DaBaby', 'Doja Cat Featuring SZA', 'Lil Nas X', 'Ed Sheeran', 'Silk Sonic (Bruno Mars & Anderson .Paak)', 'Justin Bieber Featuring Daniel Caesar & Giveon']\n",
      "['BTS', 'Olivia Rodrigo', 'Dua Lipa Featuring DaBaby', 'Doja Cat Featuring SZA', 'Lil Nas X', 'Ed Sheeran', 'Silk Sonic (Bruno Mars & Anderson .Paak)', 'Justin Bieber Featuring Daniel Caesar & Giveon', 'The Weeknd & Ariana Grande']\n",
      "['BTS', 'Olivia Rodrigo', 'Dua Lipa Featuring DaBaby', 'Doja Cat Featuring SZA', 'Lil Nas X', 'Ed Sheeran', 'Silk Sonic (Bruno Mars & Anderson .Paak)', 'Justin Bieber Featuring Daniel Caesar & Giveon', 'The Weeknd & Ariana Grande', 'Olivia Rodrigo']\n",
      "['BTS', 'Olivia Rodrigo', 'Dua Lipa Featuring DaBaby', 'Doja Cat Featuring SZA', 'Lil Nas X', 'Ed Sheeran', 'Silk Sonic (Bruno Mars & Anderson .Paak)', 'Justin Bieber Featuring Daniel Caesar & Giveon', 'The Weeknd & Ariana Grande', 'Olivia Rodrigo', 'Masked Wolf']\n",
      "['BTS', 'Olivia Rodrigo', 'Dua Lipa Featuring DaBaby', 'Doja Cat Featuring SZA', 'Lil Nas X', 'Ed Sheeran', 'Silk Sonic (Bruno Mars & Anderson .Paak)', 'Justin Bieber Featuring Daniel Caesar & Giveon', 'The Weeknd & Ariana Grande', 'Olivia Rodrigo', 'Masked Wolf', 'Polo G']\n",
      "['BTS', 'Olivia Rodrigo', 'Dua Lipa Featuring DaBaby', 'Doja Cat Featuring SZA', 'Lil Nas X', 'Ed Sheeran', 'Silk Sonic (Bruno Mars & Anderson .Paak)', 'Justin Bieber Featuring Daniel Caesar & Giveon', 'The Weeknd & Ariana Grande', 'Olivia Rodrigo', 'Masked Wolf', 'Polo G', 'Doja Cat & The Weeknd']\n",
      "['BTS', 'Olivia Rodrigo', 'Dua Lipa Featuring DaBaby', 'Doja Cat Featuring SZA', 'Lil Nas X', 'Ed Sheeran', 'Silk Sonic (Bruno Mars & Anderson .Paak)', 'Justin Bieber Featuring Daniel Caesar & Giveon', 'The Weeknd & Ariana Grande', 'Olivia Rodrigo', 'Masked Wolf', 'Polo G', 'Doja Cat & The Weeknd', 'Aaron Lewis']\n",
      "['BTS', 'Olivia Rodrigo', 'Dua Lipa Featuring DaBaby', 'Doja Cat Featuring SZA', 'Lil Nas X', 'Ed Sheeran', 'Silk Sonic (Bruno Mars & Anderson .Paak)', 'Justin Bieber Featuring Daniel Caesar & Giveon', 'The Weeknd & Ariana Grande', 'Olivia Rodrigo', 'Masked Wolf', 'Polo G', 'Doja Cat & The Weeknd', 'Aaron Lewis', 'The Weeknd']\n",
      "['BTS', 'Olivia Rodrigo', 'Dua Lipa Featuring DaBaby', 'Doja Cat Featuring SZA', 'Lil Nas X', 'Ed Sheeran', 'Silk Sonic (Bruno Mars & Anderson .Paak)', 'Justin Bieber Featuring Daniel Caesar & Giveon', 'The Weeknd & Ariana Grande', 'Olivia Rodrigo', 'Masked Wolf', 'Polo G', 'Doja Cat & The Weeknd', 'Aaron Lewis', 'The Weeknd', 'The Kid LAROI']\n",
      "['BTS', 'Olivia Rodrigo', 'Dua Lipa Featuring DaBaby', 'Doja Cat Featuring SZA', 'Lil Nas X', 'Ed Sheeran', 'Silk Sonic (Bruno Mars & Anderson .Paak)', 'Justin Bieber Featuring Daniel Caesar & Giveon', 'The Weeknd & Ariana Grande', 'Olivia Rodrigo', 'Masked Wolf', 'Polo G', 'Doja Cat & The Weeknd', 'Aaron Lewis', 'The Weeknd', 'The Kid LAROI', 'Megan Thee Stallion']\n",
      "['BTS', 'Olivia Rodrigo', 'Dua Lipa Featuring DaBaby', 'Doja Cat Featuring SZA', 'Lil Nas X', 'Ed Sheeran', 'Silk Sonic (Bruno Mars & Anderson .Paak)', 'Justin Bieber Featuring Daniel Caesar & Giveon', 'The Weeknd & Ariana Grande', 'Olivia Rodrigo', 'Masked Wolf', 'Polo G', 'Doja Cat & The Weeknd', 'Aaron Lewis', 'The Weeknd', 'The Kid LAROI', 'Megan Thee Stallion', 'Luke Combs']\n",
      "['BTS', 'Olivia Rodrigo', 'Dua Lipa Featuring DaBaby', 'Doja Cat Featuring SZA', 'Lil Nas X', 'Ed Sheeran', 'Silk Sonic (Bruno Mars & Anderson .Paak)', 'Justin Bieber Featuring Daniel Caesar & Giveon', 'The Weeknd & Ariana Grande', 'Olivia Rodrigo', 'Masked Wolf', 'Polo G', 'Doja Cat & The Weeknd', 'Aaron Lewis', 'The Weeknd', 'The Kid LAROI', 'Megan Thee Stallion', 'Luke Combs', 'Giveon']\n",
      "['BTS', 'Olivia Rodrigo', 'Dua Lipa Featuring DaBaby', 'Doja Cat Featuring SZA', 'Lil Nas X', 'Ed Sheeran', 'Silk Sonic (Bruno Mars & Anderson .Paak)', 'Justin Bieber Featuring Daniel Caesar & Giveon', 'The Weeknd & Ariana Grande', 'Olivia Rodrigo', 'Masked Wolf', 'Polo G', 'Doja Cat & The Weeknd', 'Aaron Lewis', 'The Weeknd', 'The Kid LAROI', 'Megan Thee Stallion', 'Luke Combs', 'Giveon', 'Walker Hayes']\n",
      "['BTS', 'Olivia Rodrigo', 'Dua Lipa Featuring DaBaby', 'Doja Cat Featuring SZA', 'Lil Nas X', 'Ed Sheeran', 'Silk Sonic (Bruno Mars & Anderson .Paak)', 'Justin Bieber Featuring Daniel Caesar & Giveon', 'The Weeknd & Ariana Grande', 'Olivia Rodrigo', 'Masked Wolf', 'Polo G', 'Doja Cat & The Weeknd', 'Aaron Lewis', 'The Weeknd', 'The Kid LAROI', 'Megan Thee Stallion', 'Luke Combs', 'Giveon', 'Walker Hayes', 'DJ Khaled Featuring Lil Baby & Lil Durk']\n",
      "['BTS', 'Olivia Rodrigo', 'Dua Lipa Featuring DaBaby', 'Doja Cat Featuring SZA', 'Lil Nas X', 'Ed Sheeran', 'Silk Sonic (Bruno Mars & Anderson .Paak)', 'Justin Bieber Featuring Daniel Caesar & Giveon', 'The Weeknd & Ariana Grande', 'Olivia Rodrigo', 'Masked Wolf', 'Polo G', 'Doja Cat & The Weeknd', 'Aaron Lewis', 'The Weeknd', 'The Kid LAROI', 'Megan Thee Stallion', 'Luke Combs', 'Giveon', 'Walker Hayes', 'DJ Khaled Featuring Lil Baby & Lil Durk', 'Chris Young + Kane Brown']\n",
      "['BTS', 'Olivia Rodrigo', 'Dua Lipa Featuring DaBaby', 'Doja Cat Featuring SZA', 'Lil Nas X', 'Ed Sheeran', 'Silk Sonic (Bruno Mars & Anderson .Paak)', 'Justin Bieber Featuring Daniel Caesar & Giveon', 'The Weeknd & Ariana Grande', 'Olivia Rodrigo', 'Masked Wolf', 'Polo G', 'Doja Cat & The Weeknd', 'Aaron Lewis', 'The Weeknd', 'The Kid LAROI', 'Megan Thee Stallion', 'Luke Combs', 'Giveon', 'Walker Hayes', 'DJ Khaled Featuring Lil Baby & Lil Durk', 'Chris Young + Kane Brown', 'Maroon 5 Featuring Megan Thee Stallion']\n",
      "['BTS', 'Olivia Rodrigo', 'Dua Lipa Featuring DaBaby', 'Doja Cat Featuring SZA', 'Lil Nas X', 'Ed Sheeran', 'Silk Sonic (Bruno Mars & Anderson .Paak)', 'Justin Bieber Featuring Daniel Caesar & Giveon', 'The Weeknd & Ariana Grande', 'Olivia Rodrigo', 'Masked Wolf', 'Polo G', 'Doja Cat & The Weeknd', 'Aaron Lewis', 'The Weeknd', 'The Kid LAROI', 'Megan Thee Stallion', 'Luke Combs', 'Giveon', 'Walker Hayes', 'DJ Khaled Featuring Lil Baby & Lil Durk', 'Chris Young + Kane Brown', 'Maroon 5 Featuring Megan Thee Stallion', 'Saweetie Featuring Doja Cat']\n",
      "['BTS', 'Olivia Rodrigo', 'Dua Lipa Featuring DaBaby', 'Doja Cat Featuring SZA', 'Lil Nas X', 'Ed Sheeran', 'Silk Sonic (Bruno Mars & Anderson .Paak)', 'Justin Bieber Featuring Daniel Caesar & Giveon', 'The Weeknd & Ariana Grande', 'Olivia Rodrigo', 'Masked Wolf', 'Polo G', 'Doja Cat & The Weeknd', 'Aaron Lewis', 'The Weeknd', 'The Kid LAROI', 'Megan Thee Stallion', 'Luke Combs', 'Giveon', 'Walker Hayes', 'DJ Khaled Featuring Lil Baby & Lil Durk', 'Chris Young + Kane Brown', 'Maroon 5 Featuring Megan Thee Stallion', 'Saweetie Featuring Doja Cat', 'Nelly & Florida Georgia Line']\n",
      "['BTS', 'Olivia Rodrigo', 'Dua Lipa Featuring DaBaby', 'Doja Cat Featuring SZA', 'Lil Nas X', 'Ed Sheeran', 'Silk Sonic (Bruno Mars & Anderson .Paak)', 'Justin Bieber Featuring Daniel Caesar & Giveon', 'The Weeknd & Ariana Grande', 'Olivia Rodrigo', 'Masked Wolf', 'Polo G', 'Doja Cat & The Weeknd', 'Aaron Lewis', 'The Weeknd', 'The Kid LAROI', 'Megan Thee Stallion', 'Luke Combs', 'Giveon', 'Walker Hayes', 'DJ Khaled Featuring Lil Baby & Lil Durk', 'Chris Young + Kane Brown', 'Maroon 5 Featuring Megan Thee Stallion', 'Saweetie Featuring Doja Cat', 'Nelly & Florida Georgia Line', 'Cole Swindell']\n",
      "['BTS', 'Olivia Rodrigo', 'Dua Lipa Featuring DaBaby', 'Doja Cat Featuring SZA', 'Lil Nas X', 'Ed Sheeran', 'Silk Sonic (Bruno Mars & Anderson .Paak)', 'Justin Bieber Featuring Daniel Caesar & Giveon', 'The Weeknd & Ariana Grande', 'Olivia Rodrigo', 'Masked Wolf', 'Polo G', 'Doja Cat & The Weeknd', 'Aaron Lewis', 'The Weeknd', 'The Kid LAROI', 'Megan Thee Stallion', 'Luke Combs', 'Giveon', 'Walker Hayes', 'DJ Khaled Featuring Lil Baby & Lil Durk', 'Chris Young + Kane Brown', 'Maroon 5 Featuring Megan Thee Stallion', 'Saweetie Featuring Doja Cat', 'Nelly & Florida Georgia Line', 'Cole Swindell', 'Glass Animals']\n",
      "['BTS', 'Olivia Rodrigo', 'Dua Lipa Featuring DaBaby', 'Doja Cat Featuring SZA', 'Lil Nas X', 'Ed Sheeran', 'Silk Sonic (Bruno Mars & Anderson .Paak)', 'Justin Bieber Featuring Daniel Caesar & Giveon', 'The Weeknd & Ariana Grande', 'Olivia Rodrigo', 'Masked Wolf', 'Polo G', 'Doja Cat & The Weeknd', 'Aaron Lewis', 'The Weeknd', 'The Kid LAROI', 'Megan Thee Stallion', 'Luke Combs', 'Giveon', 'Walker Hayes', 'DJ Khaled Featuring Lil Baby & Lil Durk', 'Chris Young + Kane Brown', 'Maroon 5 Featuring Megan Thee Stallion', 'Saweetie Featuring Doja Cat', 'Nelly & Florida Georgia Line', 'Cole Swindell', 'Glass Animals', 'Marshmello X Jonas Brothers']\n",
      "['BTS', 'Olivia Rodrigo', 'Dua Lipa Featuring DaBaby', 'Doja Cat Featuring SZA', 'Lil Nas X', 'Ed Sheeran', 'Silk Sonic (Bruno Mars & Anderson .Paak)', 'Justin Bieber Featuring Daniel Caesar & Giveon', 'The Weeknd & Ariana Grande', 'Olivia Rodrigo', 'Masked Wolf', 'Polo G', 'Doja Cat & The Weeknd', 'Aaron Lewis', 'The Weeknd', 'The Kid LAROI', 'Megan Thee Stallion', 'Luke Combs', 'Giveon', 'Walker Hayes', 'DJ Khaled Featuring Lil Baby & Lil Durk', 'Chris Young + Kane Brown', 'Maroon 5 Featuring Megan Thee Stallion', 'Saweetie Featuring Doja Cat', 'Nelly & Florida Georgia Line', 'Cole Swindell', 'Glass Animals', 'Marshmello X Jonas Brothers', 'Drake Featuring Lil Baby']\n",
      "['BTS', 'Olivia Rodrigo', 'Dua Lipa Featuring DaBaby', 'Doja Cat Featuring SZA', 'Lil Nas X', 'Ed Sheeran', 'Silk Sonic (Bruno Mars & Anderson .Paak)', 'Justin Bieber Featuring Daniel Caesar & Giveon', 'The Weeknd & Ariana Grande', 'Olivia Rodrigo', 'Masked Wolf', 'Polo G', 'Doja Cat & The Weeknd', 'Aaron Lewis', 'The Weeknd', 'The Kid LAROI', 'Megan Thee Stallion', 'Luke Combs', 'Giveon', 'Walker Hayes', 'DJ Khaled Featuring Lil Baby & Lil Durk', 'Chris Young + Kane Brown', 'Maroon 5 Featuring Megan Thee Stallion', 'Saweetie Featuring Doja Cat', 'Nelly & Florida Georgia Line', 'Cole Swindell', 'Glass Animals', 'Marshmello X Jonas Brothers', 'Drake Featuring Lil Baby', 'Bad Bunny']\n",
      "['BTS', 'Olivia Rodrigo', 'Dua Lipa Featuring DaBaby', 'Doja Cat Featuring SZA', 'Lil Nas X', 'Ed Sheeran', 'Silk Sonic (Bruno Mars & Anderson .Paak)', 'Justin Bieber Featuring Daniel Caesar & Giveon', 'The Weeknd & Ariana Grande', 'Olivia Rodrigo', 'Masked Wolf', 'Polo G', 'Doja Cat & The Weeknd', 'Aaron Lewis', 'The Weeknd', 'The Kid LAROI', 'Megan Thee Stallion', 'Luke Combs', 'Giveon', 'Walker Hayes', 'DJ Khaled Featuring Lil Baby & Lil Durk', 'Chris Young + Kane Brown', 'Maroon 5 Featuring Megan Thee Stallion', 'Saweetie Featuring Doja Cat', 'Nelly & Florida Georgia Line', 'Cole Swindell', 'Glass Animals', 'Marshmello X Jonas Brothers', 'Drake Featuring Lil Baby', 'Bad Bunny', 'Jason Aldean']\n",
      "['BTS', 'Olivia Rodrigo', 'Dua Lipa Featuring DaBaby', 'Doja Cat Featuring SZA', 'Lil Nas X', 'Ed Sheeran', 'Silk Sonic (Bruno Mars & Anderson .Paak)', 'Justin Bieber Featuring Daniel Caesar & Giveon', 'The Weeknd & Ariana Grande', 'Olivia Rodrigo', 'Masked Wolf', 'Polo G', 'Doja Cat & The Weeknd', 'Aaron Lewis', 'The Weeknd', 'The Kid LAROI', 'Megan Thee Stallion', 'Luke Combs', 'Giveon', 'Walker Hayes', 'DJ Khaled Featuring Lil Baby & Lil Durk', 'Chris Young + Kane Brown', 'Maroon 5 Featuring Megan Thee Stallion', 'Saweetie Featuring Doja Cat', 'Nelly & Florida Georgia Line', 'Cole Swindell', 'Glass Animals', 'Marshmello X Jonas Brothers', 'Drake Featuring Lil Baby', 'Bad Bunny', 'Jason Aldean', 'Roddy Ricch']\n",
      "['BTS', 'Olivia Rodrigo', 'Dua Lipa Featuring DaBaby', 'Doja Cat Featuring SZA', 'Lil Nas X', 'Ed Sheeran', 'Silk Sonic (Bruno Mars & Anderson .Paak)', 'Justin Bieber Featuring Daniel Caesar & Giveon', 'The Weeknd & Ariana Grande', 'Olivia Rodrigo', 'Masked Wolf', 'Polo G', 'Doja Cat & The Weeknd', 'Aaron Lewis', 'The Weeknd', 'The Kid LAROI', 'Megan Thee Stallion', 'Luke Combs', 'Giveon', 'Walker Hayes', 'DJ Khaled Featuring Lil Baby & Lil Durk', 'Chris Young + Kane Brown', 'Maroon 5 Featuring Megan Thee Stallion', 'Saweetie Featuring Doja Cat', 'Nelly & Florida Georgia Line', 'Cole Swindell', 'Glass Animals', 'Marshmello X Jonas Brothers', 'Drake Featuring Lil Baby', 'Bad Bunny', 'Jason Aldean', 'Roddy Ricch', 'Olivia Rodrigo']\n",
      "['BTS', 'Olivia Rodrigo', 'Dua Lipa Featuring DaBaby', 'Doja Cat Featuring SZA', 'Lil Nas X', 'Ed Sheeran', 'Silk Sonic (Bruno Mars & Anderson .Paak)', 'Justin Bieber Featuring Daniel Caesar & Giveon', 'The Weeknd & Ariana Grande', 'Olivia Rodrigo', 'Masked Wolf', 'Polo G', 'Doja Cat & The Weeknd', 'Aaron Lewis', 'The Weeknd', 'The Kid LAROI', 'Megan Thee Stallion', 'Luke Combs', 'Giveon', 'Walker Hayes', 'DJ Khaled Featuring Lil Baby & Lil Durk', 'Chris Young + Kane Brown', 'Maroon 5 Featuring Megan Thee Stallion', 'Saweetie Featuring Doja Cat', 'Nelly & Florida Georgia Line', 'Cole Swindell', 'Glass Animals', 'Marshmello X Jonas Brothers', 'Drake Featuring Lil Baby', 'Bad Bunny', 'Jason Aldean', 'Roddy Ricch', 'Olivia Rodrigo', 'Kali Uchis']\n",
      "['BTS', 'Olivia Rodrigo', 'Dua Lipa Featuring DaBaby', 'Doja Cat Featuring SZA', 'Lil Nas X', 'Ed Sheeran', 'Silk Sonic (Bruno Mars & Anderson .Paak)', 'Justin Bieber Featuring Daniel Caesar & Giveon', 'The Weeknd & Ariana Grande', 'Olivia Rodrigo', 'Masked Wolf', 'Polo G', 'Doja Cat & The Weeknd', 'Aaron Lewis', 'The Weeknd', 'The Kid LAROI', 'Megan Thee Stallion', 'Luke Combs', 'Giveon', 'Walker Hayes', 'DJ Khaled Featuring Lil Baby & Lil Durk', 'Chris Young + Kane Brown', 'Maroon 5 Featuring Megan Thee Stallion', 'Saweetie Featuring Doja Cat', 'Nelly & Florida Georgia Line', 'Cole Swindell', 'Glass Animals', 'Marshmello X Jonas Brothers', 'Drake Featuring Lil Baby', 'Bad Bunny', 'Jason Aldean', 'Roddy Ricch', 'Olivia Rodrigo', 'Kali Uchis', 'Dan + Shay']\n",
      "['BTS', 'Olivia Rodrigo', 'Dua Lipa Featuring DaBaby', 'Doja Cat Featuring SZA', 'Lil Nas X', 'Ed Sheeran', 'Silk Sonic (Bruno Mars & Anderson .Paak)', 'Justin Bieber Featuring Daniel Caesar & Giveon', 'The Weeknd & Ariana Grande', 'Olivia Rodrigo', 'Masked Wolf', 'Polo G', 'Doja Cat & The Weeknd', 'Aaron Lewis', 'The Weeknd', 'The Kid LAROI', 'Megan Thee Stallion', 'Luke Combs', 'Giveon', 'Walker Hayes', 'DJ Khaled Featuring Lil Baby & Lil Durk', 'Chris Young + Kane Brown', 'Maroon 5 Featuring Megan Thee Stallion', 'Saweetie Featuring Doja Cat', 'Nelly & Florida Georgia Line', 'Cole Swindell', 'Glass Animals', 'Marshmello X Jonas Brothers', 'Drake Featuring Lil Baby', 'Bad Bunny', 'Jason Aldean', 'Roddy Ricch', 'Olivia Rodrigo', 'Kali Uchis', 'Dan + Shay', '24kGoldn Featuring iann dior']\n",
      "['BTS', 'Olivia Rodrigo', 'Dua Lipa Featuring DaBaby', 'Doja Cat Featuring SZA', 'Lil Nas X', 'Ed Sheeran', 'Silk Sonic (Bruno Mars & Anderson .Paak)', 'Justin Bieber Featuring Daniel Caesar & Giveon', 'The Weeknd & Ariana Grande', 'Olivia Rodrigo', 'Masked Wolf', 'Polo G', 'Doja Cat & The Weeknd', 'Aaron Lewis', 'The Weeknd', 'The Kid LAROI', 'Megan Thee Stallion', 'Luke Combs', 'Giveon', 'Walker Hayes', 'DJ Khaled Featuring Lil Baby & Lil Durk', 'Chris Young + Kane Brown', 'Maroon 5 Featuring Megan Thee Stallion', 'Saweetie Featuring Doja Cat', 'Nelly & Florida Georgia Line', 'Cole Swindell', 'Glass Animals', 'Marshmello X Jonas Brothers', 'Drake Featuring Lil Baby', 'Bad Bunny', 'Jason Aldean', 'Roddy Ricch', 'Olivia Rodrigo', 'Kali Uchis', 'Dan + Shay', '24kGoldn Featuring iann dior', 'Moneybagg Yo']\n",
      "['BTS', 'Olivia Rodrigo', 'Dua Lipa Featuring DaBaby', 'Doja Cat Featuring SZA', 'Lil Nas X', 'Ed Sheeran', 'Silk Sonic (Bruno Mars & Anderson .Paak)', 'Justin Bieber Featuring Daniel Caesar & Giveon', 'The Weeknd & Ariana Grande', 'Olivia Rodrigo', 'Masked Wolf', 'Polo G', 'Doja Cat & The Weeknd', 'Aaron Lewis', 'The Weeknd', 'The Kid LAROI', 'Megan Thee Stallion', 'Luke Combs', 'Giveon', 'Walker Hayes', 'DJ Khaled Featuring Lil Baby & Lil Durk', 'Chris Young + Kane Brown', 'Maroon 5 Featuring Megan Thee Stallion', 'Saweetie Featuring Doja Cat', 'Nelly & Florida Georgia Line', 'Cole Swindell', 'Glass Animals', 'Marshmello X Jonas Brothers', 'Drake Featuring Lil Baby', 'Bad Bunny', 'Jason Aldean', 'Roddy Ricch', 'Olivia Rodrigo', 'Kali Uchis', 'Dan + Shay', '24kGoldn Featuring iann dior', 'Moneybagg Yo', 'Olivia Rodrigo']\n",
      "['BTS', 'Olivia Rodrigo', 'Dua Lipa Featuring DaBaby', 'Doja Cat Featuring SZA', 'Lil Nas X', 'Ed Sheeran', 'Silk Sonic (Bruno Mars & Anderson .Paak)', 'Justin Bieber Featuring Daniel Caesar & Giveon', 'The Weeknd & Ariana Grande', 'Olivia Rodrigo', 'Masked Wolf', 'Polo G', 'Doja Cat & The Weeknd', 'Aaron Lewis', 'The Weeknd', 'The Kid LAROI', 'Megan Thee Stallion', 'Luke Combs', 'Giveon', 'Walker Hayes', 'DJ Khaled Featuring Lil Baby & Lil Durk', 'Chris Young + Kane Brown', 'Maroon 5 Featuring Megan Thee Stallion', 'Saweetie Featuring Doja Cat', 'Nelly & Florida Georgia Line', 'Cole Swindell', 'Glass Animals', 'Marshmello X Jonas Brothers', 'Drake Featuring Lil Baby', 'Bad Bunny', 'Jason Aldean', 'Roddy Ricch', 'Olivia Rodrigo', 'Kali Uchis', 'Dan + Shay', '24kGoldn Featuring iann dior', 'Moneybagg Yo', 'Olivia Rodrigo', 'Rauw Alejandro']\n",
      "['BTS', 'Olivia Rodrigo', 'Dua Lipa Featuring DaBaby', 'Doja Cat Featuring SZA', 'Lil Nas X', 'Ed Sheeran', 'Silk Sonic (Bruno Mars & Anderson .Paak)', 'Justin Bieber Featuring Daniel Caesar & Giveon', 'The Weeknd & Ariana Grande', 'Olivia Rodrigo', 'Masked Wolf', 'Polo G', 'Doja Cat & The Weeknd', 'Aaron Lewis', 'The Weeknd', 'The Kid LAROI', 'Megan Thee Stallion', 'Luke Combs', 'Giveon', 'Walker Hayes', 'DJ Khaled Featuring Lil Baby & Lil Durk', 'Chris Young + Kane Brown', 'Maroon 5 Featuring Megan Thee Stallion', 'Saweetie Featuring Doja Cat', 'Nelly & Florida Georgia Line', 'Cole Swindell', 'Glass Animals', 'Marshmello X Jonas Brothers', 'Drake Featuring Lil Baby', 'Bad Bunny', 'Jason Aldean', 'Roddy Ricch', 'Olivia Rodrigo', 'Kali Uchis', 'Dan + Shay', '24kGoldn Featuring iann dior', 'Moneybagg Yo', 'Olivia Rodrigo', 'Rauw Alejandro', 'Chase Rice Featuring Florida Georgia Line']\n",
      "['BTS', 'Olivia Rodrigo', 'Dua Lipa Featuring DaBaby', 'Doja Cat Featuring SZA', 'Lil Nas X', 'Ed Sheeran', 'Silk Sonic (Bruno Mars & Anderson .Paak)', 'Justin Bieber Featuring Daniel Caesar & Giveon', 'The Weeknd & Ariana Grande', 'Olivia Rodrigo', 'Masked Wolf', 'Polo G', 'Doja Cat & The Weeknd', 'Aaron Lewis', 'The Weeknd', 'The Kid LAROI', 'Megan Thee Stallion', 'Luke Combs', 'Giveon', 'Walker Hayes', 'DJ Khaled Featuring Lil Baby & Lil Durk', 'Chris Young + Kane Brown', 'Maroon 5 Featuring Megan Thee Stallion', 'Saweetie Featuring Doja Cat', 'Nelly & Florida Georgia Line', 'Cole Swindell', 'Glass Animals', 'Marshmello X Jonas Brothers', 'Drake Featuring Lil Baby', 'Bad Bunny', 'Jason Aldean', 'Roddy Ricch', 'Olivia Rodrigo', 'Kali Uchis', 'Dan + Shay', '24kGoldn Featuring iann dior', 'Moneybagg Yo', 'Olivia Rodrigo', 'Rauw Alejandro', 'Chase Rice Featuring Florida Georgia Line', 'Doja Cat']\n",
      "['BTS', 'Olivia Rodrigo', 'Dua Lipa Featuring DaBaby', 'Doja Cat Featuring SZA', 'Lil Nas X', 'Ed Sheeran', 'Silk Sonic (Bruno Mars & Anderson .Paak)', 'Justin Bieber Featuring Daniel Caesar & Giveon', 'The Weeknd & Ariana Grande', 'Olivia Rodrigo', 'Masked Wolf', 'Polo G', 'Doja Cat & The Weeknd', 'Aaron Lewis', 'The Weeknd', 'The Kid LAROI', 'Megan Thee Stallion', 'Luke Combs', 'Giveon', 'Walker Hayes', 'DJ Khaled Featuring Lil Baby & Lil Durk', 'Chris Young + Kane Brown', 'Maroon 5 Featuring Megan Thee Stallion', 'Saweetie Featuring Doja Cat', 'Nelly & Florida Georgia Line', 'Cole Swindell', 'Glass Animals', 'Marshmello X Jonas Brothers', 'Drake Featuring Lil Baby', 'Bad Bunny', 'Jason Aldean', 'Roddy Ricch', 'Olivia Rodrigo', 'Kali Uchis', 'Dan + Shay', '24kGoldn Featuring iann dior', 'Moneybagg Yo', 'Olivia Rodrigo', 'Rauw Alejandro', 'Chase Rice Featuring Florida Georgia Line', 'Doja Cat', 'Ariana Grande']\n",
      "['BTS', 'Olivia Rodrigo', 'Dua Lipa Featuring DaBaby', 'Doja Cat Featuring SZA', 'Lil Nas X', 'Ed Sheeran', 'Silk Sonic (Bruno Mars & Anderson .Paak)', 'Justin Bieber Featuring Daniel Caesar & Giveon', 'The Weeknd & Ariana Grande', 'Olivia Rodrigo', 'Masked Wolf', 'Polo G', 'Doja Cat & The Weeknd', 'Aaron Lewis', 'The Weeknd', 'The Kid LAROI', 'Megan Thee Stallion', 'Luke Combs', 'Giveon', 'Walker Hayes', 'DJ Khaled Featuring Lil Baby & Lil Durk', 'Chris Young + Kane Brown', 'Maroon 5 Featuring Megan Thee Stallion', 'Saweetie Featuring Doja Cat', 'Nelly & Florida Georgia Line', 'Cole Swindell', 'Glass Animals', 'Marshmello X Jonas Brothers', 'Drake Featuring Lil Baby', 'Bad Bunny', 'Jason Aldean', 'Roddy Ricch', 'Olivia Rodrigo', 'Kali Uchis', 'Dan + Shay', '24kGoldn Featuring iann dior', 'Moneybagg Yo', 'Olivia Rodrigo', 'Rauw Alejandro', 'Chase Rice Featuring Florida Georgia Line', 'Doja Cat', 'Ariana Grande', 'Machine Gun Kelly X blackbear']\n",
      "['BTS', 'Olivia Rodrigo', 'Dua Lipa Featuring DaBaby', 'Doja Cat Featuring SZA', 'Lil Nas X', 'Ed Sheeran', 'Silk Sonic (Bruno Mars & Anderson .Paak)', 'Justin Bieber Featuring Daniel Caesar & Giveon', 'The Weeknd & Ariana Grande', 'Olivia Rodrigo', 'Masked Wolf', 'Polo G', 'Doja Cat & The Weeknd', 'Aaron Lewis', 'The Weeknd', 'The Kid LAROI', 'Megan Thee Stallion', 'Luke Combs', 'Giveon', 'Walker Hayes', 'DJ Khaled Featuring Lil Baby & Lil Durk', 'Chris Young + Kane Brown', 'Maroon 5 Featuring Megan Thee Stallion', 'Saweetie Featuring Doja Cat', 'Nelly & Florida Georgia Line', 'Cole Swindell', 'Glass Animals', 'Marshmello X Jonas Brothers', 'Drake Featuring Lil Baby', 'Bad Bunny', 'Jason Aldean', 'Roddy Ricch', 'Olivia Rodrigo', 'Kali Uchis', 'Dan + Shay', '24kGoldn Featuring iann dior', 'Moneybagg Yo', 'Olivia Rodrigo', 'Rauw Alejandro', 'Chase Rice Featuring Florida Georgia Line', 'Doja Cat', 'Ariana Grande', 'Machine Gun Kelly X blackbear', 'Tyler, The Creator Featuring YoungBoy Never Broke Again & Ty Dolla $ign']\n",
      "['BTS', 'Olivia Rodrigo', 'Dua Lipa Featuring DaBaby', 'Doja Cat Featuring SZA', 'Lil Nas X', 'Ed Sheeran', 'Silk Sonic (Bruno Mars & Anderson .Paak)', 'Justin Bieber Featuring Daniel Caesar & Giveon', 'The Weeknd & Ariana Grande', 'Olivia Rodrigo', 'Masked Wolf', 'Polo G', 'Doja Cat & The Weeknd', 'Aaron Lewis', 'The Weeknd', 'The Kid LAROI', 'Megan Thee Stallion', 'Luke Combs', 'Giveon', 'Walker Hayes', 'DJ Khaled Featuring Lil Baby & Lil Durk', 'Chris Young + Kane Brown', 'Maroon 5 Featuring Megan Thee Stallion', 'Saweetie Featuring Doja Cat', 'Nelly & Florida Georgia Line', 'Cole Swindell', 'Glass Animals', 'Marshmello X Jonas Brothers', 'Drake Featuring Lil Baby', 'Bad Bunny', 'Jason Aldean', 'Roddy Ricch', 'Olivia Rodrigo', 'Kali Uchis', 'Dan + Shay', '24kGoldn Featuring iann dior', 'Moneybagg Yo', 'Olivia Rodrigo', 'Rauw Alejandro', 'Chase Rice Featuring Florida Georgia Line', 'Doja Cat', 'Ariana Grande', 'Machine Gun Kelly X blackbear', 'Tyler, The Creator Featuring YoungBoy Never Broke Again & Ty Dolla $ign', 'Lil Tjay Featuring 6LACK']\n",
      "['BTS', 'Olivia Rodrigo', 'Dua Lipa Featuring DaBaby', 'Doja Cat Featuring SZA', 'Lil Nas X', 'Ed Sheeran', 'Silk Sonic (Bruno Mars & Anderson .Paak)', 'Justin Bieber Featuring Daniel Caesar & Giveon', 'The Weeknd & Ariana Grande', 'Olivia Rodrigo', 'Masked Wolf', 'Polo G', 'Doja Cat & The Weeknd', 'Aaron Lewis', 'The Weeknd', 'The Kid LAROI', 'Megan Thee Stallion', 'Luke Combs', 'Giveon', 'Walker Hayes', 'DJ Khaled Featuring Lil Baby & Lil Durk', 'Chris Young + Kane Brown', 'Maroon 5 Featuring Megan Thee Stallion', 'Saweetie Featuring Doja Cat', 'Nelly & Florida Georgia Line', 'Cole Swindell', 'Glass Animals', 'Marshmello X Jonas Brothers', 'Drake Featuring Lil Baby', 'Bad Bunny', 'Jason Aldean', 'Roddy Ricch', 'Olivia Rodrigo', 'Kali Uchis', 'Dan + Shay', '24kGoldn Featuring iann dior', 'Moneybagg Yo', 'Olivia Rodrigo', 'Rauw Alejandro', 'Chase Rice Featuring Florida Georgia Line', 'Doja Cat', 'Ariana Grande', 'Machine Gun Kelly X blackbear', 'Tyler, The Creator Featuring YoungBoy Never Broke Again & Ty Dolla $ign', 'Lil Tjay Featuring 6LACK', 'Maneskin']\n",
      "['BTS', 'Olivia Rodrigo', 'Dua Lipa Featuring DaBaby', 'Doja Cat Featuring SZA', 'Lil Nas X', 'Ed Sheeran', 'Silk Sonic (Bruno Mars & Anderson .Paak)', 'Justin Bieber Featuring Daniel Caesar & Giveon', 'The Weeknd & Ariana Grande', 'Olivia Rodrigo', 'Masked Wolf', 'Polo G', 'Doja Cat & The Weeknd', 'Aaron Lewis', 'The Weeknd', 'The Kid LAROI', 'Megan Thee Stallion', 'Luke Combs', 'Giveon', 'Walker Hayes', 'DJ Khaled Featuring Lil Baby & Lil Durk', 'Chris Young + Kane Brown', 'Maroon 5 Featuring Megan Thee Stallion', 'Saweetie Featuring Doja Cat', 'Nelly & Florida Georgia Line', 'Cole Swindell', 'Glass Animals', 'Marshmello X Jonas Brothers', 'Drake Featuring Lil Baby', 'Bad Bunny', 'Jason Aldean', 'Roddy Ricch', 'Olivia Rodrigo', 'Kali Uchis', 'Dan + Shay', '24kGoldn Featuring iann dior', 'Moneybagg Yo', 'Olivia Rodrigo', 'Rauw Alejandro', 'Chase Rice Featuring Florida Georgia Line', 'Doja Cat', 'Ariana Grande', 'Machine Gun Kelly X blackbear', 'Tyler, The Creator Featuring YoungBoy Never Broke Again & Ty Dolla $ign', 'Lil Tjay Featuring 6LACK', 'Maneskin', 'DaBaby']\n",
      "['BTS', 'Olivia Rodrigo', 'Dua Lipa Featuring DaBaby', 'Doja Cat Featuring SZA', 'Lil Nas X', 'Ed Sheeran', 'Silk Sonic (Bruno Mars & Anderson .Paak)', 'Justin Bieber Featuring Daniel Caesar & Giveon', 'The Weeknd & Ariana Grande', 'Olivia Rodrigo', 'Masked Wolf', 'Polo G', 'Doja Cat & The Weeknd', 'Aaron Lewis', 'The Weeknd', 'The Kid LAROI', 'Megan Thee Stallion', 'Luke Combs', 'Giveon', 'Walker Hayes', 'DJ Khaled Featuring Lil Baby & Lil Durk', 'Chris Young + Kane Brown', 'Maroon 5 Featuring Megan Thee Stallion', 'Saweetie Featuring Doja Cat', 'Nelly & Florida Georgia Line', 'Cole Swindell', 'Glass Animals', 'Marshmello X Jonas Brothers', 'Drake Featuring Lil Baby', 'Bad Bunny', 'Jason Aldean', 'Roddy Ricch', 'Olivia Rodrigo', 'Kali Uchis', 'Dan + Shay', '24kGoldn Featuring iann dior', 'Moneybagg Yo', 'Olivia Rodrigo', 'Rauw Alejandro', 'Chase Rice Featuring Florida Georgia Line', 'Doja Cat', 'Ariana Grande', 'Machine Gun Kelly X blackbear', 'Tyler, The Creator Featuring YoungBoy Never Broke Again & Ty Dolla $ign', 'Lil Tjay Featuring 6LACK', 'Maneskin', 'DaBaby', 'Dierks Bentley']\n",
      "['BTS', 'Olivia Rodrigo', 'Dua Lipa Featuring DaBaby', 'Doja Cat Featuring SZA', 'Lil Nas X', 'Ed Sheeran', 'Silk Sonic (Bruno Mars & Anderson .Paak)', 'Justin Bieber Featuring Daniel Caesar & Giveon', 'The Weeknd & Ariana Grande', 'Olivia Rodrigo', 'Masked Wolf', 'Polo G', 'Doja Cat & The Weeknd', 'Aaron Lewis', 'The Weeknd', 'The Kid LAROI', 'Megan Thee Stallion', 'Luke Combs', 'Giveon', 'Walker Hayes', 'DJ Khaled Featuring Lil Baby & Lil Durk', 'Chris Young + Kane Brown', 'Maroon 5 Featuring Megan Thee Stallion', 'Saweetie Featuring Doja Cat', 'Nelly & Florida Georgia Line', 'Cole Swindell', 'Glass Animals', 'Marshmello X Jonas Brothers', 'Drake Featuring Lil Baby', 'Bad Bunny', 'Jason Aldean', 'Roddy Ricch', 'Olivia Rodrigo', 'Kali Uchis', 'Dan + Shay', '24kGoldn Featuring iann dior', 'Moneybagg Yo', 'Olivia Rodrigo', 'Rauw Alejandro', 'Chase Rice Featuring Florida Georgia Line', 'Doja Cat', 'Ariana Grande', 'Machine Gun Kelly X blackbear', 'Tyler, The Creator Featuring YoungBoy Never Broke Again & Ty Dolla $ign', 'Lil Tjay Featuring 6LACK', 'Maneskin', 'DaBaby', 'Dierks Bentley', 'Brent Faiyaz Featuring Drake']\n",
      "['BTS', 'Olivia Rodrigo', 'Dua Lipa Featuring DaBaby', 'Doja Cat Featuring SZA', 'Lil Nas X', 'Ed Sheeran', 'Silk Sonic (Bruno Mars & Anderson .Paak)', 'Justin Bieber Featuring Daniel Caesar & Giveon', 'The Weeknd & Ariana Grande', 'Olivia Rodrigo', 'Masked Wolf', 'Polo G', 'Doja Cat & The Weeknd', 'Aaron Lewis', 'The Weeknd', 'The Kid LAROI', 'Megan Thee Stallion', 'Luke Combs', 'Giveon', 'Walker Hayes', 'DJ Khaled Featuring Lil Baby & Lil Durk', 'Chris Young + Kane Brown', 'Maroon 5 Featuring Megan Thee Stallion', 'Saweetie Featuring Doja Cat', 'Nelly & Florida Georgia Line', 'Cole Swindell', 'Glass Animals', 'Marshmello X Jonas Brothers', 'Drake Featuring Lil Baby', 'Bad Bunny', 'Jason Aldean', 'Roddy Ricch', 'Olivia Rodrigo', 'Kali Uchis', 'Dan + Shay', '24kGoldn Featuring iann dior', 'Moneybagg Yo', 'Olivia Rodrigo', 'Rauw Alejandro', 'Chase Rice Featuring Florida Georgia Line', 'Doja Cat', 'Ariana Grande', 'Machine Gun Kelly X blackbear', 'Tyler, The Creator Featuring YoungBoy Never Broke Again & Ty Dolla $ign', 'Lil Tjay Featuring 6LACK', 'Maneskin', 'DaBaby', 'Dierks Bentley', 'Brent Faiyaz Featuring Drake', 'DaBaby']\n",
      "['BTS', 'Olivia Rodrigo', 'Dua Lipa Featuring DaBaby', 'Doja Cat Featuring SZA', 'Lil Nas X', 'Ed Sheeran', 'Silk Sonic (Bruno Mars & Anderson .Paak)', 'Justin Bieber Featuring Daniel Caesar & Giveon', 'The Weeknd & Ariana Grande', 'Olivia Rodrigo', 'Masked Wolf', 'Polo G', 'Doja Cat & The Weeknd', 'Aaron Lewis', 'The Weeknd', 'The Kid LAROI', 'Megan Thee Stallion', 'Luke Combs', 'Giveon', 'Walker Hayes', 'DJ Khaled Featuring Lil Baby & Lil Durk', 'Chris Young + Kane Brown', 'Maroon 5 Featuring Megan Thee Stallion', 'Saweetie Featuring Doja Cat', 'Nelly & Florida Georgia Line', 'Cole Swindell', 'Glass Animals', 'Marshmello X Jonas Brothers', 'Drake Featuring Lil Baby', 'Bad Bunny', 'Jason Aldean', 'Roddy Ricch', 'Olivia Rodrigo', 'Kali Uchis', 'Dan + Shay', '24kGoldn Featuring iann dior', 'Moneybagg Yo', 'Olivia Rodrigo', 'Rauw Alejandro', 'Chase Rice Featuring Florida Georgia Line', 'Doja Cat', 'Ariana Grande', 'Machine Gun Kelly X blackbear', 'Tyler, The Creator Featuring YoungBoy Never Broke Again & Ty Dolla $ign', 'Lil Tjay Featuring 6LACK', 'Maneskin', 'DaBaby', 'Dierks Bentley', 'Brent Faiyaz Featuring Drake', 'DaBaby', 'Lainey Wilson']\n",
      "['BTS', 'Olivia Rodrigo', 'Dua Lipa Featuring DaBaby', 'Doja Cat Featuring SZA', 'Lil Nas X', 'Ed Sheeran', 'Silk Sonic (Bruno Mars & Anderson .Paak)', 'Justin Bieber Featuring Daniel Caesar & Giveon', 'The Weeknd & Ariana Grande', 'Olivia Rodrigo', 'Masked Wolf', 'Polo G', 'Doja Cat & The Weeknd', 'Aaron Lewis', 'The Weeknd', 'The Kid LAROI', 'Megan Thee Stallion', 'Luke Combs', 'Giveon', 'Walker Hayes', 'DJ Khaled Featuring Lil Baby & Lil Durk', 'Chris Young + Kane Brown', 'Maroon 5 Featuring Megan Thee Stallion', 'Saweetie Featuring Doja Cat', 'Nelly & Florida Georgia Line', 'Cole Swindell', 'Glass Animals', 'Marshmello X Jonas Brothers', 'Drake Featuring Lil Baby', 'Bad Bunny', 'Jason Aldean', 'Roddy Ricch', 'Olivia Rodrigo', 'Kali Uchis', 'Dan + Shay', '24kGoldn Featuring iann dior', 'Moneybagg Yo', 'Olivia Rodrigo', 'Rauw Alejandro', 'Chase Rice Featuring Florida Georgia Line', 'Doja Cat', 'Ariana Grande', 'Machine Gun Kelly X blackbear', 'Tyler, The Creator Featuring YoungBoy Never Broke Again & Ty Dolla $ign', 'Lil Tjay Featuring 6LACK', 'Maneskin', 'DaBaby', 'Dierks Bentley', 'Brent Faiyaz Featuring Drake', 'DaBaby', 'Lainey Wilson', 'Olivia Rodrigo']\n",
      "['BTS', 'Olivia Rodrigo', 'Dua Lipa Featuring DaBaby', 'Doja Cat Featuring SZA', 'Lil Nas X', 'Ed Sheeran', 'Silk Sonic (Bruno Mars & Anderson .Paak)', 'Justin Bieber Featuring Daniel Caesar & Giveon', 'The Weeknd & Ariana Grande', 'Olivia Rodrigo', 'Masked Wolf', 'Polo G', 'Doja Cat & The Weeknd', 'Aaron Lewis', 'The Weeknd', 'The Kid LAROI', 'Megan Thee Stallion', 'Luke Combs', 'Giveon', 'Walker Hayes', 'DJ Khaled Featuring Lil Baby & Lil Durk', 'Chris Young + Kane Brown', 'Maroon 5 Featuring Megan Thee Stallion', 'Saweetie Featuring Doja Cat', 'Nelly & Florida Georgia Line', 'Cole Swindell', 'Glass Animals', 'Marshmello X Jonas Brothers', 'Drake Featuring Lil Baby', 'Bad Bunny', 'Jason Aldean', 'Roddy Ricch', 'Olivia Rodrigo', 'Kali Uchis', 'Dan + Shay', '24kGoldn Featuring iann dior', 'Moneybagg Yo', 'Olivia Rodrigo', 'Rauw Alejandro', 'Chase Rice Featuring Florida Georgia Line', 'Doja Cat', 'Ariana Grande', 'Machine Gun Kelly X blackbear', 'Tyler, The Creator Featuring YoungBoy Never Broke Again & Ty Dolla $ign', 'Lil Tjay Featuring 6LACK', 'Maneskin', 'DaBaby', 'Dierks Bentley', 'Brent Faiyaz Featuring Drake', 'DaBaby', 'Lainey Wilson', 'Olivia Rodrigo', 'Miranda Lambert']\n",
      "['BTS', 'Olivia Rodrigo', 'Dua Lipa Featuring DaBaby', 'Doja Cat Featuring SZA', 'Lil Nas X', 'Ed Sheeran', 'Silk Sonic (Bruno Mars & Anderson .Paak)', 'Justin Bieber Featuring Daniel Caesar & Giveon', 'The Weeknd & Ariana Grande', 'Olivia Rodrigo', 'Masked Wolf', 'Polo G', 'Doja Cat & The Weeknd', 'Aaron Lewis', 'The Weeknd', 'The Kid LAROI', 'Megan Thee Stallion', 'Luke Combs', 'Giveon', 'Walker Hayes', 'DJ Khaled Featuring Lil Baby & Lil Durk', 'Chris Young + Kane Brown', 'Maroon 5 Featuring Megan Thee Stallion', 'Saweetie Featuring Doja Cat', 'Nelly & Florida Georgia Line', 'Cole Swindell', 'Glass Animals', 'Marshmello X Jonas Brothers', 'Drake Featuring Lil Baby', 'Bad Bunny', 'Jason Aldean', 'Roddy Ricch', 'Olivia Rodrigo', 'Kali Uchis', 'Dan + Shay', '24kGoldn Featuring iann dior', 'Moneybagg Yo', 'Olivia Rodrigo', 'Rauw Alejandro', 'Chase Rice Featuring Florida Georgia Line', 'Doja Cat', 'Ariana Grande', 'Machine Gun Kelly X blackbear', 'Tyler, The Creator Featuring YoungBoy Never Broke Again & Ty Dolla $ign', 'Lil Tjay Featuring 6LACK', 'Maneskin', 'DaBaby', 'Dierks Bentley', 'Brent Faiyaz Featuring Drake', 'DaBaby', 'Lainey Wilson', 'Olivia Rodrigo', 'Miranda Lambert', 'AJR']\n",
      "['BTS', 'Olivia Rodrigo', 'Dua Lipa Featuring DaBaby', 'Doja Cat Featuring SZA', 'Lil Nas X', 'Ed Sheeran', 'Silk Sonic (Bruno Mars & Anderson .Paak)', 'Justin Bieber Featuring Daniel Caesar & Giveon', 'The Weeknd & Ariana Grande', 'Olivia Rodrigo', 'Masked Wolf', 'Polo G', 'Doja Cat & The Weeknd', 'Aaron Lewis', 'The Weeknd', 'The Kid LAROI', 'Megan Thee Stallion', 'Luke Combs', 'Giveon', 'Walker Hayes', 'DJ Khaled Featuring Lil Baby & Lil Durk', 'Chris Young + Kane Brown', 'Maroon 5 Featuring Megan Thee Stallion', 'Saweetie Featuring Doja Cat', 'Nelly & Florida Georgia Line', 'Cole Swindell', 'Glass Animals', 'Marshmello X Jonas Brothers', 'Drake Featuring Lil Baby', 'Bad Bunny', 'Jason Aldean', 'Roddy Ricch', 'Olivia Rodrigo', 'Kali Uchis', 'Dan + Shay', '24kGoldn Featuring iann dior', 'Moneybagg Yo', 'Olivia Rodrigo', 'Rauw Alejandro', 'Chase Rice Featuring Florida Georgia Line', 'Doja Cat', 'Ariana Grande', 'Machine Gun Kelly X blackbear', 'Tyler, The Creator Featuring YoungBoy Never Broke Again & Ty Dolla $ign', 'Lil Tjay Featuring 6LACK', 'Maneskin', 'DaBaby', 'Dierks Bentley', 'Brent Faiyaz Featuring Drake', 'DaBaby', 'Lainey Wilson', 'Olivia Rodrigo', 'Miranda Lambert', 'AJR', 'Migos']\n",
      "['BTS', 'Olivia Rodrigo', 'Dua Lipa Featuring DaBaby', 'Doja Cat Featuring SZA', 'Lil Nas X', 'Ed Sheeran', 'Silk Sonic (Bruno Mars & Anderson .Paak)', 'Justin Bieber Featuring Daniel Caesar & Giveon', 'The Weeknd & Ariana Grande', 'Olivia Rodrigo', 'Masked Wolf', 'Polo G', 'Doja Cat & The Weeknd', 'Aaron Lewis', 'The Weeknd', 'The Kid LAROI', 'Megan Thee Stallion', 'Luke Combs', 'Giveon', 'Walker Hayes', 'DJ Khaled Featuring Lil Baby & Lil Durk', 'Chris Young + Kane Brown', 'Maroon 5 Featuring Megan Thee Stallion', 'Saweetie Featuring Doja Cat', 'Nelly & Florida Georgia Line', 'Cole Swindell', 'Glass Animals', 'Marshmello X Jonas Brothers', 'Drake Featuring Lil Baby', 'Bad Bunny', 'Jason Aldean', 'Roddy Ricch', 'Olivia Rodrigo', 'Kali Uchis', 'Dan + Shay', '24kGoldn Featuring iann dior', 'Moneybagg Yo', 'Olivia Rodrigo', 'Rauw Alejandro', 'Chase Rice Featuring Florida Georgia Line', 'Doja Cat', 'Ariana Grande', 'Machine Gun Kelly X blackbear', 'Tyler, The Creator Featuring YoungBoy Never Broke Again & Ty Dolla $ign', 'Lil Tjay Featuring 6LACK', 'Maneskin', 'DaBaby', 'Dierks Bentley', 'Brent Faiyaz Featuring Drake', 'DaBaby', 'Lainey Wilson', 'Olivia Rodrigo', 'Miranda Lambert', 'AJR', 'Migos', 'Young Thug & Gunna']\n",
      "['BTS', 'Olivia Rodrigo', 'Dua Lipa Featuring DaBaby', 'Doja Cat Featuring SZA', 'Lil Nas X', 'Ed Sheeran', 'Silk Sonic (Bruno Mars & Anderson .Paak)', 'Justin Bieber Featuring Daniel Caesar & Giveon', 'The Weeknd & Ariana Grande', 'Olivia Rodrigo', 'Masked Wolf', 'Polo G', 'Doja Cat & The Weeknd', 'Aaron Lewis', 'The Weeknd', 'The Kid LAROI', 'Megan Thee Stallion', 'Luke Combs', 'Giveon', 'Walker Hayes', 'DJ Khaled Featuring Lil Baby & Lil Durk', 'Chris Young + Kane Brown', 'Maroon 5 Featuring Megan Thee Stallion', 'Saweetie Featuring Doja Cat', 'Nelly & Florida Georgia Line', 'Cole Swindell', 'Glass Animals', 'Marshmello X Jonas Brothers', 'Drake Featuring Lil Baby', 'Bad Bunny', 'Jason Aldean', 'Roddy Ricch', 'Olivia Rodrigo', 'Kali Uchis', 'Dan + Shay', '24kGoldn Featuring iann dior', 'Moneybagg Yo', 'Olivia Rodrigo', 'Rauw Alejandro', 'Chase Rice Featuring Florida Georgia Line', 'Doja Cat', 'Ariana Grande', 'Machine Gun Kelly X blackbear', 'Tyler, The Creator Featuring YoungBoy Never Broke Again & Ty Dolla $ign', 'Lil Tjay Featuring 6LACK', 'Maneskin', 'DaBaby', 'Dierks Bentley', 'Brent Faiyaz Featuring Drake', 'DaBaby', 'Lainey Wilson', 'Olivia Rodrigo', 'Miranda Lambert', 'AJR', 'Migos', 'Young Thug & Gunna', 'Nio Garcia X J Balvin X Bad Bunny']\n",
      "['BTS', 'Olivia Rodrigo', 'Dua Lipa Featuring DaBaby', 'Doja Cat Featuring SZA', 'Lil Nas X', 'Ed Sheeran', 'Silk Sonic (Bruno Mars & Anderson .Paak)', 'Justin Bieber Featuring Daniel Caesar & Giveon', 'The Weeknd & Ariana Grande', 'Olivia Rodrigo', 'Masked Wolf', 'Polo G', 'Doja Cat & The Weeknd', 'Aaron Lewis', 'The Weeknd', 'The Kid LAROI', 'Megan Thee Stallion', 'Luke Combs', 'Giveon', 'Walker Hayes', 'DJ Khaled Featuring Lil Baby & Lil Durk', 'Chris Young + Kane Brown', 'Maroon 5 Featuring Megan Thee Stallion', 'Saweetie Featuring Doja Cat', 'Nelly & Florida Georgia Line', 'Cole Swindell', 'Glass Animals', 'Marshmello X Jonas Brothers', 'Drake Featuring Lil Baby', 'Bad Bunny', 'Jason Aldean', 'Roddy Ricch', 'Olivia Rodrigo', 'Kali Uchis', 'Dan + Shay', '24kGoldn Featuring iann dior', 'Moneybagg Yo', 'Olivia Rodrigo', 'Rauw Alejandro', 'Chase Rice Featuring Florida Georgia Line', 'Doja Cat', 'Ariana Grande', 'Machine Gun Kelly X blackbear', 'Tyler, The Creator Featuring YoungBoy Never Broke Again & Ty Dolla $ign', 'Lil Tjay Featuring 6LACK', 'Maneskin', 'DaBaby', 'Dierks Bentley', 'Brent Faiyaz Featuring Drake', 'DaBaby', 'Lainey Wilson', 'Olivia Rodrigo', 'Miranda Lambert', 'AJR', 'Migos', 'Young Thug & Gunna', 'Nio Garcia X J Balvin X Bad Bunny', 'Duncan Laurence']\n",
      "['BTS', 'Olivia Rodrigo', 'Dua Lipa Featuring DaBaby', 'Doja Cat Featuring SZA', 'Lil Nas X', 'Ed Sheeran', 'Silk Sonic (Bruno Mars & Anderson .Paak)', 'Justin Bieber Featuring Daniel Caesar & Giveon', 'The Weeknd & Ariana Grande', 'Olivia Rodrigo', 'Masked Wolf', 'Polo G', 'Doja Cat & The Weeknd', 'Aaron Lewis', 'The Weeknd', 'The Kid LAROI', 'Megan Thee Stallion', 'Luke Combs', 'Giveon', 'Walker Hayes', 'DJ Khaled Featuring Lil Baby & Lil Durk', 'Chris Young + Kane Brown', 'Maroon 5 Featuring Megan Thee Stallion', 'Saweetie Featuring Doja Cat', 'Nelly & Florida Georgia Line', 'Cole Swindell', 'Glass Animals', 'Marshmello X Jonas Brothers', 'Drake Featuring Lil Baby', 'Bad Bunny', 'Jason Aldean', 'Roddy Ricch', 'Olivia Rodrigo', 'Kali Uchis', 'Dan + Shay', '24kGoldn Featuring iann dior', 'Moneybagg Yo', 'Olivia Rodrigo', 'Rauw Alejandro', 'Chase Rice Featuring Florida Georgia Line', 'Doja Cat', 'Ariana Grande', 'Machine Gun Kelly X blackbear', 'Tyler, The Creator Featuring YoungBoy Never Broke Again & Ty Dolla $ign', 'Lil Tjay Featuring 6LACK', 'Maneskin', 'DaBaby', 'Dierks Bentley', 'Brent Faiyaz Featuring Drake', 'DaBaby', 'Lainey Wilson', 'Olivia Rodrigo', 'Miranda Lambert', 'AJR', 'Migos', 'Young Thug & Gunna', 'Nio Garcia X J Balvin X Bad Bunny', 'Duncan Laurence', 'Olivia Rodrigo']\n",
      "['BTS', 'Olivia Rodrigo', 'Dua Lipa Featuring DaBaby', 'Doja Cat Featuring SZA', 'Lil Nas X', 'Ed Sheeran', 'Silk Sonic (Bruno Mars & Anderson .Paak)', 'Justin Bieber Featuring Daniel Caesar & Giveon', 'The Weeknd & Ariana Grande', 'Olivia Rodrigo', 'Masked Wolf', 'Polo G', 'Doja Cat & The Weeknd', 'Aaron Lewis', 'The Weeknd', 'The Kid LAROI', 'Megan Thee Stallion', 'Luke Combs', 'Giveon', 'Walker Hayes', 'DJ Khaled Featuring Lil Baby & Lil Durk', 'Chris Young + Kane Brown', 'Maroon 5 Featuring Megan Thee Stallion', 'Saweetie Featuring Doja Cat', 'Nelly & Florida Georgia Line', 'Cole Swindell', 'Glass Animals', 'Marshmello X Jonas Brothers', 'Drake Featuring Lil Baby', 'Bad Bunny', 'Jason Aldean', 'Roddy Ricch', 'Olivia Rodrigo', 'Kali Uchis', 'Dan + Shay', '24kGoldn Featuring iann dior', 'Moneybagg Yo', 'Olivia Rodrigo', 'Rauw Alejandro', 'Chase Rice Featuring Florida Georgia Line', 'Doja Cat', 'Ariana Grande', 'Machine Gun Kelly X blackbear', 'Tyler, The Creator Featuring YoungBoy Never Broke Again & Ty Dolla $ign', 'Lil Tjay Featuring 6LACK', 'Maneskin', 'DaBaby', 'Dierks Bentley', 'Brent Faiyaz Featuring Drake', 'DaBaby', 'Lainey Wilson', 'Olivia Rodrigo', 'Miranda Lambert', 'AJR', 'Migos', 'Young Thug & Gunna', 'Nio Garcia X J Balvin X Bad Bunny', 'Duncan Laurence', 'Olivia Rodrigo', 'Regard x Troye Sivan x Tate McRae']\n",
      "['BTS', 'Olivia Rodrigo', 'Dua Lipa Featuring DaBaby', 'Doja Cat Featuring SZA', 'Lil Nas X', 'Ed Sheeran', 'Silk Sonic (Bruno Mars & Anderson .Paak)', 'Justin Bieber Featuring Daniel Caesar & Giveon', 'The Weeknd & Ariana Grande', 'Olivia Rodrigo', 'Masked Wolf', 'Polo G', 'Doja Cat & The Weeknd', 'Aaron Lewis', 'The Weeknd', 'The Kid LAROI', 'Megan Thee Stallion', 'Luke Combs', 'Giveon', 'Walker Hayes', 'DJ Khaled Featuring Lil Baby & Lil Durk', 'Chris Young + Kane Brown', 'Maroon 5 Featuring Megan Thee Stallion', 'Saweetie Featuring Doja Cat', 'Nelly & Florida Georgia Line', 'Cole Swindell', 'Glass Animals', 'Marshmello X Jonas Brothers', 'Drake Featuring Lil Baby', 'Bad Bunny', 'Jason Aldean', 'Roddy Ricch', 'Olivia Rodrigo', 'Kali Uchis', 'Dan + Shay', '24kGoldn Featuring iann dior', 'Moneybagg Yo', 'Olivia Rodrigo', 'Rauw Alejandro', 'Chase Rice Featuring Florida Georgia Line', 'Doja Cat', 'Ariana Grande', 'Machine Gun Kelly X blackbear', 'Tyler, The Creator Featuring YoungBoy Never Broke Again & Ty Dolla $ign', 'Lil Tjay Featuring 6LACK', 'Maneskin', 'DaBaby', 'Dierks Bentley', 'Brent Faiyaz Featuring Drake', 'DaBaby', 'Lainey Wilson', 'Olivia Rodrigo', 'Miranda Lambert', 'AJR', 'Migos', 'Young Thug & Gunna', 'Nio Garcia X J Balvin X Bad Bunny', 'Duncan Laurence', 'Olivia Rodrigo', 'Regard x Troye Sivan x Tate McRae', 'J. Cole, 21 Savage & Morray']\n",
      "['BTS', 'Olivia Rodrigo', 'Dua Lipa Featuring DaBaby', 'Doja Cat Featuring SZA', 'Lil Nas X', 'Ed Sheeran', 'Silk Sonic (Bruno Mars & Anderson .Paak)', 'Justin Bieber Featuring Daniel Caesar & Giveon', 'The Weeknd & Ariana Grande', 'Olivia Rodrigo', 'Masked Wolf', 'Polo G', 'Doja Cat & The Weeknd', 'Aaron Lewis', 'The Weeknd', 'The Kid LAROI', 'Megan Thee Stallion', 'Luke Combs', 'Giveon', 'Walker Hayes', 'DJ Khaled Featuring Lil Baby & Lil Durk', 'Chris Young + Kane Brown', 'Maroon 5 Featuring Megan Thee Stallion', 'Saweetie Featuring Doja Cat', 'Nelly & Florida Georgia Line', 'Cole Swindell', 'Glass Animals', 'Marshmello X Jonas Brothers', 'Drake Featuring Lil Baby', 'Bad Bunny', 'Jason Aldean', 'Roddy Ricch', 'Olivia Rodrigo', 'Kali Uchis', 'Dan + Shay', '24kGoldn Featuring iann dior', 'Moneybagg Yo', 'Olivia Rodrigo', 'Rauw Alejandro', 'Chase Rice Featuring Florida Georgia Line', 'Doja Cat', 'Ariana Grande', 'Machine Gun Kelly X blackbear', 'Tyler, The Creator Featuring YoungBoy Never Broke Again & Ty Dolla $ign', 'Lil Tjay Featuring 6LACK', 'Maneskin', 'DaBaby', 'Dierks Bentley', 'Brent Faiyaz Featuring Drake', 'DaBaby', 'Lainey Wilson', 'Olivia Rodrigo', 'Miranda Lambert', 'AJR', 'Migos', 'Young Thug & Gunna', 'Nio Garcia X J Balvin X Bad Bunny', 'Duncan Laurence', 'Olivia Rodrigo', 'Regard x Troye Sivan x Tate McRae', 'J. Cole, 21 Savage & Morray', 'Ryan Hurd With Maren Morris']\n",
      "['BTS', 'Olivia Rodrigo', 'Dua Lipa Featuring DaBaby', 'Doja Cat Featuring SZA', 'Lil Nas X', 'Ed Sheeran', 'Silk Sonic (Bruno Mars & Anderson .Paak)', 'Justin Bieber Featuring Daniel Caesar & Giveon', 'The Weeknd & Ariana Grande', 'Olivia Rodrigo', 'Masked Wolf', 'Polo G', 'Doja Cat & The Weeknd', 'Aaron Lewis', 'The Weeknd', 'The Kid LAROI', 'Megan Thee Stallion', 'Luke Combs', 'Giveon', 'Walker Hayes', 'DJ Khaled Featuring Lil Baby & Lil Durk', 'Chris Young + Kane Brown', 'Maroon 5 Featuring Megan Thee Stallion', 'Saweetie Featuring Doja Cat', 'Nelly & Florida Georgia Line', 'Cole Swindell', 'Glass Animals', 'Marshmello X Jonas Brothers', 'Drake Featuring Lil Baby', 'Bad Bunny', 'Jason Aldean', 'Roddy Ricch', 'Olivia Rodrigo', 'Kali Uchis', 'Dan + Shay', '24kGoldn Featuring iann dior', 'Moneybagg Yo', 'Olivia Rodrigo', 'Rauw Alejandro', 'Chase Rice Featuring Florida Georgia Line', 'Doja Cat', 'Ariana Grande', 'Machine Gun Kelly X blackbear', 'Tyler, The Creator Featuring YoungBoy Never Broke Again & Ty Dolla $ign', 'Lil Tjay Featuring 6LACK', 'Maneskin', 'DaBaby', 'Dierks Bentley', 'Brent Faiyaz Featuring Drake', 'DaBaby', 'Lainey Wilson', 'Olivia Rodrigo', 'Miranda Lambert', 'AJR', 'Migos', 'Young Thug & Gunna', 'Nio Garcia X J Balvin X Bad Bunny', 'Duncan Laurence', 'Olivia Rodrigo', 'Regard x Troye Sivan x Tate McRae', 'J. Cole, 21 Savage & Morray', 'Ryan Hurd With Maren Morris', 'Elle King & Miranda Lambert']\n",
      "['BTS', 'Olivia Rodrigo', 'Dua Lipa Featuring DaBaby', 'Doja Cat Featuring SZA', 'Lil Nas X', 'Ed Sheeran', 'Silk Sonic (Bruno Mars & Anderson .Paak)', 'Justin Bieber Featuring Daniel Caesar & Giveon', 'The Weeknd & Ariana Grande', 'Olivia Rodrigo', 'Masked Wolf', 'Polo G', 'Doja Cat & The Weeknd', 'Aaron Lewis', 'The Weeknd', 'The Kid LAROI', 'Megan Thee Stallion', 'Luke Combs', 'Giveon', 'Walker Hayes', 'DJ Khaled Featuring Lil Baby & Lil Durk', 'Chris Young + Kane Brown', 'Maroon 5 Featuring Megan Thee Stallion', 'Saweetie Featuring Doja Cat', 'Nelly & Florida Georgia Line', 'Cole Swindell', 'Glass Animals', 'Marshmello X Jonas Brothers', 'Drake Featuring Lil Baby', 'Bad Bunny', 'Jason Aldean', 'Roddy Ricch', 'Olivia Rodrigo', 'Kali Uchis', 'Dan + Shay', '24kGoldn Featuring iann dior', 'Moneybagg Yo', 'Olivia Rodrigo', 'Rauw Alejandro', 'Chase Rice Featuring Florida Georgia Line', 'Doja Cat', 'Ariana Grande', 'Machine Gun Kelly X blackbear', 'Tyler, The Creator Featuring YoungBoy Never Broke Again & Ty Dolla $ign', 'Lil Tjay Featuring 6LACK', 'Maneskin', 'DaBaby', 'Dierks Bentley', 'Brent Faiyaz Featuring Drake', 'DaBaby', 'Lainey Wilson', 'Olivia Rodrigo', 'Miranda Lambert', 'AJR', 'Migos', 'Young Thug & Gunna', 'Nio Garcia X J Balvin X Bad Bunny', 'Duncan Laurence', 'Olivia Rodrigo', 'Regard x Troye Sivan x Tate McRae', 'J. Cole, 21 Savage & Morray', 'Ryan Hurd With Maren Morris', 'Elle King & Miranda Lambert', 'Doja Cat']\n",
      "['BTS', 'Olivia Rodrigo', 'Dua Lipa Featuring DaBaby', 'Doja Cat Featuring SZA', 'Lil Nas X', 'Ed Sheeran', 'Silk Sonic (Bruno Mars & Anderson .Paak)', 'Justin Bieber Featuring Daniel Caesar & Giveon', 'The Weeknd & Ariana Grande', 'Olivia Rodrigo', 'Masked Wolf', 'Polo G', 'Doja Cat & The Weeknd', 'Aaron Lewis', 'The Weeknd', 'The Kid LAROI', 'Megan Thee Stallion', 'Luke Combs', 'Giveon', 'Walker Hayes', 'DJ Khaled Featuring Lil Baby & Lil Durk', 'Chris Young + Kane Brown', 'Maroon 5 Featuring Megan Thee Stallion', 'Saweetie Featuring Doja Cat', 'Nelly & Florida Georgia Line', 'Cole Swindell', 'Glass Animals', 'Marshmello X Jonas Brothers', 'Drake Featuring Lil Baby', 'Bad Bunny', 'Jason Aldean', 'Roddy Ricch', 'Olivia Rodrigo', 'Kali Uchis', 'Dan + Shay', '24kGoldn Featuring iann dior', 'Moneybagg Yo', 'Olivia Rodrigo', 'Rauw Alejandro', 'Chase Rice Featuring Florida Georgia Line', 'Doja Cat', 'Ariana Grande', 'Machine Gun Kelly X blackbear', 'Tyler, The Creator Featuring YoungBoy Never Broke Again & Ty Dolla $ign', 'Lil Tjay Featuring 6LACK', 'Maneskin', 'DaBaby', 'Dierks Bentley', 'Brent Faiyaz Featuring Drake', 'DaBaby', 'Lainey Wilson', 'Olivia Rodrigo', 'Miranda Lambert', 'AJR', 'Migos', 'Young Thug & Gunna', 'Nio Garcia X J Balvin X Bad Bunny', 'Duncan Laurence', 'Olivia Rodrigo', 'Regard x Troye Sivan x Tate McRae', 'J. Cole, 21 Savage & Morray', 'Ryan Hurd With Maren Morris', 'Elle King & Miranda Lambert', 'Doja Cat', 'Mooski']\n",
      "['BTS', 'Olivia Rodrigo', 'Dua Lipa Featuring DaBaby', 'Doja Cat Featuring SZA', 'Lil Nas X', 'Ed Sheeran', 'Silk Sonic (Bruno Mars & Anderson .Paak)', 'Justin Bieber Featuring Daniel Caesar & Giveon', 'The Weeknd & Ariana Grande', 'Olivia Rodrigo', 'Masked Wolf', 'Polo G', 'Doja Cat & The Weeknd', 'Aaron Lewis', 'The Weeknd', 'The Kid LAROI', 'Megan Thee Stallion', 'Luke Combs', 'Giveon', 'Walker Hayes', 'DJ Khaled Featuring Lil Baby & Lil Durk', 'Chris Young + Kane Brown', 'Maroon 5 Featuring Megan Thee Stallion', 'Saweetie Featuring Doja Cat', 'Nelly & Florida Georgia Line', 'Cole Swindell', 'Glass Animals', 'Marshmello X Jonas Brothers', 'Drake Featuring Lil Baby', 'Bad Bunny', 'Jason Aldean', 'Roddy Ricch', 'Olivia Rodrigo', 'Kali Uchis', 'Dan + Shay', '24kGoldn Featuring iann dior', 'Moneybagg Yo', 'Olivia Rodrigo', 'Rauw Alejandro', 'Chase Rice Featuring Florida Georgia Line', 'Doja Cat', 'Ariana Grande', 'Machine Gun Kelly X blackbear', 'Tyler, The Creator Featuring YoungBoy Never Broke Again & Ty Dolla $ign', 'Lil Tjay Featuring 6LACK', 'Maneskin', 'DaBaby', 'Dierks Bentley', 'Brent Faiyaz Featuring Drake', 'DaBaby', 'Lainey Wilson', 'Olivia Rodrigo', 'Miranda Lambert', 'AJR', 'Migos', 'Young Thug & Gunna', 'Nio Garcia X J Balvin X Bad Bunny', 'Duncan Laurence', 'Olivia Rodrigo', 'Regard x Troye Sivan x Tate McRae', 'J. Cole, 21 Savage & Morray', 'Ryan Hurd With Maren Morris', 'Elle King & Miranda Lambert', 'Doja Cat', 'Mooski', 'Keith Urban Duet With P!nk']\n",
      "['BTS', 'Olivia Rodrigo', 'Dua Lipa Featuring DaBaby', 'Doja Cat Featuring SZA', 'Lil Nas X', 'Ed Sheeran', 'Silk Sonic (Bruno Mars & Anderson .Paak)', 'Justin Bieber Featuring Daniel Caesar & Giveon', 'The Weeknd & Ariana Grande', 'Olivia Rodrigo', 'Masked Wolf', 'Polo G', 'Doja Cat & The Weeknd', 'Aaron Lewis', 'The Weeknd', 'The Kid LAROI', 'Megan Thee Stallion', 'Luke Combs', 'Giveon', 'Walker Hayes', 'DJ Khaled Featuring Lil Baby & Lil Durk', 'Chris Young + Kane Brown', 'Maroon 5 Featuring Megan Thee Stallion', 'Saweetie Featuring Doja Cat', 'Nelly & Florida Georgia Line', 'Cole Swindell', 'Glass Animals', 'Marshmello X Jonas Brothers', 'Drake Featuring Lil Baby', 'Bad Bunny', 'Jason Aldean', 'Roddy Ricch', 'Olivia Rodrigo', 'Kali Uchis', 'Dan + Shay', '24kGoldn Featuring iann dior', 'Moneybagg Yo', 'Olivia Rodrigo', 'Rauw Alejandro', 'Chase Rice Featuring Florida Georgia Line', 'Doja Cat', 'Ariana Grande', 'Machine Gun Kelly X blackbear', 'Tyler, The Creator Featuring YoungBoy Never Broke Again & Ty Dolla $ign', 'Lil Tjay Featuring 6LACK', 'Maneskin', 'DaBaby', 'Dierks Bentley', 'Brent Faiyaz Featuring Drake', 'DaBaby', 'Lainey Wilson', 'Olivia Rodrigo', 'Miranda Lambert', 'AJR', 'Migos', 'Young Thug & Gunna', 'Nio Garcia X J Balvin X Bad Bunny', 'Duncan Laurence', 'Olivia Rodrigo', 'Regard x Troye Sivan x Tate McRae', 'J. Cole, 21 Savage & Morray', 'Ryan Hurd With Maren Morris', 'Elle King & Miranda Lambert', 'Doja Cat', 'Mooski', 'Keith Urban Duet With P!nk', 'Lil Baby, Lil Durk & Travis Scott']\n",
      "['BTS', 'Olivia Rodrigo', 'Dua Lipa Featuring DaBaby', 'Doja Cat Featuring SZA', 'Lil Nas X', 'Ed Sheeran', 'Silk Sonic (Bruno Mars & Anderson .Paak)', 'Justin Bieber Featuring Daniel Caesar & Giveon', 'The Weeknd & Ariana Grande', 'Olivia Rodrigo', 'Masked Wolf', 'Polo G', 'Doja Cat & The Weeknd', 'Aaron Lewis', 'The Weeknd', 'The Kid LAROI', 'Megan Thee Stallion', 'Luke Combs', 'Giveon', 'Walker Hayes', 'DJ Khaled Featuring Lil Baby & Lil Durk', 'Chris Young + Kane Brown', 'Maroon 5 Featuring Megan Thee Stallion', 'Saweetie Featuring Doja Cat', 'Nelly & Florida Georgia Line', 'Cole Swindell', 'Glass Animals', 'Marshmello X Jonas Brothers', 'Drake Featuring Lil Baby', 'Bad Bunny', 'Jason Aldean', 'Roddy Ricch', 'Olivia Rodrigo', 'Kali Uchis', 'Dan + Shay', '24kGoldn Featuring iann dior', 'Moneybagg Yo', 'Olivia Rodrigo', 'Rauw Alejandro', 'Chase Rice Featuring Florida Georgia Line', 'Doja Cat', 'Ariana Grande', 'Machine Gun Kelly X blackbear', 'Tyler, The Creator Featuring YoungBoy Never Broke Again & Ty Dolla $ign', 'Lil Tjay Featuring 6LACK', 'Maneskin', 'DaBaby', 'Dierks Bentley', 'Brent Faiyaz Featuring Drake', 'DaBaby', 'Lainey Wilson', 'Olivia Rodrigo', 'Miranda Lambert', 'AJR', 'Migos', 'Young Thug & Gunna', 'Nio Garcia X J Balvin X Bad Bunny', 'Duncan Laurence', 'Olivia Rodrigo', 'Regard x Troye Sivan x Tate McRae', 'J. Cole, 21 Savage & Morray', 'Ryan Hurd With Maren Morris', 'Elle King & Miranda Lambert', 'Doja Cat', 'Mooski', 'Keith Urban Duet With P!nk', 'Lil Baby, Lil Durk & Travis Scott', 'Olivia Rodrigo']\n",
      "['BTS', 'Olivia Rodrigo', 'Dua Lipa Featuring DaBaby', 'Doja Cat Featuring SZA', 'Lil Nas X', 'Ed Sheeran', 'Silk Sonic (Bruno Mars & Anderson .Paak)', 'Justin Bieber Featuring Daniel Caesar & Giveon', 'The Weeknd & Ariana Grande', 'Olivia Rodrigo', 'Masked Wolf', 'Polo G', 'Doja Cat & The Weeknd', 'Aaron Lewis', 'The Weeknd', 'The Kid LAROI', 'Megan Thee Stallion', 'Luke Combs', 'Giveon', 'Walker Hayes', 'DJ Khaled Featuring Lil Baby & Lil Durk', 'Chris Young + Kane Brown', 'Maroon 5 Featuring Megan Thee Stallion', 'Saweetie Featuring Doja Cat', 'Nelly & Florida Georgia Line', 'Cole Swindell', 'Glass Animals', 'Marshmello X Jonas Brothers', 'Drake Featuring Lil Baby', 'Bad Bunny', 'Jason Aldean', 'Roddy Ricch', 'Olivia Rodrigo', 'Kali Uchis', 'Dan + Shay', '24kGoldn Featuring iann dior', 'Moneybagg Yo', 'Olivia Rodrigo', 'Rauw Alejandro', 'Chase Rice Featuring Florida Georgia Line', 'Doja Cat', 'Ariana Grande', 'Machine Gun Kelly X blackbear', 'Tyler, The Creator Featuring YoungBoy Never Broke Again & Ty Dolla $ign', 'Lil Tjay Featuring 6LACK', 'Maneskin', 'DaBaby', 'Dierks Bentley', 'Brent Faiyaz Featuring Drake', 'DaBaby', 'Lainey Wilson', 'Olivia Rodrigo', 'Miranda Lambert', 'AJR', 'Migos', 'Young Thug & Gunna', 'Nio Garcia X J Balvin X Bad Bunny', 'Duncan Laurence', 'Olivia Rodrigo', 'Regard x Troye Sivan x Tate McRae', 'J. Cole, 21 Savage & Morray', 'Ryan Hurd With Maren Morris', 'Elle King & Miranda Lambert', 'Doja Cat', 'Mooski', 'Keith Urban Duet With P!nk', 'Lil Baby, Lil Durk & Travis Scott', 'Olivia Rodrigo', 'Bella Poarch']\n",
      "['BTS', 'Olivia Rodrigo', 'Dua Lipa Featuring DaBaby', 'Doja Cat Featuring SZA', 'Lil Nas X', 'Ed Sheeran', 'Silk Sonic (Bruno Mars & Anderson .Paak)', 'Justin Bieber Featuring Daniel Caesar & Giveon', 'The Weeknd & Ariana Grande', 'Olivia Rodrigo', 'Masked Wolf', 'Polo G', 'Doja Cat & The Weeknd', 'Aaron Lewis', 'The Weeknd', 'The Kid LAROI', 'Megan Thee Stallion', 'Luke Combs', 'Giveon', 'Walker Hayes', 'DJ Khaled Featuring Lil Baby & Lil Durk', 'Chris Young + Kane Brown', 'Maroon 5 Featuring Megan Thee Stallion', 'Saweetie Featuring Doja Cat', 'Nelly & Florida Georgia Line', 'Cole Swindell', 'Glass Animals', 'Marshmello X Jonas Brothers', 'Drake Featuring Lil Baby', 'Bad Bunny', 'Jason Aldean', 'Roddy Ricch', 'Olivia Rodrigo', 'Kali Uchis', 'Dan + Shay', '24kGoldn Featuring iann dior', 'Moneybagg Yo', 'Olivia Rodrigo', 'Rauw Alejandro', 'Chase Rice Featuring Florida Georgia Line', 'Doja Cat', 'Ariana Grande', 'Machine Gun Kelly X blackbear', 'Tyler, The Creator Featuring YoungBoy Never Broke Again & Ty Dolla $ign', 'Lil Tjay Featuring 6LACK', 'Maneskin', 'DaBaby', 'Dierks Bentley', 'Brent Faiyaz Featuring Drake', 'DaBaby', 'Lainey Wilson', 'Olivia Rodrigo', 'Miranda Lambert', 'AJR', 'Migos', 'Young Thug & Gunna', 'Nio Garcia X J Balvin X Bad Bunny', 'Duncan Laurence', 'Olivia Rodrigo', 'Regard x Troye Sivan x Tate McRae', 'J. Cole, 21 Savage & Morray', 'Ryan Hurd With Maren Morris', 'Elle King & Miranda Lambert', 'Doja Cat', 'Mooski', 'Keith Urban Duet With P!nk', 'Lil Baby, Lil Durk & Travis Scott', 'Olivia Rodrigo', 'Bella Poarch', 'Sam Hunt']\n",
      "['BTS', 'Olivia Rodrigo', 'Dua Lipa Featuring DaBaby', 'Doja Cat Featuring SZA', 'Lil Nas X', 'Ed Sheeran', 'Silk Sonic (Bruno Mars & Anderson .Paak)', 'Justin Bieber Featuring Daniel Caesar & Giveon', 'The Weeknd & Ariana Grande', 'Olivia Rodrigo', 'Masked Wolf', 'Polo G', 'Doja Cat & The Weeknd', 'Aaron Lewis', 'The Weeknd', 'The Kid LAROI', 'Megan Thee Stallion', 'Luke Combs', 'Giveon', 'Walker Hayes', 'DJ Khaled Featuring Lil Baby & Lil Durk', 'Chris Young + Kane Brown', 'Maroon 5 Featuring Megan Thee Stallion', 'Saweetie Featuring Doja Cat', 'Nelly & Florida Georgia Line', 'Cole Swindell', 'Glass Animals', 'Marshmello X Jonas Brothers', 'Drake Featuring Lil Baby', 'Bad Bunny', 'Jason Aldean', 'Roddy Ricch', 'Olivia Rodrigo', 'Kali Uchis', 'Dan + Shay', '24kGoldn Featuring iann dior', 'Moneybagg Yo', 'Olivia Rodrigo', 'Rauw Alejandro', 'Chase Rice Featuring Florida Georgia Line', 'Doja Cat', 'Ariana Grande', 'Machine Gun Kelly X blackbear', 'Tyler, The Creator Featuring YoungBoy Never Broke Again & Ty Dolla $ign', 'Lil Tjay Featuring 6LACK', 'Maneskin', 'DaBaby', 'Dierks Bentley', 'Brent Faiyaz Featuring Drake', 'DaBaby', 'Lainey Wilson', 'Olivia Rodrigo', 'Miranda Lambert', 'AJR', 'Migos', 'Young Thug & Gunna', 'Nio Garcia X J Balvin X Bad Bunny', 'Duncan Laurence', 'Olivia Rodrigo', 'Regard x Troye Sivan x Tate McRae', 'J. Cole, 21 Savage & Morray', 'Ryan Hurd With Maren Morris', 'Elle King & Miranda Lambert', 'Doja Cat', 'Mooski', 'Keith Urban Duet With P!nk', 'Lil Baby, Lil Durk & Travis Scott', 'Olivia Rodrigo', 'Bella Poarch', 'Sam Hunt', 'Thomas Rhett']\n",
      "['BTS', 'Olivia Rodrigo', 'Dua Lipa Featuring DaBaby', 'Doja Cat Featuring SZA', 'Lil Nas X', 'Ed Sheeran', 'Silk Sonic (Bruno Mars & Anderson .Paak)', 'Justin Bieber Featuring Daniel Caesar & Giveon', 'The Weeknd & Ariana Grande', 'Olivia Rodrigo', 'Masked Wolf', 'Polo G', 'Doja Cat & The Weeknd', 'Aaron Lewis', 'The Weeknd', 'The Kid LAROI', 'Megan Thee Stallion', 'Luke Combs', 'Giveon', 'Walker Hayes', 'DJ Khaled Featuring Lil Baby & Lil Durk', 'Chris Young + Kane Brown', 'Maroon 5 Featuring Megan Thee Stallion', 'Saweetie Featuring Doja Cat', 'Nelly & Florida Georgia Line', 'Cole Swindell', 'Glass Animals', 'Marshmello X Jonas Brothers', 'Drake Featuring Lil Baby', 'Bad Bunny', 'Jason Aldean', 'Roddy Ricch', 'Olivia Rodrigo', 'Kali Uchis', 'Dan + Shay', '24kGoldn Featuring iann dior', 'Moneybagg Yo', 'Olivia Rodrigo', 'Rauw Alejandro', 'Chase Rice Featuring Florida Georgia Line', 'Doja Cat', 'Ariana Grande', 'Machine Gun Kelly X blackbear', 'Tyler, The Creator Featuring YoungBoy Never Broke Again & Ty Dolla $ign', 'Lil Tjay Featuring 6LACK', 'Maneskin', 'DaBaby', 'Dierks Bentley', 'Brent Faiyaz Featuring Drake', 'DaBaby', 'Lainey Wilson', 'Olivia Rodrigo', 'Miranda Lambert', 'AJR', 'Migos', 'Young Thug & Gunna', 'Nio Garcia X J Balvin X Bad Bunny', 'Duncan Laurence', 'Olivia Rodrigo', 'Regard x Troye Sivan x Tate McRae', 'J. Cole, 21 Savage & Morray', 'Ryan Hurd With Maren Morris', 'Elle King & Miranda Lambert', 'Doja Cat', 'Mooski', 'Keith Urban Duet With P!nk', 'Lil Baby, Lil Durk & Travis Scott', 'Olivia Rodrigo', 'Bella Poarch', 'Sam Hunt', 'Thomas Rhett', 'Los Legendarios, Wisin & Jhay Cortez']\n",
      "['BTS', 'Olivia Rodrigo', 'Dua Lipa Featuring DaBaby', 'Doja Cat Featuring SZA', 'Lil Nas X', 'Ed Sheeran', 'Silk Sonic (Bruno Mars & Anderson .Paak)', 'Justin Bieber Featuring Daniel Caesar & Giveon', 'The Weeknd & Ariana Grande', 'Olivia Rodrigo', 'Masked Wolf', 'Polo G', 'Doja Cat & The Weeknd', 'Aaron Lewis', 'The Weeknd', 'The Kid LAROI', 'Megan Thee Stallion', 'Luke Combs', 'Giveon', 'Walker Hayes', 'DJ Khaled Featuring Lil Baby & Lil Durk', 'Chris Young + Kane Brown', 'Maroon 5 Featuring Megan Thee Stallion', 'Saweetie Featuring Doja Cat', 'Nelly & Florida Georgia Line', 'Cole Swindell', 'Glass Animals', 'Marshmello X Jonas Brothers', 'Drake Featuring Lil Baby', 'Bad Bunny', 'Jason Aldean', 'Roddy Ricch', 'Olivia Rodrigo', 'Kali Uchis', 'Dan + Shay', '24kGoldn Featuring iann dior', 'Moneybagg Yo', 'Olivia Rodrigo', 'Rauw Alejandro', 'Chase Rice Featuring Florida Georgia Line', 'Doja Cat', 'Ariana Grande', 'Machine Gun Kelly X blackbear', 'Tyler, The Creator Featuring YoungBoy Never Broke Again & Ty Dolla $ign', 'Lil Tjay Featuring 6LACK', 'Maneskin', 'DaBaby', 'Dierks Bentley', 'Brent Faiyaz Featuring Drake', 'DaBaby', 'Lainey Wilson', 'Olivia Rodrigo', 'Miranda Lambert', 'AJR', 'Migos', 'Young Thug & Gunna', 'Nio Garcia X J Balvin X Bad Bunny', 'Duncan Laurence', 'Olivia Rodrigo', 'Regard x Troye Sivan x Tate McRae', 'J. Cole, 21 Savage & Morray', 'Ryan Hurd With Maren Morris', 'Elle King & Miranda Lambert', 'Doja Cat', 'Mooski', 'Keith Urban Duet With P!nk', 'Lil Baby, Lil Durk & Travis Scott', 'Olivia Rodrigo', 'Bella Poarch', 'Sam Hunt', 'Thomas Rhett', 'Los Legendarios, Wisin & Jhay Cortez', 'Big Red Machine Featuring Taylor Swift']\n",
      "['BTS', 'Olivia Rodrigo', 'Dua Lipa Featuring DaBaby', 'Doja Cat Featuring SZA', 'Lil Nas X', 'Ed Sheeran', 'Silk Sonic (Bruno Mars & Anderson .Paak)', 'Justin Bieber Featuring Daniel Caesar & Giveon', 'The Weeknd & Ariana Grande', 'Olivia Rodrigo', 'Masked Wolf', 'Polo G', 'Doja Cat & The Weeknd', 'Aaron Lewis', 'The Weeknd', 'The Kid LAROI', 'Megan Thee Stallion', 'Luke Combs', 'Giveon', 'Walker Hayes', 'DJ Khaled Featuring Lil Baby & Lil Durk', 'Chris Young + Kane Brown', 'Maroon 5 Featuring Megan Thee Stallion', 'Saweetie Featuring Doja Cat', 'Nelly & Florida Georgia Line', 'Cole Swindell', 'Glass Animals', 'Marshmello X Jonas Brothers', 'Drake Featuring Lil Baby', 'Bad Bunny', 'Jason Aldean', 'Roddy Ricch', 'Olivia Rodrigo', 'Kali Uchis', 'Dan + Shay', '24kGoldn Featuring iann dior', 'Moneybagg Yo', 'Olivia Rodrigo', 'Rauw Alejandro', 'Chase Rice Featuring Florida Georgia Line', 'Doja Cat', 'Ariana Grande', 'Machine Gun Kelly X blackbear', 'Tyler, The Creator Featuring YoungBoy Never Broke Again & Ty Dolla $ign', 'Lil Tjay Featuring 6LACK', 'Maneskin', 'DaBaby', 'Dierks Bentley', 'Brent Faiyaz Featuring Drake', 'DaBaby', 'Lainey Wilson', 'Olivia Rodrigo', 'Miranda Lambert', 'AJR', 'Migos', 'Young Thug & Gunna', 'Nio Garcia X J Balvin X Bad Bunny', 'Duncan Laurence', 'Olivia Rodrigo', 'Regard x Troye Sivan x Tate McRae', 'J. Cole, 21 Savage & Morray', 'Ryan Hurd With Maren Morris', 'Elle King & Miranda Lambert', 'Doja Cat', 'Mooski', 'Keith Urban Duet With P!nk', 'Lil Baby, Lil Durk & Travis Scott', 'Olivia Rodrigo', 'Bella Poarch', 'Sam Hunt', 'Thomas Rhett', 'Los Legendarios, Wisin & Jhay Cortez', 'Big Red Machine Featuring Taylor Swift', 'Luke Bryan']\n",
      "['BTS', 'Olivia Rodrigo', 'Dua Lipa Featuring DaBaby', 'Doja Cat Featuring SZA', 'Lil Nas X', 'Ed Sheeran', 'Silk Sonic (Bruno Mars & Anderson .Paak)', 'Justin Bieber Featuring Daniel Caesar & Giveon', 'The Weeknd & Ariana Grande', 'Olivia Rodrigo', 'Masked Wolf', 'Polo G', 'Doja Cat & The Weeknd', 'Aaron Lewis', 'The Weeknd', 'The Kid LAROI', 'Megan Thee Stallion', 'Luke Combs', 'Giveon', 'Walker Hayes', 'DJ Khaled Featuring Lil Baby & Lil Durk', 'Chris Young + Kane Brown', 'Maroon 5 Featuring Megan Thee Stallion', 'Saweetie Featuring Doja Cat', 'Nelly & Florida Georgia Line', 'Cole Swindell', 'Glass Animals', 'Marshmello X Jonas Brothers', 'Drake Featuring Lil Baby', 'Bad Bunny', 'Jason Aldean', 'Roddy Ricch', 'Olivia Rodrigo', 'Kali Uchis', 'Dan + Shay', '24kGoldn Featuring iann dior', 'Moneybagg Yo', 'Olivia Rodrigo', 'Rauw Alejandro', 'Chase Rice Featuring Florida Georgia Line', 'Doja Cat', 'Ariana Grande', 'Machine Gun Kelly X blackbear', 'Tyler, The Creator Featuring YoungBoy Never Broke Again & Ty Dolla $ign', 'Lil Tjay Featuring 6LACK', 'Maneskin', 'DaBaby', 'Dierks Bentley', 'Brent Faiyaz Featuring Drake', 'DaBaby', 'Lainey Wilson', 'Olivia Rodrigo', 'Miranda Lambert', 'AJR', 'Migos', 'Young Thug & Gunna', 'Nio Garcia X J Balvin X Bad Bunny', 'Duncan Laurence', 'Olivia Rodrigo', 'Regard x Troye Sivan x Tate McRae', 'J. Cole, 21 Savage & Morray', 'Ryan Hurd With Maren Morris', 'Elle King & Miranda Lambert', 'Doja Cat', 'Mooski', 'Keith Urban Duet With P!nk', 'Lil Baby, Lil Durk & Travis Scott', 'Olivia Rodrigo', 'Bella Poarch', 'Sam Hunt', 'Thomas Rhett', 'Los Legendarios, Wisin & Jhay Cortez', 'Big Red Machine Featuring Taylor Swift', 'Luke Bryan', 'Justin Moore']\n",
      "['BTS', 'Olivia Rodrigo', 'Dua Lipa Featuring DaBaby', 'Doja Cat Featuring SZA', 'Lil Nas X', 'Ed Sheeran', 'Silk Sonic (Bruno Mars & Anderson .Paak)', 'Justin Bieber Featuring Daniel Caesar & Giveon', 'The Weeknd & Ariana Grande', 'Olivia Rodrigo', 'Masked Wolf', 'Polo G', 'Doja Cat & The Weeknd', 'Aaron Lewis', 'The Weeknd', 'The Kid LAROI', 'Megan Thee Stallion', 'Luke Combs', 'Giveon', 'Walker Hayes', 'DJ Khaled Featuring Lil Baby & Lil Durk', 'Chris Young + Kane Brown', 'Maroon 5 Featuring Megan Thee Stallion', 'Saweetie Featuring Doja Cat', 'Nelly & Florida Georgia Line', 'Cole Swindell', 'Glass Animals', 'Marshmello X Jonas Brothers', 'Drake Featuring Lil Baby', 'Bad Bunny', 'Jason Aldean', 'Roddy Ricch', 'Olivia Rodrigo', 'Kali Uchis', 'Dan + Shay', '24kGoldn Featuring iann dior', 'Moneybagg Yo', 'Olivia Rodrigo', 'Rauw Alejandro', 'Chase Rice Featuring Florida Georgia Line', 'Doja Cat', 'Ariana Grande', 'Machine Gun Kelly X blackbear', 'Tyler, The Creator Featuring YoungBoy Never Broke Again & Ty Dolla $ign', 'Lil Tjay Featuring 6LACK', 'Maneskin', 'DaBaby', 'Dierks Bentley', 'Brent Faiyaz Featuring Drake', 'DaBaby', 'Lainey Wilson', 'Olivia Rodrigo', 'Miranda Lambert', 'AJR', 'Migos', 'Young Thug & Gunna', 'Nio Garcia X J Balvin X Bad Bunny', 'Duncan Laurence', 'Olivia Rodrigo', 'Regard x Troye Sivan x Tate McRae', 'J. Cole, 21 Savage & Morray', 'Ryan Hurd With Maren Morris', 'Elle King & Miranda Lambert', 'Doja Cat', 'Mooski', 'Keith Urban Duet With P!nk', 'Lil Baby, Lil Durk & Travis Scott', 'Olivia Rodrigo', 'Bella Poarch', 'Sam Hunt', 'Thomas Rhett', 'Los Legendarios, Wisin & Jhay Cortez', 'Big Red Machine Featuring Taylor Swift', 'Luke Bryan', 'Justin Moore', 'Blake Shelton']\n",
      "['BTS', 'Olivia Rodrigo', 'Dua Lipa Featuring DaBaby', 'Doja Cat Featuring SZA', 'Lil Nas X', 'Ed Sheeran', 'Silk Sonic (Bruno Mars & Anderson .Paak)', 'Justin Bieber Featuring Daniel Caesar & Giveon', 'The Weeknd & Ariana Grande', 'Olivia Rodrigo', 'Masked Wolf', 'Polo G', 'Doja Cat & The Weeknd', 'Aaron Lewis', 'The Weeknd', 'The Kid LAROI', 'Megan Thee Stallion', 'Luke Combs', 'Giveon', 'Walker Hayes', 'DJ Khaled Featuring Lil Baby & Lil Durk', 'Chris Young + Kane Brown', 'Maroon 5 Featuring Megan Thee Stallion', 'Saweetie Featuring Doja Cat', 'Nelly & Florida Georgia Line', 'Cole Swindell', 'Glass Animals', 'Marshmello X Jonas Brothers', 'Drake Featuring Lil Baby', 'Bad Bunny', 'Jason Aldean', 'Roddy Ricch', 'Olivia Rodrigo', 'Kali Uchis', 'Dan + Shay', '24kGoldn Featuring iann dior', 'Moneybagg Yo', 'Olivia Rodrigo', 'Rauw Alejandro', 'Chase Rice Featuring Florida Georgia Line', 'Doja Cat', 'Ariana Grande', 'Machine Gun Kelly X blackbear', 'Tyler, The Creator Featuring YoungBoy Never Broke Again & Ty Dolla $ign', 'Lil Tjay Featuring 6LACK', 'Maneskin', 'DaBaby', 'Dierks Bentley', 'Brent Faiyaz Featuring Drake', 'DaBaby', 'Lainey Wilson', 'Olivia Rodrigo', 'Miranda Lambert', 'AJR', 'Migos', 'Young Thug & Gunna', 'Nio Garcia X J Balvin X Bad Bunny', 'Duncan Laurence', 'Olivia Rodrigo', 'Regard x Troye Sivan x Tate McRae', 'J. Cole, 21 Savage & Morray', 'Ryan Hurd With Maren Morris', 'Elle King & Miranda Lambert', 'Doja Cat', 'Mooski', 'Keith Urban Duet With P!nk', 'Lil Baby, Lil Durk & Travis Scott', 'Olivia Rodrigo', 'Bella Poarch', 'Sam Hunt', 'Thomas Rhett', 'Los Legendarios, Wisin & Jhay Cortez', 'Big Red Machine Featuring Taylor Swift', 'Luke Bryan', 'Justin Moore', 'Blake Shelton', 'Imagine Dragons']\n",
      "['BTS', 'Olivia Rodrigo', 'Dua Lipa Featuring DaBaby', 'Doja Cat Featuring SZA', 'Lil Nas X', 'Ed Sheeran', 'Silk Sonic (Bruno Mars & Anderson .Paak)', 'Justin Bieber Featuring Daniel Caesar & Giveon', 'The Weeknd & Ariana Grande', 'Olivia Rodrigo', 'Masked Wolf', 'Polo G', 'Doja Cat & The Weeknd', 'Aaron Lewis', 'The Weeknd', 'The Kid LAROI', 'Megan Thee Stallion', 'Luke Combs', 'Giveon', 'Walker Hayes', 'DJ Khaled Featuring Lil Baby & Lil Durk', 'Chris Young + Kane Brown', 'Maroon 5 Featuring Megan Thee Stallion', 'Saweetie Featuring Doja Cat', 'Nelly & Florida Georgia Line', 'Cole Swindell', 'Glass Animals', 'Marshmello X Jonas Brothers', 'Drake Featuring Lil Baby', 'Bad Bunny', 'Jason Aldean', 'Roddy Ricch', 'Olivia Rodrigo', 'Kali Uchis', 'Dan + Shay', '24kGoldn Featuring iann dior', 'Moneybagg Yo', 'Olivia Rodrigo', 'Rauw Alejandro', 'Chase Rice Featuring Florida Georgia Line', 'Doja Cat', 'Ariana Grande', 'Machine Gun Kelly X blackbear', 'Tyler, The Creator Featuring YoungBoy Never Broke Again & Ty Dolla $ign', 'Lil Tjay Featuring 6LACK', 'Maneskin', 'DaBaby', 'Dierks Bentley', 'Brent Faiyaz Featuring Drake', 'DaBaby', 'Lainey Wilson', 'Olivia Rodrigo', 'Miranda Lambert', 'AJR', 'Migos', 'Young Thug & Gunna', 'Nio Garcia X J Balvin X Bad Bunny', 'Duncan Laurence', 'Olivia Rodrigo', 'Regard x Troye Sivan x Tate McRae', 'J. Cole, 21 Savage & Morray', 'Ryan Hurd With Maren Morris', 'Elle King & Miranda Lambert', 'Doja Cat', 'Mooski', 'Keith Urban Duet With P!nk', 'Lil Baby, Lil Durk & Travis Scott', 'Olivia Rodrigo', 'Bella Poarch', 'Sam Hunt', 'Thomas Rhett', 'Los Legendarios, Wisin & Jhay Cortez', 'Big Red Machine Featuring Taylor Swift', 'Luke Bryan', 'Justin Moore', 'Blake Shelton', 'Imagine Dragons', 'Olivia Rodrigo']\n",
      "['BTS', 'Olivia Rodrigo', 'Dua Lipa Featuring DaBaby', 'Doja Cat Featuring SZA', 'Lil Nas X', 'Ed Sheeran', 'Silk Sonic (Bruno Mars & Anderson .Paak)', 'Justin Bieber Featuring Daniel Caesar & Giveon', 'The Weeknd & Ariana Grande', 'Olivia Rodrigo', 'Masked Wolf', 'Polo G', 'Doja Cat & The Weeknd', 'Aaron Lewis', 'The Weeknd', 'The Kid LAROI', 'Megan Thee Stallion', 'Luke Combs', 'Giveon', 'Walker Hayes', 'DJ Khaled Featuring Lil Baby & Lil Durk', 'Chris Young + Kane Brown', 'Maroon 5 Featuring Megan Thee Stallion', 'Saweetie Featuring Doja Cat', 'Nelly & Florida Georgia Line', 'Cole Swindell', 'Glass Animals', 'Marshmello X Jonas Brothers', 'Drake Featuring Lil Baby', 'Bad Bunny', 'Jason Aldean', 'Roddy Ricch', 'Olivia Rodrigo', 'Kali Uchis', 'Dan + Shay', '24kGoldn Featuring iann dior', 'Moneybagg Yo', 'Olivia Rodrigo', 'Rauw Alejandro', 'Chase Rice Featuring Florida Georgia Line', 'Doja Cat', 'Ariana Grande', 'Machine Gun Kelly X blackbear', 'Tyler, The Creator Featuring YoungBoy Never Broke Again & Ty Dolla $ign', 'Lil Tjay Featuring 6LACK', 'Maneskin', 'DaBaby', 'Dierks Bentley', 'Brent Faiyaz Featuring Drake', 'DaBaby', 'Lainey Wilson', 'Olivia Rodrigo', 'Miranda Lambert', 'AJR', 'Migos', 'Young Thug & Gunna', 'Nio Garcia X J Balvin X Bad Bunny', 'Duncan Laurence', 'Olivia Rodrigo', 'Regard x Troye Sivan x Tate McRae', 'J. Cole, 21 Savage & Morray', 'Ryan Hurd With Maren Morris', 'Elle King & Miranda Lambert', 'Doja Cat', 'Mooski', 'Keith Urban Duet With P!nk', 'Lil Baby, Lil Durk & Travis Scott', 'Olivia Rodrigo', 'Bella Poarch', 'Sam Hunt', 'Thomas Rhett', 'Los Legendarios, Wisin & Jhay Cortez', 'Big Red Machine Featuring Taylor Swift', 'Luke Bryan', 'Justin Moore', 'Blake Shelton', 'Imagine Dragons', 'Olivia Rodrigo', 'H.E.R. Featuring Chris Brown']\n",
      "['BTS', 'Olivia Rodrigo', 'Dua Lipa Featuring DaBaby', 'Doja Cat Featuring SZA', 'Lil Nas X', 'Ed Sheeran', 'Silk Sonic (Bruno Mars & Anderson .Paak)', 'Justin Bieber Featuring Daniel Caesar & Giveon', 'The Weeknd & Ariana Grande', 'Olivia Rodrigo', 'Masked Wolf', 'Polo G', 'Doja Cat & The Weeknd', 'Aaron Lewis', 'The Weeknd', 'The Kid LAROI', 'Megan Thee Stallion', 'Luke Combs', 'Giveon', 'Walker Hayes', 'DJ Khaled Featuring Lil Baby & Lil Durk', 'Chris Young + Kane Brown', 'Maroon 5 Featuring Megan Thee Stallion', 'Saweetie Featuring Doja Cat', 'Nelly & Florida Georgia Line', 'Cole Swindell', 'Glass Animals', 'Marshmello X Jonas Brothers', 'Drake Featuring Lil Baby', 'Bad Bunny', 'Jason Aldean', 'Roddy Ricch', 'Olivia Rodrigo', 'Kali Uchis', 'Dan + Shay', '24kGoldn Featuring iann dior', 'Moneybagg Yo', 'Olivia Rodrigo', 'Rauw Alejandro', 'Chase Rice Featuring Florida Georgia Line', 'Doja Cat', 'Ariana Grande', 'Machine Gun Kelly X blackbear', 'Tyler, The Creator Featuring YoungBoy Never Broke Again & Ty Dolla $ign', 'Lil Tjay Featuring 6LACK', 'Maneskin', 'DaBaby', 'Dierks Bentley', 'Brent Faiyaz Featuring Drake', 'DaBaby', 'Lainey Wilson', 'Olivia Rodrigo', 'Miranda Lambert', 'AJR', 'Migos', 'Young Thug & Gunna', 'Nio Garcia X J Balvin X Bad Bunny', 'Duncan Laurence', 'Olivia Rodrigo', 'Regard x Troye Sivan x Tate McRae', 'J. Cole, 21 Savage & Morray', 'Ryan Hurd With Maren Morris', 'Elle King & Miranda Lambert', 'Doja Cat', 'Mooski', 'Keith Urban Duet With P!nk', 'Lil Baby, Lil Durk & Travis Scott', 'Olivia Rodrigo', 'Bella Poarch', 'Sam Hunt', 'Thomas Rhett', 'Los Legendarios, Wisin & Jhay Cortez', 'Big Red Machine Featuring Taylor Swift', 'Luke Bryan', 'Justin Moore', 'Blake Shelton', 'Imagine Dragons', 'Olivia Rodrigo', 'H.E.R. Featuring Chris Brown', 'City Girls']\n",
      "['BTS', 'Olivia Rodrigo', 'Dua Lipa Featuring DaBaby', 'Doja Cat Featuring SZA', 'Lil Nas X', 'Ed Sheeran', 'Silk Sonic (Bruno Mars & Anderson .Paak)', 'Justin Bieber Featuring Daniel Caesar & Giveon', 'The Weeknd & Ariana Grande', 'Olivia Rodrigo', 'Masked Wolf', 'Polo G', 'Doja Cat & The Weeknd', 'Aaron Lewis', 'The Weeknd', 'The Kid LAROI', 'Megan Thee Stallion', 'Luke Combs', 'Giveon', 'Walker Hayes', 'DJ Khaled Featuring Lil Baby & Lil Durk', 'Chris Young + Kane Brown', 'Maroon 5 Featuring Megan Thee Stallion', 'Saweetie Featuring Doja Cat', 'Nelly & Florida Georgia Line', 'Cole Swindell', 'Glass Animals', 'Marshmello X Jonas Brothers', 'Drake Featuring Lil Baby', 'Bad Bunny', 'Jason Aldean', 'Roddy Ricch', 'Olivia Rodrigo', 'Kali Uchis', 'Dan + Shay', '24kGoldn Featuring iann dior', 'Moneybagg Yo', 'Olivia Rodrigo', 'Rauw Alejandro', 'Chase Rice Featuring Florida Georgia Line', 'Doja Cat', 'Ariana Grande', 'Machine Gun Kelly X blackbear', 'Tyler, The Creator Featuring YoungBoy Never Broke Again & Ty Dolla $ign', 'Lil Tjay Featuring 6LACK', 'Maneskin', 'DaBaby', 'Dierks Bentley', 'Brent Faiyaz Featuring Drake', 'DaBaby', 'Lainey Wilson', 'Olivia Rodrigo', 'Miranda Lambert', 'AJR', 'Migos', 'Young Thug & Gunna', 'Nio Garcia X J Balvin X Bad Bunny', 'Duncan Laurence', 'Olivia Rodrigo', 'Regard x Troye Sivan x Tate McRae', 'J. Cole, 21 Savage & Morray', 'Ryan Hurd With Maren Morris', 'Elle King & Miranda Lambert', 'Doja Cat', 'Mooski', 'Keith Urban Duet With P!nk', 'Lil Baby, Lil Durk & Travis Scott', 'Olivia Rodrigo', 'Bella Poarch', 'Sam Hunt', 'Thomas Rhett', 'Los Legendarios, Wisin & Jhay Cortez', 'Big Red Machine Featuring Taylor Swift', 'Luke Bryan', 'Justin Moore', 'Blake Shelton', 'Imagine Dragons', 'Olivia Rodrigo', 'H.E.R. Featuring Chris Brown', 'City Girls', 'G Herbo Featuring Polo G & Lil Tjay']\n",
      "['BTS', 'Olivia Rodrigo', 'Dua Lipa Featuring DaBaby', 'Doja Cat Featuring SZA', 'Lil Nas X', 'Ed Sheeran', 'Silk Sonic (Bruno Mars & Anderson .Paak)', 'Justin Bieber Featuring Daniel Caesar & Giveon', 'The Weeknd & Ariana Grande', 'Olivia Rodrigo', 'Masked Wolf', 'Polo G', 'Doja Cat & The Weeknd', 'Aaron Lewis', 'The Weeknd', 'The Kid LAROI', 'Megan Thee Stallion', 'Luke Combs', 'Giveon', 'Walker Hayes', 'DJ Khaled Featuring Lil Baby & Lil Durk', 'Chris Young + Kane Brown', 'Maroon 5 Featuring Megan Thee Stallion', 'Saweetie Featuring Doja Cat', 'Nelly & Florida Georgia Line', 'Cole Swindell', 'Glass Animals', 'Marshmello X Jonas Brothers', 'Drake Featuring Lil Baby', 'Bad Bunny', 'Jason Aldean', 'Roddy Ricch', 'Olivia Rodrigo', 'Kali Uchis', 'Dan + Shay', '24kGoldn Featuring iann dior', 'Moneybagg Yo', 'Olivia Rodrigo', 'Rauw Alejandro', 'Chase Rice Featuring Florida Georgia Line', 'Doja Cat', 'Ariana Grande', 'Machine Gun Kelly X blackbear', 'Tyler, The Creator Featuring YoungBoy Never Broke Again & Ty Dolla $ign', 'Lil Tjay Featuring 6LACK', 'Maneskin', 'DaBaby', 'Dierks Bentley', 'Brent Faiyaz Featuring Drake', 'DaBaby', 'Lainey Wilson', 'Olivia Rodrigo', 'Miranda Lambert', 'AJR', 'Migos', 'Young Thug & Gunna', 'Nio Garcia X J Balvin X Bad Bunny', 'Duncan Laurence', 'Olivia Rodrigo', 'Regard x Troye Sivan x Tate McRae', 'J. Cole, 21 Savage & Morray', 'Ryan Hurd With Maren Morris', 'Elle King & Miranda Lambert', 'Doja Cat', 'Mooski', 'Keith Urban Duet With P!nk', 'Lil Baby, Lil Durk & Travis Scott', 'Olivia Rodrigo', 'Bella Poarch', 'Sam Hunt', 'Thomas Rhett', 'Los Legendarios, Wisin & Jhay Cortez', 'Big Red Machine Featuring Taylor Swift', 'Luke Bryan', 'Justin Moore', 'Blake Shelton', 'Imagine Dragons', 'Olivia Rodrigo', 'H.E.R. Featuring Chris Brown', 'City Girls', 'G Herbo Featuring Polo G & Lil Tjay', 'Wizkid Featuring Tems']\n",
      "['BTS', 'Olivia Rodrigo', 'Dua Lipa Featuring DaBaby', 'Doja Cat Featuring SZA', 'Lil Nas X', 'Ed Sheeran', 'Silk Sonic (Bruno Mars & Anderson .Paak)', 'Justin Bieber Featuring Daniel Caesar & Giveon', 'The Weeknd & Ariana Grande', 'Olivia Rodrigo', 'Masked Wolf', 'Polo G', 'Doja Cat & The Weeknd', 'Aaron Lewis', 'The Weeknd', 'The Kid LAROI', 'Megan Thee Stallion', 'Luke Combs', 'Giveon', 'Walker Hayes', 'DJ Khaled Featuring Lil Baby & Lil Durk', 'Chris Young + Kane Brown', 'Maroon 5 Featuring Megan Thee Stallion', 'Saweetie Featuring Doja Cat', 'Nelly & Florida Georgia Line', 'Cole Swindell', 'Glass Animals', 'Marshmello X Jonas Brothers', 'Drake Featuring Lil Baby', 'Bad Bunny', 'Jason Aldean', 'Roddy Ricch', 'Olivia Rodrigo', 'Kali Uchis', 'Dan + Shay', '24kGoldn Featuring iann dior', 'Moneybagg Yo', 'Olivia Rodrigo', 'Rauw Alejandro', 'Chase Rice Featuring Florida Georgia Line', 'Doja Cat', 'Ariana Grande', 'Machine Gun Kelly X blackbear', 'Tyler, The Creator Featuring YoungBoy Never Broke Again & Ty Dolla $ign', 'Lil Tjay Featuring 6LACK', 'Maneskin', 'DaBaby', 'Dierks Bentley', 'Brent Faiyaz Featuring Drake', 'DaBaby', 'Lainey Wilson', 'Olivia Rodrigo', 'Miranda Lambert', 'AJR', 'Migos', 'Young Thug & Gunna', 'Nio Garcia X J Balvin X Bad Bunny', 'Duncan Laurence', 'Olivia Rodrigo', 'Regard x Troye Sivan x Tate McRae', 'J. Cole, 21 Savage & Morray', 'Ryan Hurd With Maren Morris', 'Elle King & Miranda Lambert', 'Doja Cat', 'Mooski', 'Keith Urban Duet With P!nk', 'Lil Baby, Lil Durk & Travis Scott', 'Olivia Rodrigo', 'Bella Poarch', 'Sam Hunt', 'Thomas Rhett', 'Los Legendarios, Wisin & Jhay Cortez', 'Big Red Machine Featuring Taylor Swift', 'Luke Bryan', 'Justin Moore', 'Blake Shelton', 'Imagine Dragons', 'Olivia Rodrigo', 'H.E.R. Featuring Chris Brown', 'City Girls', 'G Herbo Featuring Polo G & Lil Tjay', 'Wizkid Featuring Tems', 'Tai Verdes']\n",
      "['BTS', 'Olivia Rodrigo', 'Dua Lipa Featuring DaBaby', 'Doja Cat Featuring SZA', 'Lil Nas X', 'Ed Sheeran', 'Silk Sonic (Bruno Mars & Anderson .Paak)', 'Justin Bieber Featuring Daniel Caesar & Giveon', 'The Weeknd & Ariana Grande', 'Olivia Rodrigo', 'Masked Wolf', 'Polo G', 'Doja Cat & The Weeknd', 'Aaron Lewis', 'The Weeknd', 'The Kid LAROI', 'Megan Thee Stallion', 'Luke Combs', 'Giveon', 'Walker Hayes', 'DJ Khaled Featuring Lil Baby & Lil Durk', 'Chris Young + Kane Brown', 'Maroon 5 Featuring Megan Thee Stallion', 'Saweetie Featuring Doja Cat', 'Nelly & Florida Georgia Line', 'Cole Swindell', 'Glass Animals', 'Marshmello X Jonas Brothers', 'Drake Featuring Lil Baby', 'Bad Bunny', 'Jason Aldean', 'Roddy Ricch', 'Olivia Rodrigo', 'Kali Uchis', 'Dan + Shay', '24kGoldn Featuring iann dior', 'Moneybagg Yo', 'Olivia Rodrigo', 'Rauw Alejandro', 'Chase Rice Featuring Florida Georgia Line', 'Doja Cat', 'Ariana Grande', 'Machine Gun Kelly X blackbear', 'Tyler, The Creator Featuring YoungBoy Never Broke Again & Ty Dolla $ign', 'Lil Tjay Featuring 6LACK', 'Maneskin', 'DaBaby', 'Dierks Bentley', 'Brent Faiyaz Featuring Drake', 'DaBaby', 'Lainey Wilson', 'Olivia Rodrigo', 'Miranda Lambert', 'AJR', 'Migos', 'Young Thug & Gunna', 'Nio Garcia X J Balvin X Bad Bunny', 'Duncan Laurence', 'Olivia Rodrigo', 'Regard x Troye Sivan x Tate McRae', 'J. Cole, 21 Savage & Morray', 'Ryan Hurd With Maren Morris', 'Elle King & Miranda Lambert', 'Doja Cat', 'Mooski', 'Keith Urban Duet With P!nk', 'Lil Baby, Lil Durk & Travis Scott', 'Olivia Rodrigo', 'Bella Poarch', 'Sam Hunt', 'Thomas Rhett', 'Los Legendarios, Wisin & Jhay Cortez', 'Big Red Machine Featuring Taylor Swift', 'Luke Bryan', 'Justin Moore', 'Blake Shelton', 'Imagine Dragons', 'Olivia Rodrigo', 'H.E.R. Featuring Chris Brown', 'City Girls', 'G Herbo Featuring Polo G & Lil Tjay', 'Wizkid Featuring Tems', 'Tai Verdes', '42 Dugg & Roddy Ricch']\n",
      "['BTS', 'Olivia Rodrigo', 'Dua Lipa Featuring DaBaby', 'Doja Cat Featuring SZA', 'Lil Nas X', 'Ed Sheeran', 'Silk Sonic (Bruno Mars & Anderson .Paak)', 'Justin Bieber Featuring Daniel Caesar & Giveon', 'The Weeknd & Ariana Grande', 'Olivia Rodrigo', 'Masked Wolf', 'Polo G', 'Doja Cat & The Weeknd', 'Aaron Lewis', 'The Weeknd', 'The Kid LAROI', 'Megan Thee Stallion', 'Luke Combs', 'Giveon', 'Walker Hayes', 'DJ Khaled Featuring Lil Baby & Lil Durk', 'Chris Young + Kane Brown', 'Maroon 5 Featuring Megan Thee Stallion', 'Saweetie Featuring Doja Cat', 'Nelly & Florida Georgia Line', 'Cole Swindell', 'Glass Animals', 'Marshmello X Jonas Brothers', 'Drake Featuring Lil Baby', 'Bad Bunny', 'Jason Aldean', 'Roddy Ricch', 'Olivia Rodrigo', 'Kali Uchis', 'Dan + Shay', '24kGoldn Featuring iann dior', 'Moneybagg Yo', 'Olivia Rodrigo', 'Rauw Alejandro', 'Chase Rice Featuring Florida Georgia Line', 'Doja Cat', 'Ariana Grande', 'Machine Gun Kelly X blackbear', 'Tyler, The Creator Featuring YoungBoy Never Broke Again & Ty Dolla $ign', 'Lil Tjay Featuring 6LACK', 'Maneskin', 'DaBaby', 'Dierks Bentley', 'Brent Faiyaz Featuring Drake', 'DaBaby', 'Lainey Wilson', 'Olivia Rodrigo', 'Miranda Lambert', 'AJR', 'Migos', 'Young Thug & Gunna', 'Nio Garcia X J Balvin X Bad Bunny', 'Duncan Laurence', 'Olivia Rodrigo', 'Regard x Troye Sivan x Tate McRae', 'J. Cole, 21 Savage & Morray', 'Ryan Hurd With Maren Morris', 'Elle King & Miranda Lambert', 'Doja Cat', 'Mooski', 'Keith Urban Duet With P!nk', 'Lil Baby, Lil Durk & Travis Scott', 'Olivia Rodrigo', 'Bella Poarch', 'Sam Hunt', 'Thomas Rhett', 'Los Legendarios, Wisin & Jhay Cortez', 'Big Red Machine Featuring Taylor Swift', 'Luke Bryan', 'Justin Moore', 'Blake Shelton', 'Imagine Dragons', 'Olivia Rodrigo', 'H.E.R. Featuring Chris Brown', 'City Girls', 'G Herbo Featuring Polo G & Lil Tjay', 'Wizkid Featuring Tems', 'Tai Verdes', '42 Dugg & Roddy Ricch', 'Rod Wave']\n",
      "['BTS', 'Olivia Rodrigo', 'Dua Lipa Featuring DaBaby', 'Doja Cat Featuring SZA', 'Lil Nas X', 'Ed Sheeran', 'Silk Sonic (Bruno Mars & Anderson .Paak)', 'Justin Bieber Featuring Daniel Caesar & Giveon', 'The Weeknd & Ariana Grande', 'Olivia Rodrigo', 'Masked Wolf', 'Polo G', 'Doja Cat & The Weeknd', 'Aaron Lewis', 'The Weeknd', 'The Kid LAROI', 'Megan Thee Stallion', 'Luke Combs', 'Giveon', 'Walker Hayes', 'DJ Khaled Featuring Lil Baby & Lil Durk', 'Chris Young + Kane Brown', 'Maroon 5 Featuring Megan Thee Stallion', 'Saweetie Featuring Doja Cat', 'Nelly & Florida Georgia Line', 'Cole Swindell', 'Glass Animals', 'Marshmello X Jonas Brothers', 'Drake Featuring Lil Baby', 'Bad Bunny', 'Jason Aldean', 'Roddy Ricch', 'Olivia Rodrigo', 'Kali Uchis', 'Dan + Shay', '24kGoldn Featuring iann dior', 'Moneybagg Yo', 'Olivia Rodrigo', 'Rauw Alejandro', 'Chase Rice Featuring Florida Georgia Line', 'Doja Cat', 'Ariana Grande', 'Machine Gun Kelly X blackbear', 'Tyler, The Creator Featuring YoungBoy Never Broke Again & Ty Dolla $ign', 'Lil Tjay Featuring 6LACK', 'Maneskin', 'DaBaby', 'Dierks Bentley', 'Brent Faiyaz Featuring Drake', 'DaBaby', 'Lainey Wilson', 'Olivia Rodrigo', 'Miranda Lambert', 'AJR', 'Migos', 'Young Thug & Gunna', 'Nio Garcia X J Balvin X Bad Bunny', 'Duncan Laurence', 'Olivia Rodrigo', 'Regard x Troye Sivan x Tate McRae', 'J. Cole, 21 Savage & Morray', 'Ryan Hurd With Maren Morris', 'Elle King & Miranda Lambert', 'Doja Cat', 'Mooski', 'Keith Urban Duet With P!nk', 'Lil Baby, Lil Durk & Travis Scott', 'Olivia Rodrigo', 'Bella Poarch', 'Sam Hunt', 'Thomas Rhett', 'Los Legendarios, Wisin & Jhay Cortez', 'Big Red Machine Featuring Taylor Swift', 'Luke Bryan', 'Justin Moore', 'Blake Shelton', 'Imagine Dragons', 'Olivia Rodrigo', 'H.E.R. Featuring Chris Brown', 'City Girls', 'G Herbo Featuring Polo G & Lil Tjay', 'Wizkid Featuring Tems', 'Tai Verdes', '42 Dugg & Roddy Ricch', 'Rod Wave', 'Jake Owen']\n",
      "['BTS', 'Olivia Rodrigo', 'Dua Lipa Featuring DaBaby', 'Doja Cat Featuring SZA', 'Lil Nas X', 'Ed Sheeran', 'Silk Sonic (Bruno Mars & Anderson .Paak)', 'Justin Bieber Featuring Daniel Caesar & Giveon', 'The Weeknd & Ariana Grande', 'Olivia Rodrigo', 'Masked Wolf', 'Polo G', 'Doja Cat & The Weeknd', 'Aaron Lewis', 'The Weeknd', 'The Kid LAROI', 'Megan Thee Stallion', 'Luke Combs', 'Giveon', 'Walker Hayes', 'DJ Khaled Featuring Lil Baby & Lil Durk', 'Chris Young + Kane Brown', 'Maroon 5 Featuring Megan Thee Stallion', 'Saweetie Featuring Doja Cat', 'Nelly & Florida Georgia Line', 'Cole Swindell', 'Glass Animals', 'Marshmello X Jonas Brothers', 'Drake Featuring Lil Baby', 'Bad Bunny', 'Jason Aldean', 'Roddy Ricch', 'Olivia Rodrigo', 'Kali Uchis', 'Dan + Shay', '24kGoldn Featuring iann dior', 'Moneybagg Yo', 'Olivia Rodrigo', 'Rauw Alejandro', 'Chase Rice Featuring Florida Georgia Line', 'Doja Cat', 'Ariana Grande', 'Machine Gun Kelly X blackbear', 'Tyler, The Creator Featuring YoungBoy Never Broke Again & Ty Dolla $ign', 'Lil Tjay Featuring 6LACK', 'Maneskin', 'DaBaby', 'Dierks Bentley', 'Brent Faiyaz Featuring Drake', 'DaBaby', 'Lainey Wilson', 'Olivia Rodrigo', 'Miranda Lambert', 'AJR', 'Migos', 'Young Thug & Gunna', 'Nio Garcia X J Balvin X Bad Bunny', 'Duncan Laurence', 'Olivia Rodrigo', 'Regard x Troye Sivan x Tate McRae', 'J. Cole, 21 Savage & Morray', 'Ryan Hurd With Maren Morris', 'Elle King & Miranda Lambert', 'Doja Cat', 'Mooski', 'Keith Urban Duet With P!nk', 'Lil Baby, Lil Durk & Travis Scott', 'Olivia Rodrigo', 'Bella Poarch', 'Sam Hunt', 'Thomas Rhett', 'Los Legendarios, Wisin & Jhay Cortez', 'Big Red Machine Featuring Taylor Swift', 'Luke Bryan', 'Justin Moore', 'Blake Shelton', 'Imagine Dragons', 'Olivia Rodrigo', 'H.E.R. Featuring Chris Brown', 'City Girls', 'G Herbo Featuring Polo G & Lil Tjay', 'Wizkid Featuring Tems', 'Tai Verdes', '42 Dugg & Roddy Ricch', 'Rod Wave', 'Jake Owen', 'Migos Featuring Drake']\n",
      "['BTS', 'Olivia Rodrigo', 'Dua Lipa Featuring DaBaby', 'Doja Cat Featuring SZA', 'Lil Nas X', 'Ed Sheeran', 'Silk Sonic (Bruno Mars & Anderson .Paak)', 'Justin Bieber Featuring Daniel Caesar & Giveon', 'The Weeknd & Ariana Grande', 'Olivia Rodrigo', 'Masked Wolf', 'Polo G', 'Doja Cat & The Weeknd', 'Aaron Lewis', 'The Weeknd', 'The Kid LAROI', 'Megan Thee Stallion', 'Luke Combs', 'Giveon', 'Walker Hayes', 'DJ Khaled Featuring Lil Baby & Lil Durk', 'Chris Young + Kane Brown', 'Maroon 5 Featuring Megan Thee Stallion', 'Saweetie Featuring Doja Cat', 'Nelly & Florida Georgia Line', 'Cole Swindell', 'Glass Animals', 'Marshmello X Jonas Brothers', 'Drake Featuring Lil Baby', 'Bad Bunny', 'Jason Aldean', 'Roddy Ricch', 'Olivia Rodrigo', 'Kali Uchis', 'Dan + Shay', '24kGoldn Featuring iann dior', 'Moneybagg Yo', 'Olivia Rodrigo', 'Rauw Alejandro', 'Chase Rice Featuring Florida Georgia Line', 'Doja Cat', 'Ariana Grande', 'Machine Gun Kelly X blackbear', 'Tyler, The Creator Featuring YoungBoy Never Broke Again & Ty Dolla $ign', 'Lil Tjay Featuring 6LACK', 'Maneskin', 'DaBaby', 'Dierks Bentley', 'Brent Faiyaz Featuring Drake', 'DaBaby', 'Lainey Wilson', 'Olivia Rodrigo', 'Miranda Lambert', 'AJR', 'Migos', 'Young Thug & Gunna', 'Nio Garcia X J Balvin X Bad Bunny', 'Duncan Laurence', 'Olivia Rodrigo', 'Regard x Troye Sivan x Tate McRae', 'J. Cole, 21 Savage & Morray', 'Ryan Hurd With Maren Morris', 'Elle King & Miranda Lambert', 'Doja Cat', 'Mooski', 'Keith Urban Duet With P!nk', 'Lil Baby, Lil Durk & Travis Scott', 'Olivia Rodrigo', 'Bella Poarch', 'Sam Hunt', 'Thomas Rhett', 'Los Legendarios, Wisin & Jhay Cortez', 'Big Red Machine Featuring Taylor Swift', 'Luke Bryan', 'Justin Moore', 'Blake Shelton', 'Imagine Dragons', 'Olivia Rodrigo', 'H.E.R. Featuring Chris Brown', 'City Girls', 'G Herbo Featuring Polo G & Lil Tjay', 'Wizkid Featuring Tems', 'Tai Verdes', '42 Dugg & Roddy Ricch', 'Rod Wave', 'Jake Owen', 'Migos Featuring Drake', 'Elvie Shane']\n",
      "['BTS', 'Olivia Rodrigo', 'Dua Lipa Featuring DaBaby', 'Doja Cat Featuring SZA', 'Lil Nas X', 'Ed Sheeran', 'Silk Sonic (Bruno Mars & Anderson .Paak)', 'Justin Bieber Featuring Daniel Caesar & Giveon', 'The Weeknd & Ariana Grande', 'Olivia Rodrigo', 'Masked Wolf', 'Polo G', 'Doja Cat & The Weeknd', 'Aaron Lewis', 'The Weeknd', 'The Kid LAROI', 'Megan Thee Stallion', 'Luke Combs', 'Giveon', 'Walker Hayes', 'DJ Khaled Featuring Lil Baby & Lil Durk', 'Chris Young + Kane Brown', 'Maroon 5 Featuring Megan Thee Stallion', 'Saweetie Featuring Doja Cat', 'Nelly & Florida Georgia Line', 'Cole Swindell', 'Glass Animals', 'Marshmello X Jonas Brothers', 'Drake Featuring Lil Baby', 'Bad Bunny', 'Jason Aldean', 'Roddy Ricch', 'Olivia Rodrigo', 'Kali Uchis', 'Dan + Shay', '24kGoldn Featuring iann dior', 'Moneybagg Yo', 'Olivia Rodrigo', 'Rauw Alejandro', 'Chase Rice Featuring Florida Georgia Line', 'Doja Cat', 'Ariana Grande', 'Machine Gun Kelly X blackbear', 'Tyler, The Creator Featuring YoungBoy Never Broke Again & Ty Dolla $ign', 'Lil Tjay Featuring 6LACK', 'Maneskin', 'DaBaby', 'Dierks Bentley', 'Brent Faiyaz Featuring Drake', 'DaBaby', 'Lainey Wilson', 'Olivia Rodrigo', 'Miranda Lambert', 'AJR', 'Migos', 'Young Thug & Gunna', 'Nio Garcia X J Balvin X Bad Bunny', 'Duncan Laurence', 'Olivia Rodrigo', 'Regard x Troye Sivan x Tate McRae', 'J. Cole, 21 Savage & Morray', 'Ryan Hurd With Maren Morris', 'Elle King & Miranda Lambert', 'Doja Cat', 'Mooski', 'Keith Urban Duet With P!nk', 'Lil Baby, Lil Durk & Travis Scott', 'Olivia Rodrigo', 'Bella Poarch', 'Sam Hunt', 'Thomas Rhett', 'Los Legendarios, Wisin & Jhay Cortez', 'Big Red Machine Featuring Taylor Swift', 'Luke Bryan', 'Justin Moore', 'Blake Shelton', 'Imagine Dragons', 'Olivia Rodrigo', 'H.E.R. Featuring Chris Brown', 'City Girls', 'G Herbo Featuring Polo G & Lil Tjay', 'Wizkid Featuring Tems', 'Tai Verdes', '42 Dugg & Roddy Ricch', 'Rod Wave', 'Jake Owen', 'Migos Featuring Drake', 'Elvie Shane', 'Willow Featuring Travis Barker']\n",
      "['BTS', 'Olivia Rodrigo', 'Dua Lipa Featuring DaBaby', 'Doja Cat Featuring SZA', 'Lil Nas X', 'Ed Sheeran', 'Silk Sonic (Bruno Mars & Anderson .Paak)', 'Justin Bieber Featuring Daniel Caesar & Giveon', 'The Weeknd & Ariana Grande', 'Olivia Rodrigo', 'Masked Wolf', 'Polo G', 'Doja Cat & The Weeknd', 'Aaron Lewis', 'The Weeknd', 'The Kid LAROI', 'Megan Thee Stallion', 'Luke Combs', 'Giveon', 'Walker Hayes', 'DJ Khaled Featuring Lil Baby & Lil Durk', 'Chris Young + Kane Brown', 'Maroon 5 Featuring Megan Thee Stallion', 'Saweetie Featuring Doja Cat', 'Nelly & Florida Georgia Line', 'Cole Swindell', 'Glass Animals', 'Marshmello X Jonas Brothers', 'Drake Featuring Lil Baby', 'Bad Bunny', 'Jason Aldean', 'Roddy Ricch', 'Olivia Rodrigo', 'Kali Uchis', 'Dan + Shay', '24kGoldn Featuring iann dior', 'Moneybagg Yo', 'Olivia Rodrigo', 'Rauw Alejandro', 'Chase Rice Featuring Florida Georgia Line', 'Doja Cat', 'Ariana Grande', 'Machine Gun Kelly X blackbear', 'Tyler, The Creator Featuring YoungBoy Never Broke Again & Ty Dolla $ign', 'Lil Tjay Featuring 6LACK', 'Maneskin', 'DaBaby', 'Dierks Bentley', 'Brent Faiyaz Featuring Drake', 'DaBaby', 'Lainey Wilson', 'Olivia Rodrigo', 'Miranda Lambert', 'AJR', 'Migos', 'Young Thug & Gunna', 'Nio Garcia X J Balvin X Bad Bunny', 'Duncan Laurence', 'Olivia Rodrigo', 'Regard x Troye Sivan x Tate McRae', 'J. Cole, 21 Savage & Morray', 'Ryan Hurd With Maren Morris', 'Elle King & Miranda Lambert', 'Doja Cat', 'Mooski', 'Keith Urban Duet With P!nk', 'Lil Baby, Lil Durk & Travis Scott', 'Olivia Rodrigo', 'Bella Poarch', 'Sam Hunt', 'Thomas Rhett', 'Los Legendarios, Wisin & Jhay Cortez', 'Big Red Machine Featuring Taylor Swift', 'Luke Bryan', 'Justin Moore', 'Blake Shelton', 'Imagine Dragons', 'Olivia Rodrigo', 'H.E.R. Featuring Chris Brown', 'City Girls', 'G Herbo Featuring Polo G & Lil Tjay', 'Wizkid Featuring Tems', 'Tai Verdes', '42 Dugg & Roddy Ricch', 'Rod Wave', 'Jake Owen', 'Migos Featuring Drake', 'Elvie Shane', 'Willow Featuring Travis Barker', 'Chris Stapleton']\n",
      "['BTS', 'Olivia Rodrigo', 'Dua Lipa Featuring DaBaby', 'Doja Cat Featuring SZA', 'Lil Nas X', 'Ed Sheeran', 'Silk Sonic (Bruno Mars & Anderson .Paak)', 'Justin Bieber Featuring Daniel Caesar & Giveon', 'The Weeknd & Ariana Grande', 'Olivia Rodrigo', 'Masked Wolf', 'Polo G', 'Doja Cat & The Weeknd', 'Aaron Lewis', 'The Weeknd', 'The Kid LAROI', 'Megan Thee Stallion', 'Luke Combs', 'Giveon', 'Walker Hayes', 'DJ Khaled Featuring Lil Baby & Lil Durk', 'Chris Young + Kane Brown', 'Maroon 5 Featuring Megan Thee Stallion', 'Saweetie Featuring Doja Cat', 'Nelly & Florida Georgia Line', 'Cole Swindell', 'Glass Animals', 'Marshmello X Jonas Brothers', 'Drake Featuring Lil Baby', 'Bad Bunny', 'Jason Aldean', 'Roddy Ricch', 'Olivia Rodrigo', 'Kali Uchis', 'Dan + Shay', '24kGoldn Featuring iann dior', 'Moneybagg Yo', 'Olivia Rodrigo', 'Rauw Alejandro', 'Chase Rice Featuring Florida Georgia Line', 'Doja Cat', 'Ariana Grande', 'Machine Gun Kelly X blackbear', 'Tyler, The Creator Featuring YoungBoy Never Broke Again & Ty Dolla $ign', 'Lil Tjay Featuring 6LACK', 'Maneskin', 'DaBaby', 'Dierks Bentley', 'Brent Faiyaz Featuring Drake', 'DaBaby', 'Lainey Wilson', 'Olivia Rodrigo', 'Miranda Lambert', 'AJR', 'Migos', 'Young Thug & Gunna', 'Nio Garcia X J Balvin X Bad Bunny', 'Duncan Laurence', 'Olivia Rodrigo', 'Regard x Troye Sivan x Tate McRae', 'J. Cole, 21 Savage & Morray', 'Ryan Hurd With Maren Morris', 'Elle King & Miranda Lambert', 'Doja Cat', 'Mooski', 'Keith Urban Duet With P!nk', 'Lil Baby, Lil Durk & Travis Scott', 'Olivia Rodrigo', 'Bella Poarch', 'Sam Hunt', 'Thomas Rhett', 'Los Legendarios, Wisin & Jhay Cortez', 'Big Red Machine Featuring Taylor Swift', 'Luke Bryan', 'Justin Moore', 'Blake Shelton', 'Imagine Dragons', 'Olivia Rodrigo', 'H.E.R. Featuring Chris Brown', 'City Girls', 'G Herbo Featuring Polo G & Lil Tjay', 'Wizkid Featuring Tems', 'Tai Verdes', '42 Dugg & Roddy Ricch', 'Rod Wave', 'Jake Owen', 'Migos Featuring Drake', 'Elvie Shane', 'Willow Featuring Travis Barker', 'Chris Stapleton', 'Old Dominion']\n",
      "['BTS', 'Olivia Rodrigo', 'Dua Lipa Featuring DaBaby', 'Doja Cat Featuring SZA', 'Lil Nas X', 'Ed Sheeran', 'Silk Sonic (Bruno Mars & Anderson .Paak)', 'Justin Bieber Featuring Daniel Caesar & Giveon', 'The Weeknd & Ariana Grande', 'Olivia Rodrigo', 'Masked Wolf', 'Polo G', 'Doja Cat & The Weeknd', 'Aaron Lewis', 'The Weeknd', 'The Kid LAROI', 'Megan Thee Stallion', 'Luke Combs', 'Giveon', 'Walker Hayes', 'DJ Khaled Featuring Lil Baby & Lil Durk', 'Chris Young + Kane Brown', 'Maroon 5 Featuring Megan Thee Stallion', 'Saweetie Featuring Doja Cat', 'Nelly & Florida Georgia Line', 'Cole Swindell', 'Glass Animals', 'Marshmello X Jonas Brothers', 'Drake Featuring Lil Baby', 'Bad Bunny', 'Jason Aldean', 'Roddy Ricch', 'Olivia Rodrigo', 'Kali Uchis', 'Dan + Shay', '24kGoldn Featuring iann dior', 'Moneybagg Yo', 'Olivia Rodrigo', 'Rauw Alejandro', 'Chase Rice Featuring Florida Georgia Line', 'Doja Cat', 'Ariana Grande', 'Machine Gun Kelly X blackbear', 'Tyler, The Creator Featuring YoungBoy Never Broke Again & Ty Dolla $ign', 'Lil Tjay Featuring 6LACK', 'Maneskin', 'DaBaby', 'Dierks Bentley', 'Brent Faiyaz Featuring Drake', 'DaBaby', 'Lainey Wilson', 'Olivia Rodrigo', 'Miranda Lambert', 'AJR', 'Migos', 'Young Thug & Gunna', 'Nio Garcia X J Balvin X Bad Bunny', 'Duncan Laurence', 'Olivia Rodrigo', 'Regard x Troye Sivan x Tate McRae', 'J. Cole, 21 Savage & Morray', 'Ryan Hurd With Maren Morris', 'Elle King & Miranda Lambert', 'Doja Cat', 'Mooski', 'Keith Urban Duet With P!nk', 'Lil Baby, Lil Durk & Travis Scott', 'Olivia Rodrigo', 'Bella Poarch', 'Sam Hunt', 'Thomas Rhett', 'Los Legendarios, Wisin & Jhay Cortez', 'Big Red Machine Featuring Taylor Swift', 'Luke Bryan', 'Justin Moore', 'Blake Shelton', 'Imagine Dragons', 'Olivia Rodrigo', 'H.E.R. Featuring Chris Brown', 'City Girls', 'G Herbo Featuring Polo G & Lil Tjay', 'Wizkid Featuring Tems', 'Tai Verdes', '42 Dugg & Roddy Ricch', 'Rod Wave', 'Jake Owen', 'Migos Featuring Drake', 'Elvie Shane', 'Willow Featuring Travis Barker', 'Chris Stapleton', 'Old Dominion', 'MO3 X OG Bobby Billions']\n",
      "['BTS', 'Olivia Rodrigo', 'Dua Lipa Featuring DaBaby', 'Doja Cat Featuring SZA', 'Lil Nas X', 'Ed Sheeran', 'Silk Sonic (Bruno Mars & Anderson .Paak)', 'Justin Bieber Featuring Daniel Caesar & Giveon', 'The Weeknd & Ariana Grande', 'Olivia Rodrigo', 'Masked Wolf', 'Polo G', 'Doja Cat & The Weeknd', 'Aaron Lewis', 'The Weeknd', 'The Kid LAROI', 'Megan Thee Stallion', 'Luke Combs', 'Giveon', 'Walker Hayes', 'DJ Khaled Featuring Lil Baby & Lil Durk', 'Chris Young + Kane Brown', 'Maroon 5 Featuring Megan Thee Stallion', 'Saweetie Featuring Doja Cat', 'Nelly & Florida Georgia Line', 'Cole Swindell', 'Glass Animals', 'Marshmello X Jonas Brothers', 'Drake Featuring Lil Baby', 'Bad Bunny', 'Jason Aldean', 'Roddy Ricch', 'Olivia Rodrigo', 'Kali Uchis', 'Dan + Shay', '24kGoldn Featuring iann dior', 'Moneybagg Yo', 'Olivia Rodrigo', 'Rauw Alejandro', 'Chase Rice Featuring Florida Georgia Line', 'Doja Cat', 'Ariana Grande', 'Machine Gun Kelly X blackbear', 'Tyler, The Creator Featuring YoungBoy Never Broke Again & Ty Dolla $ign', 'Lil Tjay Featuring 6LACK', 'Maneskin', 'DaBaby', 'Dierks Bentley', 'Brent Faiyaz Featuring Drake', 'DaBaby', 'Lainey Wilson', 'Olivia Rodrigo', 'Miranda Lambert', 'AJR', 'Migos', 'Young Thug & Gunna', 'Nio Garcia X J Balvin X Bad Bunny', 'Duncan Laurence', 'Olivia Rodrigo', 'Regard x Troye Sivan x Tate McRae', 'J. Cole, 21 Savage & Morray', 'Ryan Hurd With Maren Morris', 'Elle King & Miranda Lambert', 'Doja Cat', 'Mooski', 'Keith Urban Duet With P!nk', 'Lil Baby, Lil Durk & Travis Scott', 'Olivia Rodrigo', 'Bella Poarch', 'Sam Hunt', 'Thomas Rhett', 'Los Legendarios, Wisin & Jhay Cortez', 'Big Red Machine Featuring Taylor Swift', 'Luke Bryan', 'Justin Moore', 'Blake Shelton', 'Imagine Dragons', 'Olivia Rodrigo', 'H.E.R. Featuring Chris Brown', 'City Girls', 'G Herbo Featuring Polo G & Lil Tjay', 'Wizkid Featuring Tems', 'Tai Verdes', '42 Dugg & Roddy Ricch', 'Rod Wave', 'Jake Owen', 'Migos Featuring Drake', 'Elvie Shane', 'Willow Featuring Travis Barker', 'Chris Stapleton', 'Old Dominion', 'MO3 X OG Bobby Billions', 'Tate McRae X Khalid']\n",
      "['BTS', 'Olivia Rodrigo', 'Dua Lipa Featuring DaBaby', 'Doja Cat Featuring SZA', 'Lil Nas X', 'Ed Sheeran', 'Silk Sonic (Bruno Mars & Anderson .Paak)', 'Justin Bieber Featuring Daniel Caesar & Giveon', 'The Weeknd & Ariana Grande', 'Olivia Rodrigo', 'Masked Wolf', 'Polo G', 'Doja Cat & The Weeknd', 'Aaron Lewis', 'The Weeknd', 'The Kid LAROI', 'Megan Thee Stallion', 'Luke Combs', 'Giveon', 'Walker Hayes', 'DJ Khaled Featuring Lil Baby & Lil Durk', 'Chris Young + Kane Brown', 'Maroon 5 Featuring Megan Thee Stallion', 'Saweetie Featuring Doja Cat', 'Nelly & Florida Georgia Line', 'Cole Swindell', 'Glass Animals', 'Marshmello X Jonas Brothers', 'Drake Featuring Lil Baby', 'Bad Bunny', 'Jason Aldean', 'Roddy Ricch', 'Olivia Rodrigo', 'Kali Uchis', 'Dan + Shay', '24kGoldn Featuring iann dior', 'Moneybagg Yo', 'Olivia Rodrigo', 'Rauw Alejandro', 'Chase Rice Featuring Florida Georgia Line', 'Doja Cat', 'Ariana Grande', 'Machine Gun Kelly X blackbear', 'Tyler, The Creator Featuring YoungBoy Never Broke Again & Ty Dolla $ign', 'Lil Tjay Featuring 6LACK', 'Maneskin', 'DaBaby', 'Dierks Bentley', 'Brent Faiyaz Featuring Drake', 'DaBaby', 'Lainey Wilson', 'Olivia Rodrigo', 'Miranda Lambert', 'AJR', 'Migos', 'Young Thug & Gunna', 'Nio Garcia X J Balvin X Bad Bunny', 'Duncan Laurence', 'Olivia Rodrigo', 'Regard x Troye Sivan x Tate McRae', 'J. Cole, 21 Savage & Morray', 'Ryan Hurd With Maren Morris', 'Elle King & Miranda Lambert', 'Doja Cat', 'Mooski', 'Keith Urban Duet With P!nk', 'Lil Baby, Lil Durk & Travis Scott', 'Olivia Rodrigo', 'Bella Poarch', 'Sam Hunt', 'Thomas Rhett', 'Los Legendarios, Wisin & Jhay Cortez', 'Big Red Machine Featuring Taylor Swift', 'Luke Bryan', 'Justin Moore', 'Blake Shelton', 'Imagine Dragons', 'Olivia Rodrigo', 'H.E.R. Featuring Chris Brown', 'City Girls', 'G Herbo Featuring Polo G & Lil Tjay', 'Wizkid Featuring Tems', 'Tai Verdes', '42 Dugg & Roddy Ricch', 'Rod Wave', 'Jake Owen', 'Migos Featuring Drake', 'Elvie Shane', 'Willow Featuring Travis Barker', 'Chris Stapleton', 'Old Dominion', 'MO3 X OG Bobby Billions', 'Tate McRae X Khalid', 'Trippie Redd & Playboi Carti']\n",
      "['BTS', 'Olivia Rodrigo', 'Dua Lipa Featuring DaBaby', 'Doja Cat Featuring SZA', 'Lil Nas X', 'Ed Sheeran', 'Silk Sonic (Bruno Mars & Anderson .Paak)', 'Justin Bieber Featuring Daniel Caesar & Giveon', 'The Weeknd & Ariana Grande', 'Olivia Rodrigo', 'Masked Wolf', 'Polo G', 'Doja Cat & The Weeknd', 'Aaron Lewis', 'The Weeknd', 'The Kid LAROI', 'Megan Thee Stallion', 'Luke Combs', 'Giveon', 'Walker Hayes', 'DJ Khaled Featuring Lil Baby & Lil Durk', 'Chris Young + Kane Brown', 'Maroon 5 Featuring Megan Thee Stallion', 'Saweetie Featuring Doja Cat', 'Nelly & Florida Georgia Line', 'Cole Swindell', 'Glass Animals', 'Marshmello X Jonas Brothers', 'Drake Featuring Lil Baby', 'Bad Bunny', 'Jason Aldean', 'Roddy Ricch', 'Olivia Rodrigo', 'Kali Uchis', 'Dan + Shay', '24kGoldn Featuring iann dior', 'Moneybagg Yo', 'Olivia Rodrigo', 'Rauw Alejandro', 'Chase Rice Featuring Florida Georgia Line', 'Doja Cat', 'Ariana Grande', 'Machine Gun Kelly X blackbear', 'Tyler, The Creator Featuring YoungBoy Never Broke Again & Ty Dolla $ign', 'Lil Tjay Featuring 6LACK', 'Maneskin', 'DaBaby', 'Dierks Bentley', 'Brent Faiyaz Featuring Drake', 'DaBaby', 'Lainey Wilson', 'Olivia Rodrigo', 'Miranda Lambert', 'AJR', 'Migos', 'Young Thug & Gunna', 'Nio Garcia X J Balvin X Bad Bunny', 'Duncan Laurence', 'Olivia Rodrigo', 'Regard x Troye Sivan x Tate McRae', 'J. Cole, 21 Savage & Morray', 'Ryan Hurd With Maren Morris', 'Elle King & Miranda Lambert', 'Doja Cat', 'Mooski', 'Keith Urban Duet With P!nk', 'Lil Baby, Lil Durk & Travis Scott', 'Olivia Rodrigo', 'Bella Poarch', 'Sam Hunt', 'Thomas Rhett', 'Los Legendarios, Wisin & Jhay Cortez', 'Big Red Machine Featuring Taylor Swift', 'Luke Bryan', 'Justin Moore', 'Blake Shelton', 'Imagine Dragons', 'Olivia Rodrigo', 'H.E.R. Featuring Chris Brown', 'City Girls', 'G Herbo Featuring Polo G & Lil Tjay', 'Wizkid Featuring Tems', 'Tai Verdes', '42 Dugg & Roddy Ricch', 'Rod Wave', 'Jake Owen', 'Migos Featuring Drake', 'Elvie Shane', 'Willow Featuring Travis Barker', 'Chris Stapleton', 'Old Dominion', 'MO3 X OG Bobby Billions', 'Tate McRae X Khalid', 'Trippie Redd & Playboi Carti', 'Jameson Rodgers Featuring Luke Combs']\n",
      "['BTS', 'Olivia Rodrigo', 'Dua Lipa Featuring DaBaby', 'Doja Cat Featuring SZA', 'Lil Nas X', 'Ed Sheeran', 'Silk Sonic (Bruno Mars & Anderson .Paak)', 'Justin Bieber Featuring Daniel Caesar & Giveon', 'The Weeknd & Ariana Grande', 'Olivia Rodrigo', 'Masked Wolf', 'Polo G', 'Doja Cat & The Weeknd', 'Aaron Lewis', 'The Weeknd', 'The Kid LAROI', 'Megan Thee Stallion', 'Luke Combs', 'Giveon', 'Walker Hayes', 'DJ Khaled Featuring Lil Baby & Lil Durk', 'Chris Young + Kane Brown', 'Maroon 5 Featuring Megan Thee Stallion', 'Saweetie Featuring Doja Cat', 'Nelly & Florida Georgia Line', 'Cole Swindell', 'Glass Animals', 'Marshmello X Jonas Brothers', 'Drake Featuring Lil Baby', 'Bad Bunny', 'Jason Aldean', 'Roddy Ricch', 'Olivia Rodrigo', 'Kali Uchis', 'Dan + Shay', '24kGoldn Featuring iann dior', 'Moneybagg Yo', 'Olivia Rodrigo', 'Rauw Alejandro', 'Chase Rice Featuring Florida Georgia Line', 'Doja Cat', 'Ariana Grande', 'Machine Gun Kelly X blackbear', 'Tyler, The Creator Featuring YoungBoy Never Broke Again & Ty Dolla $ign', 'Lil Tjay Featuring 6LACK', 'Maneskin', 'DaBaby', 'Dierks Bentley', 'Brent Faiyaz Featuring Drake', 'DaBaby', 'Lainey Wilson', 'Olivia Rodrigo', 'Miranda Lambert', 'AJR', 'Migos', 'Young Thug & Gunna', 'Nio Garcia X J Balvin X Bad Bunny', 'Duncan Laurence', 'Olivia Rodrigo', 'Regard x Troye Sivan x Tate McRae', 'J. Cole, 21 Savage & Morray', 'Ryan Hurd With Maren Morris', 'Elle King & Miranda Lambert', 'Doja Cat', 'Mooski', 'Keith Urban Duet With P!nk', 'Lil Baby, Lil Durk & Travis Scott', 'Olivia Rodrigo', 'Bella Poarch', 'Sam Hunt', 'Thomas Rhett', 'Los Legendarios, Wisin & Jhay Cortez', 'Big Red Machine Featuring Taylor Swift', 'Luke Bryan', 'Justin Moore', 'Blake Shelton', 'Imagine Dragons', 'Olivia Rodrigo', 'H.E.R. Featuring Chris Brown', 'City Girls', 'G Herbo Featuring Polo G & Lil Tjay', 'Wizkid Featuring Tems', 'Tai Verdes', '42 Dugg & Roddy Ricch', 'Rod Wave', 'Jake Owen', 'Migos Featuring Drake', 'Elvie Shane', 'Willow Featuring Travis Barker', 'Chris Stapleton', 'Old Dominion', 'MO3 X OG Bobby Billions', 'Tate McRae X Khalid', 'Trippie Redd & Playboi Carti', 'Jameson Rodgers Featuring Luke Combs', 'P!nk']\n",
      "['BTS', 'Olivia Rodrigo', 'Dua Lipa Featuring DaBaby', 'Doja Cat Featuring SZA', 'Lil Nas X', 'Ed Sheeran', 'Silk Sonic (Bruno Mars & Anderson .Paak)', 'Justin Bieber Featuring Daniel Caesar & Giveon', 'The Weeknd & Ariana Grande', 'Olivia Rodrigo', 'Masked Wolf', 'Polo G', 'Doja Cat & The Weeknd', 'Aaron Lewis', 'The Weeknd', 'The Kid LAROI', 'Megan Thee Stallion', 'Luke Combs', 'Giveon', 'Walker Hayes', 'DJ Khaled Featuring Lil Baby & Lil Durk', 'Chris Young + Kane Brown', 'Maroon 5 Featuring Megan Thee Stallion', 'Saweetie Featuring Doja Cat', 'Nelly & Florida Georgia Line', 'Cole Swindell', 'Glass Animals', 'Marshmello X Jonas Brothers', 'Drake Featuring Lil Baby', 'Bad Bunny', 'Jason Aldean', 'Roddy Ricch', 'Olivia Rodrigo', 'Kali Uchis', 'Dan + Shay', '24kGoldn Featuring iann dior', 'Moneybagg Yo', 'Olivia Rodrigo', 'Rauw Alejandro', 'Chase Rice Featuring Florida Georgia Line', 'Doja Cat', 'Ariana Grande', 'Machine Gun Kelly X blackbear', 'Tyler, The Creator Featuring YoungBoy Never Broke Again & Ty Dolla $ign', 'Lil Tjay Featuring 6LACK', 'Maneskin', 'DaBaby', 'Dierks Bentley', 'Brent Faiyaz Featuring Drake', 'DaBaby', 'Lainey Wilson', 'Olivia Rodrigo', 'Miranda Lambert', 'AJR', 'Migos', 'Young Thug & Gunna', 'Nio Garcia X J Balvin X Bad Bunny', 'Duncan Laurence', 'Olivia Rodrigo', 'Regard x Troye Sivan x Tate McRae', 'J. Cole, 21 Savage & Morray', 'Ryan Hurd With Maren Morris', 'Elle King & Miranda Lambert', 'Doja Cat', 'Mooski', 'Keith Urban Duet With P!nk', 'Lil Baby, Lil Durk & Travis Scott', 'Olivia Rodrigo', 'Bella Poarch', 'Sam Hunt', 'Thomas Rhett', 'Los Legendarios, Wisin & Jhay Cortez', 'Big Red Machine Featuring Taylor Swift', 'Luke Bryan', 'Justin Moore', 'Blake Shelton', 'Imagine Dragons', 'Olivia Rodrigo', 'H.E.R. Featuring Chris Brown', 'City Girls', 'G Herbo Featuring Polo G & Lil Tjay', 'Wizkid Featuring Tems', 'Tai Verdes', '42 Dugg & Roddy Ricch', 'Rod Wave', 'Jake Owen', 'Migos Featuring Drake', 'Elvie Shane', 'Willow Featuring Travis Barker', 'Chris Stapleton', 'Old Dominion', 'MO3 X OG Bobby Billions', 'Tate McRae X Khalid', 'Trippie Redd & Playboi Carti', 'Jameson Rodgers Featuring Luke Combs', 'P!nk', 'Drake']\n",
      "['BTS', 'Olivia Rodrigo', 'Dua Lipa Featuring DaBaby', 'Doja Cat Featuring SZA', 'Lil Nas X', 'Ed Sheeran', 'Silk Sonic (Bruno Mars & Anderson .Paak)', 'Justin Bieber Featuring Daniel Caesar & Giveon', 'The Weeknd & Ariana Grande', 'Olivia Rodrigo', 'Masked Wolf', 'Polo G', 'Doja Cat & The Weeknd', 'Aaron Lewis', 'The Weeknd', 'The Kid LAROI', 'Megan Thee Stallion', 'Luke Combs', 'Giveon', 'Walker Hayes', 'DJ Khaled Featuring Lil Baby & Lil Durk', 'Chris Young + Kane Brown', 'Maroon 5 Featuring Megan Thee Stallion', 'Saweetie Featuring Doja Cat', 'Nelly & Florida Georgia Line', 'Cole Swindell', 'Glass Animals', 'Marshmello X Jonas Brothers', 'Drake Featuring Lil Baby', 'Bad Bunny', 'Jason Aldean', 'Roddy Ricch', 'Olivia Rodrigo', 'Kali Uchis', 'Dan + Shay', '24kGoldn Featuring iann dior', 'Moneybagg Yo', 'Olivia Rodrigo', 'Rauw Alejandro', 'Chase Rice Featuring Florida Georgia Line', 'Doja Cat', 'Ariana Grande', 'Machine Gun Kelly X blackbear', 'Tyler, The Creator Featuring YoungBoy Never Broke Again & Ty Dolla $ign', 'Lil Tjay Featuring 6LACK', 'Maneskin', 'DaBaby', 'Dierks Bentley', 'Brent Faiyaz Featuring Drake', 'DaBaby', 'Lainey Wilson', 'Olivia Rodrigo', 'Miranda Lambert', 'AJR', 'Migos', 'Young Thug & Gunna', 'Nio Garcia X J Balvin X Bad Bunny', 'Duncan Laurence', 'Olivia Rodrigo', 'Regard x Troye Sivan x Tate McRae', 'J. Cole, 21 Savage & Morray', 'Ryan Hurd With Maren Morris', 'Elle King & Miranda Lambert', 'Doja Cat', 'Mooski', 'Keith Urban Duet With P!nk', 'Lil Baby, Lil Durk & Travis Scott', 'Olivia Rodrigo', 'Bella Poarch', 'Sam Hunt', 'Thomas Rhett', 'Los Legendarios, Wisin & Jhay Cortez', 'Big Red Machine Featuring Taylor Swift', 'Luke Bryan', 'Justin Moore', 'Blake Shelton', 'Imagine Dragons', 'Olivia Rodrigo', 'H.E.R. Featuring Chris Brown', 'City Girls', 'G Herbo Featuring Polo G & Lil Tjay', 'Wizkid Featuring Tems', 'Tai Verdes', '42 Dugg & Roddy Ricch', 'Rod Wave', 'Jake Owen', 'Migos Featuring Drake', 'Elvie Shane', 'Willow Featuring Travis Barker', 'Chris Stapleton', 'Old Dominion', 'MO3 X OG Bobby Billions', 'Tate McRae X Khalid', 'Trippie Redd & Playboi Carti', 'Jameson Rodgers Featuring Luke Combs', 'P!nk', 'Drake', 'Olivia Rodrigo']\n",
      "['BTS', 'Olivia Rodrigo', 'Dua Lipa Featuring DaBaby', 'Doja Cat Featuring SZA', 'Lil Nas X', 'Ed Sheeran', 'Silk Sonic (Bruno Mars & Anderson .Paak)', 'Justin Bieber Featuring Daniel Caesar & Giveon', 'The Weeknd & Ariana Grande', 'Olivia Rodrigo', 'Masked Wolf', 'Polo G', 'Doja Cat & The Weeknd', 'Aaron Lewis', 'The Weeknd', 'The Kid LAROI', 'Megan Thee Stallion', 'Luke Combs', 'Giveon', 'Walker Hayes', 'DJ Khaled Featuring Lil Baby & Lil Durk', 'Chris Young + Kane Brown', 'Maroon 5 Featuring Megan Thee Stallion', 'Saweetie Featuring Doja Cat', 'Nelly & Florida Georgia Line', 'Cole Swindell', 'Glass Animals', 'Marshmello X Jonas Brothers', 'Drake Featuring Lil Baby', 'Bad Bunny', 'Jason Aldean', 'Roddy Ricch', 'Olivia Rodrigo', 'Kali Uchis', 'Dan + Shay', '24kGoldn Featuring iann dior', 'Moneybagg Yo', 'Olivia Rodrigo', 'Rauw Alejandro', 'Chase Rice Featuring Florida Georgia Line', 'Doja Cat', 'Ariana Grande', 'Machine Gun Kelly X blackbear', 'Tyler, The Creator Featuring YoungBoy Never Broke Again & Ty Dolla $ign', 'Lil Tjay Featuring 6LACK', 'Maneskin', 'DaBaby', 'Dierks Bentley', 'Brent Faiyaz Featuring Drake', 'DaBaby', 'Lainey Wilson', 'Olivia Rodrigo', 'Miranda Lambert', 'AJR', 'Migos', 'Young Thug & Gunna', 'Nio Garcia X J Balvin X Bad Bunny', 'Duncan Laurence', 'Olivia Rodrigo', 'Regard x Troye Sivan x Tate McRae', 'J. Cole, 21 Savage & Morray', 'Ryan Hurd With Maren Morris', 'Elle King & Miranda Lambert', 'Doja Cat', 'Mooski', 'Keith Urban Duet With P!nk', 'Lil Baby, Lil Durk & Travis Scott', 'Olivia Rodrigo', 'Bella Poarch', 'Sam Hunt', 'Thomas Rhett', 'Los Legendarios, Wisin & Jhay Cortez', 'Big Red Machine Featuring Taylor Swift', 'Luke Bryan', 'Justin Moore', 'Blake Shelton', 'Imagine Dragons', 'Olivia Rodrigo', 'H.E.R. Featuring Chris Brown', 'City Girls', 'G Herbo Featuring Polo G & Lil Tjay', 'Wizkid Featuring Tems', 'Tai Verdes', '42 Dugg & Roddy Ricch', 'Rod Wave', 'Jake Owen', 'Migos Featuring Drake', 'Elvie Shane', 'Willow Featuring Travis Barker', 'Chris Stapleton', 'Old Dominion', 'MO3 X OG Bobby Billions', 'Tate McRae X Khalid', 'Trippie Redd & Playboi Carti', 'Jameson Rodgers Featuring Luke Combs', 'P!nk', 'Drake', 'Olivia Rodrigo', 'Tyler, The Creator Featuring Lil Uzi Vert & Pharrell Williams']\n",
      "['BTS', 'Olivia Rodrigo', 'Dua Lipa Featuring DaBaby', 'Doja Cat Featuring SZA', 'Lil Nas X', 'Ed Sheeran', 'Silk Sonic (Bruno Mars & Anderson .Paak)', 'Justin Bieber Featuring Daniel Caesar & Giveon', 'The Weeknd & Ariana Grande', 'Olivia Rodrigo', 'Masked Wolf', 'Polo G', 'Doja Cat & The Weeknd', 'Aaron Lewis', 'The Weeknd', 'The Kid LAROI', 'Megan Thee Stallion', 'Luke Combs', 'Giveon', 'Walker Hayes', 'DJ Khaled Featuring Lil Baby & Lil Durk', 'Chris Young + Kane Brown', 'Maroon 5 Featuring Megan Thee Stallion', 'Saweetie Featuring Doja Cat', 'Nelly & Florida Georgia Line', 'Cole Swindell', 'Glass Animals', 'Marshmello X Jonas Brothers', 'Drake Featuring Lil Baby', 'Bad Bunny', 'Jason Aldean', 'Roddy Ricch', 'Olivia Rodrigo', 'Kali Uchis', 'Dan + Shay', '24kGoldn Featuring iann dior', 'Moneybagg Yo', 'Olivia Rodrigo', 'Rauw Alejandro', 'Chase Rice Featuring Florida Georgia Line', 'Doja Cat', 'Ariana Grande', 'Machine Gun Kelly X blackbear', 'Tyler, The Creator Featuring YoungBoy Never Broke Again & Ty Dolla $ign', 'Lil Tjay Featuring 6LACK', 'Maneskin', 'DaBaby', 'Dierks Bentley', 'Brent Faiyaz Featuring Drake', 'DaBaby', 'Lainey Wilson', 'Olivia Rodrigo', 'Miranda Lambert', 'AJR', 'Migos', 'Young Thug & Gunna', 'Nio Garcia X J Balvin X Bad Bunny', 'Duncan Laurence', 'Olivia Rodrigo', 'Regard x Troye Sivan x Tate McRae', 'J. Cole, 21 Savage & Morray', 'Ryan Hurd With Maren Morris', 'Elle King & Miranda Lambert', 'Doja Cat', 'Mooski', 'Keith Urban Duet With P!nk', 'Lil Baby, Lil Durk & Travis Scott', 'Olivia Rodrigo', 'Bella Poarch', 'Sam Hunt', 'Thomas Rhett', 'Los Legendarios, Wisin & Jhay Cortez', 'Big Red Machine Featuring Taylor Swift', 'Luke Bryan', 'Justin Moore', 'Blake Shelton', 'Imagine Dragons', 'Olivia Rodrigo', 'H.E.R. Featuring Chris Brown', 'City Girls', 'G Herbo Featuring Polo G & Lil Tjay', 'Wizkid Featuring Tems', 'Tai Verdes', '42 Dugg & Roddy Ricch', 'Rod Wave', 'Jake Owen', 'Migos Featuring Drake', 'Elvie Shane', 'Willow Featuring Travis Barker', 'Chris Stapleton', 'Old Dominion', 'MO3 X OG Bobby Billions', 'Tate McRae X Khalid', 'Trippie Redd & Playboi Carti', 'Jameson Rodgers Featuring Luke Combs', 'P!nk', 'Drake', 'Olivia Rodrigo', 'Tyler, The Creator Featuring Lil Uzi Vert & Pharrell Williams', 'Cochise & $NOT']\n"
     ]
    }
   ],
   "source": [
    "A=[]\n",
    "T=[]\n",
    "for a in artist:\n",
    "    A.append(a.text)\n",
    "    print(A)\n",
    "for t in title:\n",
    "    T.append(t.text)"
   ]
  },
  {
   "cell_type": "code",
   "execution_count": 13,
   "metadata": {},
   "outputs": [],
   "source": [
    "s=pd.DataFrame({'Artists':A, 'Titles':T})\n"
   ]
  },
  {
   "cell_type": "code",
   "execution_count": 14,
   "metadata": {},
   "outputs": [
    {
     "data": {
      "text/html": [
       "<div>\n",
       "<style scoped>\n",
       "    .dataframe tbody tr th:only-of-type {\n",
       "        vertical-align: middle;\n",
       "    }\n",
       "\n",
       "    .dataframe tbody tr th {\n",
       "        vertical-align: top;\n",
       "    }\n",
       "\n",
       "    .dataframe thead th {\n",
       "        text-align: right;\n",
       "    }\n",
       "</style>\n",
       "<table border=\"1\" class=\"dataframe\">\n",
       "  <thead>\n",
       "    <tr style=\"text-align: right;\">\n",
       "      <th></th>\n",
       "      <th>Artists</th>\n",
       "      <th>Titles</th>\n",
       "    </tr>\n",
       "  </thead>\n",
       "  <tbody>\n",
       "    <tr>\n",
       "      <th>0</th>\n",
       "      <td>BTS</td>\n",
       "      <td>Butter</td>\n",
       "    </tr>\n",
       "    <tr>\n",
       "      <th>1</th>\n",
       "      <td>Olivia Rodrigo</td>\n",
       "      <td>Good 4 U</td>\n",
       "    </tr>\n",
       "    <tr>\n",
       "      <th>2</th>\n",
       "      <td>Dua Lipa Featuring DaBaby</td>\n",
       "      <td>Levitating</td>\n",
       "    </tr>\n",
       "    <tr>\n",
       "      <th>3</th>\n",
       "      <td>Doja Cat Featuring SZA</td>\n",
       "      <td>Kiss Me More</td>\n",
       "    </tr>\n",
       "    <tr>\n",
       "      <th>4</th>\n",
       "      <td>Lil Nas X</td>\n",
       "      <td>Montero (Call Me By Your Name)</td>\n",
       "    </tr>\n",
       "  </tbody>\n",
       "</table>\n",
       "</div>"
      ],
      "text/plain": [
       "                     Artists                          Titles\n",
       "0                        BTS                          Butter\n",
       "1             Olivia Rodrigo                        Good 4 U\n",
       "2  Dua Lipa Featuring DaBaby                      Levitating\n",
       "3     Doja Cat Featuring SZA                    Kiss Me More\n",
       "4                  Lil Nas X  Montero (Call Me By Your Name)"
      ]
     },
     "execution_count": 14,
     "metadata": {},
     "output_type": "execute_result"
    }
   ],
   "source": [
    "s.head()"
   ]
  },
  {
   "cell_type": "code",
   "execution_count": 15,
   "metadata": {},
   "outputs": [],
   "source": [
    "s.to_csv('List_songs_artist.csv')"
   ]
  },
  {
   "cell_type": "markdown",
   "metadata": {},
   "source": [
    "### Bonus"
   ]
  },
  {
   "cell_type": "markdown",
   "metadata": {},
   "source": [
    "Can you find other websites with lists of \"hot\" songs? What about songs that were popular on a certain decade? \n",
    "\n",
    "You can scrape more lists and add extra features to the project."
   ]
  },
  {
   "cell_type": "code",
   "execution_count": null,
   "metadata": {},
   "outputs": [],
   "source": [
    "url80s='https://www.timeout.com/newyork/music/the-50-best-80s-songs'"
   ]
  },
  {
   "cell_type": "code",
   "execution_count": null,
   "metadata": {},
   "outputs": [],
   "source": [
    "response80 = requests.get(url80s)"
   ]
  },
  {
   "cell_type": "code",
   "execution_count": null,
   "metadata": {},
   "outputs": [],
   "source": [
    "response80.status_code"
   ]
  },
  {
   "cell_type": "code",
   "execution_count": null,
   "metadata": {},
   "outputs": [],
   "source": [
    "soup80=BeautifulSoup(response80.content, 'html.parser')"
   ]
  },
  {
   "cell_type": "code",
   "execution_count": null,
   "metadata": {},
   "outputs": [],
   "source": [
    "print(soup80.prettify())"
   ]
  },
  {
   "cell_type": "code",
   "execution_count": null,
   "metadata": {},
   "outputs": [],
   "source": [
    "title=soup80.select('h3')\n",
    "title"
   ]
  },
  {
   "cell_type": "code",
   "execution_count": null,
   "metadata": {},
   "outputs": [],
   "source": [
    "#title[0].get_text()\n",
    "for string in soup80.h3.stripped_strings:\n",
    "    print(repr(string))"
   ]
  },
  {
   "cell_type": "code",
   "execution_count": null,
   "metadata": {},
   "outputs": [],
   "source": [
    "#body > main > article > div > div.post.content > div.text > ol:nth-child(8) > li:nth-child(3) > a:nth-child(1)"
   ]
  },
  {
   "cell_type": "code",
   "execution_count": null,
   "metadata": {},
   "outputs": [],
   "source": [
    "#musicTable > tbody > tr:nth-child(7)"
   ]
  },
  {
   "cell_type": "code",
   "execution_count": null,
   "metadata": {},
   "outputs": [],
   "source": [
    "url80s_1='https://www.emezeta.com/articulos/las-100-mejores-canciones-de-los-80'\n",
    "response80_1 = requests.get(url80s_1)\n",
    "response80_1.status_code"
   ]
  },
  {
   "cell_type": "code",
   "execution_count": null,
   "metadata": {},
   "outputs": [],
   "source": [
    "soup80_1=BeautifulSoup(response80_1.content, 'html.parser')\n",
    "print(soup80_1.prettify())"
   ]
  },
  {
   "cell_type": "code",
   "execution_count": null,
   "metadata": {},
   "outputs": [],
   "source": [
    "title_1=soup80_1.select('li a')\n",
    "title_1 "
   ]
  },
  {
   "cell_type": "code",
   "execution_count": null,
   "metadata": {
    "scrolled": true
   },
   "outputs": [],
   "source": []
  },
  {
   "cell_type": "markdown",
   "metadata": {},
   "source": [
    "## Hot songs\n"
   ]
  },
  {
   "cell_type": "code",
   "execution_count": 16,
   "metadata": {},
   "outputs": [],
   "source": [
    "from random import randint\n",
    "billtops=s\n"
   ]
  },
  {
   "cell_type": "code",
   "execution_count": 17,
   "metadata": {},
   "outputs": [
    {
     "name": "stdout",
     "output_type": "stream",
     "text": [
      "Enter a song do you like?butter\n"
     ]
    },
    {
     "data": {
      "text/html": [
       "<div>\n",
       "<style scoped>\n",
       "    .dataframe tbody tr th:only-of-type {\n",
       "        vertical-align: middle;\n",
       "    }\n",
       "\n",
       "    .dataframe tbody tr th {\n",
       "        vertical-align: top;\n",
       "    }\n",
       "\n",
       "    .dataframe thead th {\n",
       "        text-align: right;\n",
       "    }\n",
       "</style>\n",
       "<table border=\"1\" class=\"dataframe\">\n",
       "  <thead>\n",
       "    <tr style=\"text-align: right;\">\n",
       "      <th></th>\n",
       "      <th>Artists</th>\n",
       "      <th>Titles</th>\n",
       "    </tr>\n",
       "  </thead>\n",
       "  <tbody>\n",
       "    <tr>\n",
       "      <th>0</th>\n",
       "      <td>BTS</td>\n",
       "      <td>Butter</td>\n",
       "    </tr>\n",
       "  </tbody>\n",
       "</table>\n",
       "</div>"
      ],
      "text/plain": [
       "  Artists  Titles\n",
       "0     BTS  Butter"
      ]
     },
     "execution_count": 17,
     "metadata": {},
     "output_type": "execute_result"
    }
   ],
   "source": [
    "song=input('Enter a song do you like?').lower()\n",
    "song_check=billtops[billtops['Titles'].str.lower().str.contains(song)]\n",
    "song_check"
   ]
  },
  {
   "cell_type": "code",
   "execution_count": 18,
   "metadata": {},
   "outputs": [
    {
     "data": {
      "text/plain": [
       "array(['Butter', 'Good 4 U', 'Levitating', 'Kiss Me More',\n",
       "       'Montero (Call Me By Your Name)', 'Bad Habits',\n",
       "       'Leave The Door Open', 'Peaches', 'Save Your Tears', 'Deja Vu',\n",
       "       'Astronaut In The Ocean', 'Rapstar', 'You Right',\n",
       "       'Am I The Only One', 'Blinding Lights', 'Without You', 'Thot Shit',\n",
       "       'Forever After All', 'Heartbreak Anniversary', 'Fancy Like',\n",
       "       'Every Chance I Get', 'Famous Friends', 'Beautiful Mistakes',\n",
       "       'Best Friend', 'Lil Bit', 'Single Saturday Night', 'Heat Waves',\n",
       "       'Leave Before You Love Me', 'Wants And Needs', 'Yonaguni',\n",
       "       'Blame It On You', 'Late At Night', 'Drivers License', 'Telepatia',\n",
       "       'Glad You Exist', 'Mood', 'Wockesha', 'Traitor', 'Todo de Ti',\n",
       "       \"Drinkin' Beer. Talkin' God. Amen.\", \"Ain't Shit\", 'pov',\n",
       "       \"My Ex's Best Friend\", 'WUSYANAME', 'Calling My Phone', \"Beggin'\",\n",
       "       'Ball If I Want To', 'Gone', 'Wasting Time',\n",
       "       'Red Light Green Light', 'Things A Man Oughta Know',\n",
       "       'Favorite Crime', 'Settling Down', 'Way Less Sad', 'Straightenin',\n",
       "       'Ski', 'AM', 'Arcade', 'Happier', 'You', 'my.life',\n",
       "       'Chasing After You', \"Drunk (And I Don't Wanna Go Home)\",\n",
       "       'Need To Know', 'Track Star', 'One Too Many', 'Hats Off', 'Brutal',\n",
       "       'Build A Bitch', \"Breaking Up Was Easy In The 90's\",\n",
       "       'Country Again', 'Fiel', 'Renegade', 'Waves',\n",
       "       \"We Didn't Have Much\", 'Minimum Wage', 'Follow You',\n",
       "       'Jealousy, Jealousy', 'Come Through', 'Twerkulator', 'Cry No More',\n",
       "       'Essence', 'A-O-K', '4 Da Gang', 'Tombstone', 'Made For You',\n",
       "       'Having Our Way', 'My Boy', 'transparentsoul',\n",
       "       'You Should Probably Leave', 'I Was On A Boat That Day', 'Outside',\n",
       "       'Working', 'Miss The Rage', 'Cold Beer Calling My Name',\n",
       "       'All I Know So Far', \"What's Next\", 'Enough For You', 'Juggernaut',\n",
       "       'Tell Em'], dtype=object)"
      ]
     },
     "execution_count": 18,
     "metadata": {},
     "output_type": "execute_result"
    }
   ],
   "source": [
    "billtops.Titles.values"
   ]
  },
  {
   "cell_type": "code",
   "execution_count": 20,
   "metadata": {},
   "outputs": [
    {
     "name": "stdout",
     "output_type": "stream",
     "text": [
      "Enter a song do you like?butter\n",
      "Sure you like this:transparentsoul by Willow Featuring Travis Barker\n"
     ]
    }
   ],
   "source": [
    "song=input('Enter a song do you like?').title()\n",
    "if song in billtops.Titles.values:\n",
    "    other= randint(0,(len(billtops)))\n",
    "    print('Sure you like this:' + '' '' +billtops['Titles'][other] + ' by '+billtops['Artists'][other])\n",
    "else:\n",
    "   print('Your selection is not in top100')"
   ]
  },
  {
   "cell_type": "raw",
   "metadata": {},
   "source": []
  },
  {
   "cell_type": "code",
   "execution_count": null,
   "metadata": {},
   "outputs": [],
   "source": []
  },
  {
   "cell_type": "code",
   "execution_count": null,
   "metadata": {},
   "outputs": [],
   "source": []
  }
 ],
 "metadata": {
  "kernelspec": {
   "display_name": "Python 3",
   "language": "python",
   "name": "python3"
  },
  "language_info": {
   "codemirror_mode": {
    "name": "ipython",
    "version": 3
   },
   "file_extension": ".py",
   "mimetype": "text/x-python",
   "name": "python",
   "nbconvert_exporter": "python",
   "pygments_lexer": "ipython3",
   "version": "3.9.5"
  },
  "latex_envs": {
   "LaTeX_envs_menu_present": true,
   "autoclose": true,
   "autocomplete": true,
   "bibliofile": "biblio.bib",
   "cite_by": "apalike",
   "current_citInitial": 1,
   "eqLabelWithNumbers": true,
   "eqNumInitial": 1,
   "hotkeys": {
    "equation": "Ctrl-E",
    "itemize": "Ctrl-I"
   },
   "labels_anchors": false,
   "latex_user_defs": false,
   "report_style_numbering": false,
   "user_envs_cfg": true
  },
  "toc": {
   "base_numbering": 1,
   "nav_menu": {},
   "number_sections": true,
   "sideBar": true,
   "skip_h1_title": false,
   "title_cell": "Table of Contents",
   "title_sidebar": "Contents",
   "toc_cell": false,
   "toc_position": {},
   "toc_section_display": true,
   "toc_window_display": false
  },
  "varInspector": {
   "cols": {
    "lenName": 16,
    "lenType": 16,
    "lenVar": 40
   },
   "kernels_config": {
    "python": {
     "delete_cmd_postfix": "",
     "delete_cmd_prefix": "del ",
     "library": "var_list.py",
     "varRefreshCmd": "print(var_dic_list())"
    },
    "r": {
     "delete_cmd_postfix": ") ",
     "delete_cmd_prefix": "rm(",
     "library": "var_list.r",
     "varRefreshCmd": "cat(var_dic_list()) "
    }
   },
   "types_to_exclude": [
    "module",
    "function",
    "builtin_function_or_method",
    "instance",
    "_Feature"
   ],
   "window_display": false
  }
 },
 "nbformat": 4,
 "nbformat_minor": 4
}
